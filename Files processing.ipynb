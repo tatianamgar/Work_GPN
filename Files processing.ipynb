{
  "nbformat": 4,
  "nbformat_minor": 0,
  "metadata": {
    "colab": {
      "name": "write txt and json for model data.ipynb",
      "provenance": [],
      "collapsed_sections": [],
      "mount_file_id": "1kXn4UZV0xg2i8uzV-xTy2dKFfoPqbivX",
      "authorship_tag": "ABX9TyOugmJTgfGanG0fFTIFar1y",
      "include_colab_link": true
    },
    "kernelspec": {
      "name": "python3",
      "display_name": "Python 3"
    },
    "language_info": {
      "name": "python"
    }
  },
  "cells": [
    {
      "cell_type": "markdown",
      "metadata": {
        "id": "view-in-github",
        "colab_type": "text"
      },
      "source": [
        "<a href=\"https://colab.research.google.com/github/tatyanach/work-projects/blob/main/write_txt_and_json_for_model_data.ipynb\" target=\"_parent\"><img src=\"https://colab.research.google.com/assets/colab-badge.svg\" alt=\"Open In Colab\"/></a>"
      ]
    },
    {
      "cell_type": "code",
      "execution_count": null,
      "metadata": {
        "id": "COzWbfoGwqGX"
      },
      "outputs": [],
      "source": [
        "import pandas as pd\n",
        "import numpy as np\n",
        "import os\n",
        "import re\n",
        "import json\n",
        "import ast\n",
        "from pandas.api.types import is_number"
      ]
    },
    {
      "cell_type": "markdown",
      "source": [
        "\n",
        "1.   загрузили таблицы новой разметки по классам\n",
        "2.   определили функцию, которая будет читать таблицы\n",
        "3.   запустили цикл, который читает все таблицы в директории определенной нами функцией, записывает таблицы в один датафрейм, а также разбивает наименование таблицы и записывает в датафрейм класс, указанный в наименовании  \n"
      ],
      "metadata": {
        "id": "ba5I1NH1j2sT"
      }
    },
    {
      "cell_type": "code",
      "source": [
        "def reading(data):\n",
        "  df = pd.read_excel(f\"{dir}{data}\")\n",
        "  return df\n",
        "  \n",
        "concat_df = pd.DataFrame(columns=[\"word\", 'label',\"sentence\", \"class\"])\n",
        "\n",
        "dir = '/content/'\n",
        "\n"
      ],
      "metadata": {
        "id": "iQIb2nDovvzq"
      },
      "execution_count": null,
      "outputs": []
    },
    {
      "cell_type": "code",
      "source": [
        "for file in os.listdir(dir):\n",
        "  if file.endswith(\".xlsx\"):\n",
        "    df = reading(file)\n",
        "\n",
        "    separated = re.split(\"_|\\.\", file)\n",
        "    df[\"class\"] = separated[2]\n",
        "    \n",
        "\n",
        "    concat_df = pd.concat([df,concat_df], ignore_index = True)"
      ],
      "metadata": {
        "id": "tUvtmyGv7cuh"
      },
      "execution_count": null,
      "outputs": []
    },
    {
      "cell_type": "code",
      "source": [
        "# сохраняем если нужно\n",
        "# concat_df.to_csv(\"labels_and_classes_with marks.csv\", encoding = \"utf-8\")"
      ],
      "metadata": {
        "id": "Zxe-6jIy2FMI"
      },
      "execution_count": null,
      "outputs": []
    },
    {
      "cell_type": "markdown",
      "source": [
        "4. Убираем марки разметки (B-, I-) из колонки тегов\n",
        "\n",
        "\n"
      ],
      "metadata": {
        "id": "gFiIvPBdlDxB"
      }
    },
    {
      "cell_type": "code",
      "source": [
        "concat_df['label'] = concat_df['label'].apply(lambda x: x.split(\"-\")[1] if x != \"O\" else x)\n",
        "concat_df['label']"
      ],
      "metadata": {
        "id": "tD8Ze4BkAlp7"
      },
      "execution_count": null,
      "outputs": []
    },
    {
      "cell_type": "code",
      "source": [
        "concat_df['label'] = concat_df['label'].apply(lambda x: x.replace(x, \"коррозия(припуск/защита)\") if x == \"коррозия (припуск/защита)\" else x)"
      ],
      "metadata": {
        "id": "7QwOjAoZ4BXk"
      },
      "execution_count": null,
      "outputs": []
    },
    {
      "cell_type": "code",
      "source": [
        "# сохраняем если нужно\n",
        "concat_df.to_csv(\"labels_and_classes.csv\", encoding = \"utf-8\")"
      ],
      "metadata": {
        "id": "BIU43oHnlB4t"
      },
      "execution_count": null,
      "outputs": []
    },
    {
      "cell_type": "markdown",
      "source": [
        "**class_labels**\n",
        "\n",
        "---\n",
        "\n",
        "\n",
        "\n",
        "словарь, где ключ - номер класса, а значение - лист его тегов"
      ],
      "metadata": {
        "id": "gGN2GI8tljoO"
      }
    },
    {
      "cell_type": "code",
      "source": [
        "#группируем по классам и записывает все теги класса в лист\n",
        "tags_df = concat_df.groupby('class')['label'].apply(list).reset_index(name='теги')"
      ],
      "metadata": {
        "id": "pQjZk3LXZ19q"
      },
      "execution_count": null,
      "outputs": []
    },
    {
      "cell_type": "code",
      "source": [
        "#оставляем только уникальные значения тегов\n",
        "tags_df['теги'] = tags_df['теги'].apply(lambda x: list(set(x)))\n",
        "tags_df"
      ],
      "metadata": {
        "id": "Th8zOkNXlruY"
      },
      "execution_count": null,
      "outputs": []
    },
    {
      "cell_type": "code",
      "source": [
        "# сохраняем если необходимо\n",
        "tags_df.to_csv(\"tags_new classes.csv\", encoding = \"utf-8\")"
      ],
      "metadata": {
        "id": "uKUY2-Twqea-"
      },
      "execution_count": null,
      "outputs": []
    },
    {
      "cell_type": "code",
      "source": [
        "#создаем словарь, где ключ - номер класса, значение - лист его тегов\n",
        "mydict = dict(zip(tags_df[\"class\"], tags_df['теги']))\n",
        "mydict"
      ],
      "metadata": {
        "id": "2ve4igf01VlY"
      },
      "execution_count": null,
      "outputs": []
    },
    {
      "cell_type": "code",
      "source": [
        "#открываем старый текстовый файл\n",
        "with open(\"/content/class_labels.txt\", 'r') as f:\n",
        "  data_txt = f.read()\n",
        "result = ast.literal_eval(data_txt)"
      ],
      "metadata": {
        "id": "HhOVzvoC0SMN"
      },
      "execution_count": null,
      "outputs": []
    },
    {
      "cell_type": "code",
      "source": [
        "result"
      ],
      "metadata": {
        "id": "tMKbUQVFecKS"
      },
      "execution_count": null,
      "outputs": []
    },
    {
      "cell_type": "code",
      "source": [
        "# записываем в старый текстовый файл недостающие новые данные\n",
        "for key,value in mydict.items():\n",
        "  if key not in result:\n",
        "    result[key]= value\n",
        "  else:\n",
        "      for i in value:\n",
        "          if i in result[key]:\n",
        "            continue\n",
        "          else:\n",
        "              result[key].append(i)\n",
        "\n"
      ],
      "metadata": {
        "id": "T0Hu-O6TEOXL"
      },
      "execution_count": null,
      "outputs": []
    },
    {
      "cell_type": "markdown",
      "source": [
        "Далее необходимо удалить ненужные уже теги, которые пришли со старым текстовым файлом. Запускаем цикл, который удаляет старые теги, если они присутствуют в словаре."
      ],
      "metadata": {
        "id": "OaGGNW74mR3O"
      }
    },
    {
      "cell_type": "code",
      "source": [
        "deleted_tags = [\"НД основной\", \"климатическое исполнение\", \"длина\", 'ширина', 'высота', 'толщина'\n",
        "                'Артикул', 'толщина покрытия', 'вес', 'вес/грузоподъемность', 'грузоподъемность', 'масса/объем', \n",
        "                'сезон/темп.режим', 'категория'\n",
        "                ]\n",
        "\n",
        "for key,value in result.items():\n",
        "  for i in value:\n",
        "    if i in deleted_tags:\n",
        "      value.remove(i)"
      ],
      "metadata": {
        "id": "vu0Kme-Zgsxr"
      },
      "execution_count": null,
      "outputs": []
    },
    {
      "cell_type": "code",
      "source": [
        "result"
      ],
      "metadata": {
        "id": "5yWcGW0bjDMA"
      },
      "execution_count": null,
      "outputs": []
    },
    {
      "cell_type": "markdown",
      "source": [
        "сохраняем все в файлы\n"
      ],
      "metadata": {
        "id": "HY8J47KzMa9P"
      }
    },
    {
      "cell_type": "code",
      "source": [
        "result_txt = json.dumps(result, ensure_ascii=False)\n",
        "\n",
        "with open(\"class_labels.txt\", \"w\", encoding= 'utf-8') as text_file:\n",
        "    text_file.write(result_txt)"
      ],
      "metadata": {
        "id": "s1vv5ZGpMgqX"
      },
      "execution_count": null,
      "outputs": []
    },
    {
      "cell_type": "code",
      "source": [
        "with open(\"class_labels.json\", \"w\", encoding= \"utf-8\") as fp:\n",
        "    json.dump(result, fp, ensure_ascii=False) "
      ],
      "metadata": {
        "id": "KPdWw4I-NDW_"
      },
      "execution_count": null,
      "outputs": []
    },
    {
      "cell_type": "markdown",
      "source": [
        "**PRODUCT CLASS**\n",
        "\n",
        "\n",
        "---\n",
        "словарь, где значение - вид изделия, ключ - лист из классов, в которых изделие встречается\n"
      ],
      "metadata": {
        "id": "Hjd_aMK2S-0i"
      }
    },
    {
      "cell_type": "code",
      "source": [
        "concat_df = pd.read_csv(\"/content/labels_and_classes.csv\")\n",
        "\n",
        "# concat_df['label'] = concat_df['label'].apply(lambda x: x.split(\"-\")[1] if x != \"O\" else x)\n",
        "\n",
        "df = concat_df[[\"label\",\"class\",\"word\"]]\n",
        "df = df[df[\"label\"] == 'Вид изделия']"
      ],
      "metadata": {
        "id": "BEmkz3uR2X6Y"
      },
      "execution_count": null,
      "outputs": []
    },
    {
      "cell_type": "code",
      "source": [
        "#чистим данные от символов отличных от русского алфавита\n",
        "dropped = df.drop(df[df.word.str.contains(r'[^А-ЯЁа-яё\\- ]') ].index)\n",
        "dropped"
      ],
      "metadata": {
        "id": "qgSbRaxrHwgX"
      },
      "execution_count": null,
      "outputs": []
    },
    {
      "cell_type": "code",
      "source": [
        "#чистим данные от слишком коротких записей\n",
        "dropped = dropped.drop(dropped[dropped[\"word\"].apply(lambda x:0 if len(x)== 1 or len(x)==2 else x) == 0].index)\n",
        "dropped\n"
      ],
      "metadata": {
        "id": "_azL4nTq3fNG"
      },
      "execution_count": null,
      "outputs": []
    },
    {
      "cell_type": "code",
      "source": [
        "#группируем по изделию и формируем список классов для изделия\n",
        "materials_df = dropped.groupby('word')['class'].apply(list).reset_index(name='классы')\n",
        "materials_df['классы'] = materials_df['классы'].apply(lambda x: list(set(x)))\n",
        "materials_df.to_csv(\"materials in classes.csv\")\n"
      ],
      "metadata": {
        "id": "ETn8d0CxYVzL"
      },
      "execution_count": null,
      "outputs": []
    },
    {
      "cell_type": "code",
      "source": [
        "#генерируем словарь \n",
        "mydict = dict(zip(materials_df[\"word\"], materials_df['классы']))\n",
        "mydict"
      ],
      "metadata": {
        "id": "Be51V-68H5K6"
      },
      "execution_count": null,
      "outputs": []
    },
    {
      "cell_type": "code",
      "source": [
        "with open(\"/content/class_product.txt\", 'r') as f:\n",
        "  data_txt = f.read()\n",
        "result = ast.literal_eval(data_txt)"
      ],
      "metadata": {
        "id": "mR-61OnBIzhT"
      },
      "execution_count": null,
      "outputs": []
    },
    {
      "cell_type": "code",
      "source": [
        "#записываем в старый текстовый файл те изделия и классы, которых не хватает\n",
        "for key,value in mydict.items():\n",
        "  if key not in result:\n",
        "    result[key]= value\n",
        "  else:\n",
        "      for i in value:\n",
        "          if i in result[key]:\n",
        "            continue\n",
        "          else:\n",
        "              result[key].append(i)"
      ],
      "metadata": {
        "id": "EuYu-GUgJELb"
      },
      "execution_count": null,
      "outputs": []
    },
    {
      "cell_type": "code",
      "source": [
        "#сохраняем результат\n",
        "result_txt = json.dumps(result, ensure_ascii=False)\n",
        "\n",
        "with open(\"class_product.txt\", \"w\", encoding= 'utf-8') as text_file:\n",
        "    text_file.write(result_txt)\n",
        "\n",
        "with open(\"class_product.json\", \"w\", encoding= \"utf-8\") as fp:\n",
        "    json.dump(result, fp, ensure_ascii=False) "
      ],
      "metadata": {
        "id": "zecFV2U2Ll-g"
      },
      "execution_count": null,
      "outputs": []
    },
    {
      "cell_type": "markdown",
      "source": [
        "**label_enrichment**\n",
        "\n",
        "\n",
        "---\n",
        "текстовый файл, в котором указаны теги, для которых будет осуществляться value_augmentation()/агументация, необходимая для того, чтобы модель распознавала эти теги при разных числовых значениях и не привязывалась к конкретным числам"
      ],
      "metadata": {
        "id": "teP7TN_EX-C5"
      }
    },
    {
      "cell_type": "code",
      "source": [
        "concat_df = pd.read_csv(\"/content/labels_and_classes_with marks.csv\")"
      ],
      "metadata": {
        "id": "0MmSBfC1YAR4"
      },
      "execution_count": null,
      "outputs": []
    },
    {
      "cell_type": "code",
      "source": [
        "concat_df['word'] = concat_df['word'].apply(lambda x: x.replace(\",\", '.'))"
      ],
      "metadata": {
        "id": "272v9DQaXUYH"
      },
      "execution_count": null,
      "outputs": []
    },
    {
      "cell_type": "code",
      "source": [
        "type(concat_df.iloc[2,1])"
      ],
      "metadata": {
        "colab": {
          "base_uri": "https://localhost:8080/"
        },
        "id": "QqRgMCyZYiJY",
        "outputId": "1c3b4765-d04f-4526-b762-ad620c17e6af"
      },
      "execution_count": null,
      "outputs": [
        {
          "output_type": "execute_result",
          "data": {
            "text/plain": [
              "str"
            ]
          },
          "metadata": {},
          "execution_count": 168
        }
      ]
    },
    {
      "cell_type": "code",
      "source": [
        "# concat_df = concat_df[]\n",
        "concat_df['Num'] = concat_df['word'].apply(lambda x: 1 if is_number(pd.to_numeric(x, errors='ignore')) else 0 )\n"
      ],
      "metadata": {
        "id": "vNil8Lh09o3P"
      },
      "execution_count": null,
      "outputs": []
    },
    {
      "cell_type": "code",
      "source": [
        "num_data = concat_df[concat_df['Num'] == 1]\n",
        "\n",
        "num_data = num_data[['label']]\n",
        "num_data = num_data.drop_duplicates(ignore_index=True)\n",
        "num_data"
      ],
      "metadata": {
        "id": "53DlrmZ3adpa"
      },
      "execution_count": null,
      "outputs": []
    },
    {
      "cell_type": "code",
      "source": [
        "with open(\"/content/labels_enrichment.txt\", 'r') as f:\n",
        "  data_txt = f.readlines()\n",
        "  result = [line.rstrip() for line in data_txt]\n"
      ],
      "metadata": {
        "id": "PDT3taR4ZOQ2"
      },
      "execution_count": null,
      "outputs": []
    },
    {
      "cell_type": "code",
      "source": [
        "deleted_tags = [\"НД основной\", \"климатическое исполнение\", \"длина\", 'ширина', 'высота', 'толщина',\n",
        "                'Артикул', 'толщина покрытия', 'вес', 'вес/грузоподъемность', 'грузоподъемность', 'масса/объем', \n",
        "                'сезон/темп.режим', 'категория', \"коррозия (припуск/защита)\"\n",
        "                ]\n",
        "del_marked = []\n",
        "for i in deleted_tags:\n",
        "  del_marked.append('B-'+i)\n",
        "  del_marked.append('I-'+i)\n",
        "  \n",
        "  if i == deleted_tags[-1]:\n",
        "     break\n",
        "\n"
      ],
      "metadata": {
        "id": "JZiPomx9U-gZ"
      },
      "execution_count": null,
      "outputs": []
    },
    {
      "cell_type": "code",
      "source": [
        "num_list = num_data['label'].to_list()\n"
      ],
      "metadata": {
        "id": "NlJtQLKziuUx"
      },
      "execution_count": null,
      "outputs": []
    },
    {
      "cell_type": "code",
      "source": [
        "\n",
        "for w in num_list:\n",
        "  if w in del_marked:\n",
        "    num_list.remove(w)\n"
      ],
      "metadata": {
        "id": "MidrMT8bfUrn"
      },
      "execution_count": null,
      "outputs": []
    },
    {
      "cell_type": "markdown",
      "source": [
        "далее необходимо еще исключить основные теги из списка, а также те, которые не нуждаются в аугментации (для этого нужна более подробная аналитика показателей по тегам)"
      ],
      "metadata": {
        "id": "-EwuORzskjw0"
      }
    },
    {
      "cell_type": "code",
      "source": [
        "num_list"
      ],
      "metadata": {
        "id": "sA49Tc0Bi7Tv"
      },
      "execution_count": null,
      "outputs": []
    }
  ]
}
