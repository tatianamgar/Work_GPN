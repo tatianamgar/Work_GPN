{
  "cells": [
    {
      "cell_type": "code",
      "execution_count": null,
      "metadata": {
        "id": "4KQJ0uZMQb-P"
      },
      "outputs": [],
      "source": [
        "import pandas as pd"
      ]
    },
    {
      "cell_type": "code",
      "source": [
        "from google.colab import drive\n",
        "drive.mount('/content/drive')"
      ],
      "metadata": {
        "colab": {
          "base_uri": "https://localhost:8080/"
        },
        "id": "8gueAn2NQrb-",
        "outputId": "8957f75e-8e75-4a42-8bbe-68c592ba08bc"
      },
      "execution_count": null,
      "outputs": [
        {
          "output_type": "stream",
          "name": "stdout",
          "text": [
            "Mounted at /content/drive\n"
          ]
        }
      ]
    },
    {
      "cell_type": "code",
      "source": [
        "!pip install openpyxl==3.0.0"
      ],
      "metadata": {
        "colab": {
          "base_uri": "https://localhost:8080/"
        },
        "id": "p9VkuHAmQvVD",
        "outputId": "d0d6563c-5f73-49f4-f5ae-288bbf587ac6"
      },
      "execution_count": null,
      "outputs": [
        {
          "output_type": "stream",
          "name": "stdout",
          "text": [
            "Collecting openpyxl==3.0.0\n",
            "  Downloading openpyxl-3.0.0.tar.gz (172 kB)\n",
            "\u001b[K     |████████████████████████████████| 172 kB 4.3 MB/s \n",
            "\u001b[?25hCollecting jdcal\n",
            "  Downloading jdcal-1.4.1-py2.py3-none-any.whl (9.5 kB)\n",
            "Requirement already satisfied: et_xmlfile in /usr/local/lib/python3.7/dist-packages (from openpyxl==3.0.0) (1.1.0)\n",
            "Building wheels for collected packages: openpyxl\n",
            "  Building wheel for openpyxl (setup.py) ... \u001b[?25l\u001b[?25hdone\n",
            "  Created wheel for openpyxl: filename=openpyxl-3.0.0-py2.py3-none-any.whl size=241207 sha256=7a41c9f0a2cbe672573404903ff552543f9b9ecdad1d68f9ae8721824c3ebaf6\n",
            "  Stored in directory: /root/.cache/pip/wheels/c7/64/ff/ce98f6e1d2701ae8e216c875da62feed2839ac8a3cae0ab8af\n",
            "Successfully built openpyxl\n",
            "Installing collected packages: jdcal, openpyxl\n",
            "  Attempting uninstall: openpyxl\n",
            "    Found existing installation: openpyxl 3.0.9\n",
            "    Uninstalling openpyxl-3.0.9:\n",
            "      Successfully uninstalled openpyxl-3.0.9\n",
            "Successfully installed jdcal-1.4.1 openpyxl-3.0.0\n"
          ]
        }
      ]
    },
    {
      "cell_type": "code",
      "execution_count": null,
      "metadata": {
        "scrolled": true,
        "colab": {
          "base_uri": "https://localhost:8080/",
          "height": 423
        },
        "id": "Zb-FeLbZQb-W",
        "outputId": "dbc42f5d-8cd4-473c-873f-5bd5196e167f"
      },
      "outputs": [
        {
          "output_type": "execute_result",
          "data": {
            "text/html": [
              "\n",
              "  <div id=\"df-564726ce-482a-40c9-8099-d17534f3b2e8\">\n",
              "    <div class=\"colab-df-container\">\n",
              "      <div>\n",
              "<style scoped>\n",
              "    .dataframe tbody tr th:only-of-type {\n",
              "        vertical-align: middle;\n",
              "    }\n",
              "\n",
              "    .dataframe tbody tr th {\n",
              "        vertical-align: top;\n",
              "    }\n",
              "\n",
              "    .dataframe thead th {\n",
              "        text-align: right;\n",
              "    }\n",
              "</style>\n",
              "<table border=\"1\" class=\"dataframe\">\n",
              "  <thead>\n",
              "    <tr style=\"text-align: right;\">\n",
              "      <th></th>\n",
              "      <th>Полное наименование ru</th>\n",
              "    </tr>\n",
              "  </thead>\n",
              "  <tbody>\n",
              "    <tr>\n",
              "      <th>0</th>\n",
              "      <td>Розетка телефонная внешняя двойная RJ-12</td>\n",
              "    </tr>\n",
              "    <tr>\n",
              "      <th>1</th>\n",
              "      <td>Кабель Cisco/CAB-GS-1M= StackWise 1M Stacking ...</td>\n",
              "    </tr>\n",
              "    <tr>\n",
              "      <th>2</th>\n",
              "      <td>ТЕЛЕФОННЫЙ АППАРАТ SIEMENS 5020</td>\n",
              "    </tr>\n",
              "    <tr>\n",
              "      <th>3</th>\n",
              "      <td>Телефон Cisco IP Phone 7911G (CP-7911G)</td>\n",
              "    </tr>\n",
              "    <tr>\n",
              "      <th>4</th>\n",
              "      <td>Cистема производственно технологической громко...</td>\n",
              "    </tr>\n",
              "    <tr>\n",
              "      <th>...</th>\n",
              "      <td>...</td>\n",
              "    </tr>\n",
              "    <tr>\n",
              "      <th>9821</th>\n",
              "      <td>АДАПТЕР REDA 1</td>\n",
              "    </tr>\n",
              "    <tr>\n",
              "      <th>9822</th>\n",
              "      <td>Антенна</td>\n",
              "    </tr>\n",
              "    <tr>\n",
              "      <th>9823</th>\n",
              "      <td>ТЕЛЕФОН СОТОВЫЙ SIEMENS M 50</td>\n",
              "    </tr>\n",
              "    <tr>\n",
              "      <th>9824</th>\n",
              "      <td>ТЕЛЕФОН СОТОВЫЙ PHILIPS 625</td>\n",
              "    </tr>\n",
              "    <tr>\n",
              "      <th>9825</th>\n",
              "      <td>-</td>\n",
              "    </tr>\n",
              "  </tbody>\n",
              "</table>\n",
              "<p>9826 rows × 1 columns</p>\n",
              "</div>\n",
              "      <button class=\"colab-df-convert\" onclick=\"convertToInteractive('df-564726ce-482a-40c9-8099-d17534f3b2e8')\"\n",
              "              title=\"Convert this dataframe to an interactive table.\"\n",
              "              style=\"display:none;\">\n",
              "        \n",
              "  <svg xmlns=\"http://www.w3.org/2000/svg\" height=\"24px\"viewBox=\"0 0 24 24\"\n",
              "       width=\"24px\">\n",
              "    <path d=\"M0 0h24v24H0V0z\" fill=\"none\"/>\n",
              "    <path d=\"M18.56 5.44l.94 2.06.94-2.06 2.06-.94-2.06-.94-.94-2.06-.94 2.06-2.06.94zm-11 1L8.5 8.5l.94-2.06 2.06-.94-2.06-.94L8.5 2.5l-.94 2.06-2.06.94zm10 10l.94 2.06.94-2.06 2.06-.94-2.06-.94-.94-2.06-.94 2.06-2.06.94z\"/><path d=\"M17.41 7.96l-1.37-1.37c-.4-.4-.92-.59-1.43-.59-.52 0-1.04.2-1.43.59L10.3 9.45l-7.72 7.72c-.78.78-.78 2.05 0 2.83L4 21.41c.39.39.9.59 1.41.59.51 0 1.02-.2 1.41-.59l7.78-7.78 2.81-2.81c.8-.78.8-2.07 0-2.86zM5.41 20L4 18.59l7.72-7.72 1.47 1.35L5.41 20z\"/>\n",
              "  </svg>\n",
              "      </button>\n",
              "      \n",
              "  <style>\n",
              "    .colab-df-container {\n",
              "      display:flex;\n",
              "      flex-wrap:wrap;\n",
              "      gap: 12px;\n",
              "    }\n",
              "\n",
              "    .colab-df-convert {\n",
              "      background-color: #E8F0FE;\n",
              "      border: none;\n",
              "      border-radius: 50%;\n",
              "      cursor: pointer;\n",
              "      display: none;\n",
              "      fill: #1967D2;\n",
              "      height: 32px;\n",
              "      padding: 0 0 0 0;\n",
              "      width: 32px;\n",
              "    }\n",
              "\n",
              "    .colab-df-convert:hover {\n",
              "      background-color: #E2EBFA;\n",
              "      box-shadow: 0px 1px 2px rgba(60, 64, 67, 0.3), 0px 1px 3px 1px rgba(60, 64, 67, 0.15);\n",
              "      fill: #174EA6;\n",
              "    }\n",
              "\n",
              "    [theme=dark] .colab-df-convert {\n",
              "      background-color: #3B4455;\n",
              "      fill: #D2E3FC;\n",
              "    }\n",
              "\n",
              "    [theme=dark] .colab-df-convert:hover {\n",
              "      background-color: #434B5C;\n",
              "      box-shadow: 0px 1px 3px 1px rgba(0, 0, 0, 0.15);\n",
              "      filter: drop-shadow(0px 1px 2px rgba(0, 0, 0, 0.3));\n",
              "      fill: #FFFFFF;\n",
              "    }\n",
              "  </style>\n",
              "\n",
              "      <script>\n",
              "        const buttonEl =\n",
              "          document.querySelector('#df-564726ce-482a-40c9-8099-d17534f3b2e8 button.colab-df-convert');\n",
              "        buttonEl.style.display =\n",
              "          google.colab.kernel.accessAllowed ? 'block' : 'none';\n",
              "\n",
              "        async function convertToInteractive(key) {\n",
              "          const element = document.querySelector('#df-564726ce-482a-40c9-8099-d17534f3b2e8');\n",
              "          const dataTable =\n",
              "            await google.colab.kernel.invokeFunction('convertToInteractive',\n",
              "                                                     [key], {});\n",
              "          if (!dataTable) return;\n",
              "\n",
              "          const docLinkHtml = 'Like what you see? Visit the ' +\n",
              "            '<a target=\"_blank\" href=https://colab.research.google.com/notebooks/data_table.ipynb>data table notebook</a>'\n",
              "            + ' to learn more about interactive tables.';\n",
              "          element.innerHTML = '';\n",
              "          dataTable['output_type'] = 'display_data';\n",
              "          await google.colab.output.renderOutput(dataTable, element);\n",
              "          const docLink = document.createElement('div');\n",
              "          docLink.innerHTML = docLinkHtml;\n",
              "          element.appendChild(docLink);\n",
              "        }\n",
              "      </script>\n",
              "    </div>\n",
              "  </div>\n",
              "  "
            ],
            "text/plain": [
              "                                 Полное наименование ru\n",
              "0              Розетка телефонная внешняя двойная RJ-12\n",
              "1     Кабель Cisco/CAB-GS-1M= StackWise 1M Stacking ...\n",
              "2                       ТЕЛЕФОННЫЙ АППАРАТ SIEMENS 5020\n",
              "3               Телефон Cisco IP Phone 7911G (CP-7911G)\n",
              "4     Cистема производственно технологической громко...\n",
              "...                                                 ...\n",
              "9821                                     АДАПТЕР REDA 1\n",
              "9822                                            Антенна\n",
              "9823                       ТЕЛЕФОН СОТОВЫЙ SIEMENS M 50\n",
              "9824                        ТЕЛЕФОН СОТОВЫЙ PHILIPS 625\n",
              "9825                                                  -\n",
              "\n",
              "[9826 rows x 1 columns]"
            ]
          },
          "metadata": {},
          "execution_count": 4
        }
      ],
      "source": [
        "df = pd.read_excel(\"/content/g28.xlsx\")\n",
        "df"
      ]
    },
    {
      "cell_type": "code",
      "execution_count": null,
      "metadata": {
        "id": "SURNI0QMQb-c"
      },
      "outputs": [],
      "source": [
        "data = df[[\"Полное наименование ru\"]]\n",
        "data = data.rename(columns={'Полное наименование ru':\"text\"})\n",
        "data = data.dropna(subset=['text'])"
      ]
    },
    {
      "cell_type": "code",
      "execution_count": null,
      "metadata": {
        "id": "_7CEWJxYQb-e",
        "outputId": "b75c93d5-55d4-450b-e2e3-b222f417fe4c",
        "colab": {
          "base_uri": "https://localhost:8080/",
          "height": 423
        }
      },
      "outputs": [
        {
          "output_type": "execute_result",
          "data": {
            "text/html": [
              "\n",
              "  <div id=\"df-d213ab7a-7b5b-46f7-9c62-fc764599215f\">\n",
              "    <div class=\"colab-df-container\">\n",
              "      <div>\n",
              "<style scoped>\n",
              "    .dataframe tbody tr th:only-of-type {\n",
              "        vertical-align: middle;\n",
              "    }\n",
              "\n",
              "    .dataframe tbody tr th {\n",
              "        vertical-align: top;\n",
              "    }\n",
              "\n",
              "    .dataframe thead th {\n",
              "        text-align: right;\n",
              "    }\n",
              "</style>\n",
              "<table border=\"1\" class=\"dataframe\">\n",
              "  <thead>\n",
              "    <tr style=\"text-align: right;\">\n",
              "      <th></th>\n",
              "      <th>text</th>\n",
              "    </tr>\n",
              "  </thead>\n",
              "  <tbody>\n",
              "    <tr>\n",
              "      <th>0</th>\n",
              "      <td>Розетка телефонная внешняя двойная RJ-12</td>\n",
              "    </tr>\n",
              "    <tr>\n",
              "      <th>1</th>\n",
              "      <td>Кабель Cisco/CAB-GS-1M= StackWise 1M Stacking ...</td>\n",
              "    </tr>\n",
              "    <tr>\n",
              "      <th>2</th>\n",
              "      <td>ТЕЛЕФОННЫЙ АППАРАТ SIEMENS 5020</td>\n",
              "    </tr>\n",
              "    <tr>\n",
              "      <th>3</th>\n",
              "      <td>Телефон Cisco IP Phone 7911G (CP-7911G)</td>\n",
              "    </tr>\n",
              "    <tr>\n",
              "      <th>4</th>\n",
              "      <td>Cистема производственно технологической громко...</td>\n",
              "    </tr>\n",
              "    <tr>\n",
              "      <th>...</th>\n",
              "      <td>...</td>\n",
              "    </tr>\n",
              "    <tr>\n",
              "      <th>9821</th>\n",
              "      <td>АДАПТЕР REDA 1</td>\n",
              "    </tr>\n",
              "    <tr>\n",
              "      <th>9822</th>\n",
              "      <td>Антенна</td>\n",
              "    </tr>\n",
              "    <tr>\n",
              "      <th>9823</th>\n",
              "      <td>ТЕЛЕФОН СОТОВЫЙ SIEMENS M 50</td>\n",
              "    </tr>\n",
              "    <tr>\n",
              "      <th>9824</th>\n",
              "      <td>ТЕЛЕФОН СОТОВЫЙ PHILIPS 625</td>\n",
              "    </tr>\n",
              "    <tr>\n",
              "      <th>9825</th>\n",
              "      <td>-</td>\n",
              "    </tr>\n",
              "  </tbody>\n",
              "</table>\n",
              "<p>9826 rows × 1 columns</p>\n",
              "</div>\n",
              "      <button class=\"colab-df-convert\" onclick=\"convertToInteractive('df-d213ab7a-7b5b-46f7-9c62-fc764599215f')\"\n",
              "              title=\"Convert this dataframe to an interactive table.\"\n",
              "              style=\"display:none;\">\n",
              "        \n",
              "  <svg xmlns=\"http://www.w3.org/2000/svg\" height=\"24px\"viewBox=\"0 0 24 24\"\n",
              "       width=\"24px\">\n",
              "    <path d=\"M0 0h24v24H0V0z\" fill=\"none\"/>\n",
              "    <path d=\"M18.56 5.44l.94 2.06.94-2.06 2.06-.94-2.06-.94-.94-2.06-.94 2.06-2.06.94zm-11 1L8.5 8.5l.94-2.06 2.06-.94-2.06-.94L8.5 2.5l-.94 2.06-2.06.94zm10 10l.94 2.06.94-2.06 2.06-.94-2.06-.94-.94-2.06-.94 2.06-2.06.94z\"/><path d=\"M17.41 7.96l-1.37-1.37c-.4-.4-.92-.59-1.43-.59-.52 0-1.04.2-1.43.59L10.3 9.45l-7.72 7.72c-.78.78-.78 2.05 0 2.83L4 21.41c.39.39.9.59 1.41.59.51 0 1.02-.2 1.41-.59l7.78-7.78 2.81-2.81c.8-.78.8-2.07 0-2.86zM5.41 20L4 18.59l7.72-7.72 1.47 1.35L5.41 20z\"/>\n",
              "  </svg>\n",
              "      </button>\n",
              "      \n",
              "  <style>\n",
              "    .colab-df-container {\n",
              "      display:flex;\n",
              "      flex-wrap:wrap;\n",
              "      gap: 12px;\n",
              "    }\n",
              "\n",
              "    .colab-df-convert {\n",
              "      background-color: #E8F0FE;\n",
              "      border: none;\n",
              "      border-radius: 50%;\n",
              "      cursor: pointer;\n",
              "      display: none;\n",
              "      fill: #1967D2;\n",
              "      height: 32px;\n",
              "      padding: 0 0 0 0;\n",
              "      width: 32px;\n",
              "    }\n",
              "\n",
              "    .colab-df-convert:hover {\n",
              "      background-color: #E2EBFA;\n",
              "      box-shadow: 0px 1px 2px rgba(60, 64, 67, 0.3), 0px 1px 3px 1px rgba(60, 64, 67, 0.15);\n",
              "      fill: #174EA6;\n",
              "    }\n",
              "\n",
              "    [theme=dark] .colab-df-convert {\n",
              "      background-color: #3B4455;\n",
              "      fill: #D2E3FC;\n",
              "    }\n",
              "\n",
              "    [theme=dark] .colab-df-convert:hover {\n",
              "      background-color: #434B5C;\n",
              "      box-shadow: 0px 1px 3px 1px rgba(0, 0, 0, 0.15);\n",
              "      filter: drop-shadow(0px 1px 2px rgba(0, 0, 0, 0.3));\n",
              "      fill: #FFFFFF;\n",
              "    }\n",
              "  </style>\n",
              "\n",
              "      <script>\n",
              "        const buttonEl =\n",
              "          document.querySelector('#df-d213ab7a-7b5b-46f7-9c62-fc764599215f button.colab-df-convert');\n",
              "        buttonEl.style.display =\n",
              "          google.colab.kernel.accessAllowed ? 'block' : 'none';\n",
              "\n",
              "        async function convertToInteractive(key) {\n",
              "          const element = document.querySelector('#df-d213ab7a-7b5b-46f7-9c62-fc764599215f');\n",
              "          const dataTable =\n",
              "            await google.colab.kernel.invokeFunction('convertToInteractive',\n",
              "                                                     [key], {});\n",
              "          if (!dataTable) return;\n",
              "\n",
              "          const docLinkHtml = 'Like what you see? Visit the ' +\n",
              "            '<a target=\"_blank\" href=https://colab.research.google.com/notebooks/data_table.ipynb>data table notebook</a>'\n",
              "            + ' to learn more about interactive tables.';\n",
              "          element.innerHTML = '';\n",
              "          dataTable['output_type'] = 'display_data';\n",
              "          await google.colab.output.renderOutput(dataTable, element);\n",
              "          const docLink = document.createElement('div');\n",
              "          docLink.innerHTML = docLinkHtml;\n",
              "          element.appendChild(docLink);\n",
              "        }\n",
              "      </script>\n",
              "    </div>\n",
              "  </div>\n",
              "  "
            ],
            "text/plain": [
              "                                                   text\n",
              "0              Розетка телефонная внешняя двойная RJ-12\n",
              "1     Кабель Cisco/CAB-GS-1M= StackWise 1M Stacking ...\n",
              "2                       ТЕЛЕФОННЫЙ АППАРАТ SIEMENS 5020\n",
              "3               Телефон Cisco IP Phone 7911G (CP-7911G)\n",
              "4     Cистема производственно технологической громко...\n",
              "...                                                 ...\n",
              "9821                                     АДАПТЕР REDA 1\n",
              "9822                                            Антенна\n",
              "9823                       ТЕЛЕФОН СОТОВЫЙ SIEMENS M 50\n",
              "9824                        ТЕЛЕФОН СОТОВЫЙ PHILIPS 625\n",
              "9825                                                  -\n",
              "\n",
              "[9826 rows x 1 columns]"
            ]
          },
          "metadata": {},
          "execution_count": 6
        }
      ],
      "source": [
        "data"
      ]
    },
    {
      "cell_type": "code",
      "execution_count": null,
      "metadata": {
        "id": "-JuI4WfiQb-h",
        "outputId": "1bc48818-ac0c-4f0d-9edf-a72571320653",
        "colab": {
          "base_uri": "https://localhost:8080/"
        }
      },
      "outputs": [
        {
          "output_type": "stream",
          "name": "stdout",
          "text": [
            "Requirement already satisfied: gensim in /usr/local/lib/python3.7/dist-packages (3.6.0)\n",
            "Requirement already satisfied: smart-open>=1.2.1 in /usr/local/lib/python3.7/dist-packages (from gensim) (5.2.1)\n",
            "Requirement already satisfied: six>=1.5.0 in /usr/local/lib/python3.7/dist-packages (from gensim) (1.15.0)\n",
            "Requirement already satisfied: scipy>=0.18.1 in /usr/local/lib/python3.7/dist-packages (from gensim) (1.4.1)\n",
            "Requirement already satisfied: numpy>=1.11.3 in /usr/local/lib/python3.7/dist-packages (from gensim) (1.21.5)\n"
          ]
        }
      ],
      "source": [
        "!pip install gensim"
      ]
    },
    {
      "cell_type": "code",
      "execution_count": null,
      "metadata": {
        "id": "0uqXHS29Qb-i"
      },
      "outputs": [],
      "source": [
        "import gensim\n",
        "import gensim.downloader as api"
      ]
    },
    {
      "cell_type": "code",
      "execution_count": null,
      "metadata": {
        "id": "3TLz-7FMQb-j",
        "outputId": "79d5da51-05d2-481c-8e23-096148561605",
        "colab": {
          "base_uri": "https://localhost:8080/"
        }
      },
      "outputs": [
        {
          "output_type": "stream",
          "name": "stdout",
          "text": [
            "[TaggedDocument(words='text', tags=[0])]\n"
          ]
        }
      ],
      "source": [
        "# Create the tagged document needed for Doc2Vec\n",
        "def create_tagged_document(list_of_list_of_words):\n",
        "    for i, list_of_words in enumerate(list_of_list_of_words):\n",
        "        yield gensim.models.doc2vec.TaggedDocument(list_of_words, [i])\n",
        "train_data = list(create_tagged_document(data))\n",
        "print(train_data[:1])"
      ]
    },
    {
      "cell_type": "code",
      "execution_count": null,
      "metadata": {
        "id": "UR_hfJN4Qb-l"
      },
      "outputs": [],
      "source": [
        "# Init the Doc2Vec model\n",
        "model = gensim.models.doc2vec.Doc2Vec(vector_size=50, min_count=2, epochs=40)\n",
        "# Build the Volabulary\n",
        "model.build_vocab(train_data)\n",
        "# Train the Doc2Vec model\n",
        "model.train(train_data, total_examples=model.corpus_count, epochs=model.epochs)"
      ]
    },
    {
      "cell_type": "code",
      "execution_count": null,
      "metadata": {
        "id": "S9a0GzQ4Qb-o",
        "outputId": "3f3ab6dd-ebc0-4cb2-9f66-06e4b5dee0b7",
        "colab": {
          "base_uri": "https://localhost:8080/"
        }
      },
      "outputs": [
        {
          "output_type": "stream",
          "name": "stdout",
          "text": [
            "[-9.0705594e-03  6.4599188e-03  9.3177417e-03  3.8285102e-03\n",
            " -5.4775150e-03  6.4540775e-03  8.5979719e-03  5.7223947e-03\n",
            "  9.7521059e-03 -5.8826036e-03 -5.6333467e-03  3.0546129e-04\n",
            " -8.1269592e-03  7.0354925e-03  4.7868686e-03 -1.0465818e-03\n",
            " -1.1005597e-03  2.4339340e-03  8.5132131e-03 -8.9769941e-03\n",
            " -6.4721461e-03  4.4712499e-03 -9.4511252e-06  6.1965408e-03\n",
            "  6.1334665e-03 -1.4356803e-03  5.3297998e-03 -8.2028359e-03\n",
            "  6.2181321e-03 -7.8128250e-03  3.7188784e-03  4.6065841e-03\n",
            "  7.6870932e-03  2.6736439e-03  2.2319097e-03  4.1340990e-03\n",
            "  5.3271314e-04 -6.4658346e-03  8.8039003e-03  2.9810872e-03\n",
            " -4.2359098e-03 -8.3244760e-03 -5.0227698e-03 -8.5605532e-03\n",
            " -1.1408483e-03 -8.7543288e-03 -2.6847403e-03  4.2281612e-05\n",
            "  2.9002348e-04  7.8156432e-03]\n"
          ]
        }
      ],
      "source": [
        "print(model.infer_vector(['БобышкаБП', '1', ' М', '20Х1,5(17ГС)']))"
      ]
    },
    {
      "cell_type": "code",
      "execution_count": null,
      "metadata": {
        "id": "D1LhtkjTQb-u"
      },
      "outputs": [],
      "source": [
        "data['vector'] = data['text'].apply(lambda x: model.infer_vector(x.split(' ')))"
      ]
    },
    {
      "cell_type": "code",
      "execution_count": null,
      "metadata": {
        "id": "UH853ovoQb-w",
        "outputId": "43fa4559-fb48-4b12-a681-ce20008d5206",
        "colab": {
          "base_uri": "https://localhost:8080/",
          "height": 423
        }
      },
      "outputs": [
        {
          "output_type": "execute_result",
          "data": {
            "text/html": [
              "\n",
              "  <div id=\"df-c160c594-592f-4be6-a634-d8533d690e01\">\n",
              "    <div class=\"colab-df-container\">\n",
              "      <div>\n",
              "<style scoped>\n",
              "    .dataframe tbody tr th:only-of-type {\n",
              "        vertical-align: middle;\n",
              "    }\n",
              "\n",
              "    .dataframe tbody tr th {\n",
              "        vertical-align: top;\n",
              "    }\n",
              "\n",
              "    .dataframe thead th {\n",
              "        text-align: right;\n",
              "    }\n",
              "</style>\n",
              "<table border=\"1\" class=\"dataframe\">\n",
              "  <thead>\n",
              "    <tr style=\"text-align: right;\">\n",
              "      <th></th>\n",
              "      <th>text</th>\n",
              "      <th>vector</th>\n",
              "    </tr>\n",
              "  </thead>\n",
              "  <tbody>\n",
              "    <tr>\n",
              "      <th>0</th>\n",
              "      <td>Розетка телефонная внешняя двойная RJ-12</td>\n",
              "      <td>[-0.00259308, 0.009695403, 0.0068313265, -0.00...</td>\n",
              "    </tr>\n",
              "    <tr>\n",
              "      <th>1</th>\n",
              "      <td>Кабель Cisco/CAB-GS-1M= StackWise 1M Stacking ...</td>\n",
              "      <td>[-0.003520769, -0.009314998, -0.0040105674, -0...</td>\n",
              "    </tr>\n",
              "    <tr>\n",
              "      <th>2</th>\n",
              "      <td>ТЕЛЕФОННЫЙ АППАРАТ SIEMENS 5020</td>\n",
              "      <td>[0.00016812465, 0.004525493, 0.007519069, 0.00...</td>\n",
              "    </tr>\n",
              "    <tr>\n",
              "      <th>3</th>\n",
              "      <td>Телефон Cisco IP Phone 7911G (CP-7911G)</td>\n",
              "      <td>[-0.0022947127, -0.009718818, -0.009863134, 0....</td>\n",
              "    </tr>\n",
              "    <tr>\n",
              "      <th>4</th>\n",
              "      <td>Cистема производственно технологической громко...</td>\n",
              "      <td>[0.005713625, 0.00642434, -0.00094878726, 0.00...</td>\n",
              "    </tr>\n",
              "    <tr>\n",
              "      <th>...</th>\n",
              "      <td>...</td>\n",
              "      <td>...</td>\n",
              "    </tr>\n",
              "    <tr>\n",
              "      <th>9821</th>\n",
              "      <td>АДАПТЕР REDA 1</td>\n",
              "      <td>[-0.00017248318, 0.0016618812, -0.006959111, -...</td>\n",
              "    </tr>\n",
              "    <tr>\n",
              "      <th>9822</th>\n",
              "      <td>Антенна</td>\n",
              "      <td>[0.009293955, -0.006430308, -0.005391588, -0.0...</td>\n",
              "    </tr>\n",
              "    <tr>\n",
              "      <th>9823</th>\n",
              "      <td>ТЕЛЕФОН СОТОВЫЙ SIEMENS M 50</td>\n",
              "      <td>[0.008981821, 0.0025761696, 0.004844847, 0.003...</td>\n",
              "    </tr>\n",
              "    <tr>\n",
              "      <th>9824</th>\n",
              "      <td>ТЕЛЕФОН СОТОВЫЙ PHILIPS 625</td>\n",
              "      <td>[6.122438e-06, 0.006656753, 0.0064667976, -0.0...</td>\n",
              "    </tr>\n",
              "    <tr>\n",
              "      <th>9825</th>\n",
              "      <td>-</td>\n",
              "      <td>[0.006884722, -0.00047838513, 0.009263412, 0.0...</td>\n",
              "    </tr>\n",
              "  </tbody>\n",
              "</table>\n",
              "<p>9826 rows × 2 columns</p>\n",
              "</div>\n",
              "      <button class=\"colab-df-convert\" onclick=\"convertToInteractive('df-c160c594-592f-4be6-a634-d8533d690e01')\"\n",
              "              title=\"Convert this dataframe to an interactive table.\"\n",
              "              style=\"display:none;\">\n",
              "        \n",
              "  <svg xmlns=\"http://www.w3.org/2000/svg\" height=\"24px\"viewBox=\"0 0 24 24\"\n",
              "       width=\"24px\">\n",
              "    <path d=\"M0 0h24v24H0V0z\" fill=\"none\"/>\n",
              "    <path d=\"M18.56 5.44l.94 2.06.94-2.06 2.06-.94-2.06-.94-.94-2.06-.94 2.06-2.06.94zm-11 1L8.5 8.5l.94-2.06 2.06-.94-2.06-.94L8.5 2.5l-.94 2.06-2.06.94zm10 10l.94 2.06.94-2.06 2.06-.94-2.06-.94-.94-2.06-.94 2.06-2.06.94z\"/><path d=\"M17.41 7.96l-1.37-1.37c-.4-.4-.92-.59-1.43-.59-.52 0-1.04.2-1.43.59L10.3 9.45l-7.72 7.72c-.78.78-.78 2.05 0 2.83L4 21.41c.39.39.9.59 1.41.59.51 0 1.02-.2 1.41-.59l7.78-7.78 2.81-2.81c.8-.78.8-2.07 0-2.86zM5.41 20L4 18.59l7.72-7.72 1.47 1.35L5.41 20z\"/>\n",
              "  </svg>\n",
              "      </button>\n",
              "      \n",
              "  <style>\n",
              "    .colab-df-container {\n",
              "      display:flex;\n",
              "      flex-wrap:wrap;\n",
              "      gap: 12px;\n",
              "    }\n",
              "\n",
              "    .colab-df-convert {\n",
              "      background-color: #E8F0FE;\n",
              "      border: none;\n",
              "      border-radius: 50%;\n",
              "      cursor: pointer;\n",
              "      display: none;\n",
              "      fill: #1967D2;\n",
              "      height: 32px;\n",
              "      padding: 0 0 0 0;\n",
              "      width: 32px;\n",
              "    }\n",
              "\n",
              "    .colab-df-convert:hover {\n",
              "      background-color: #E2EBFA;\n",
              "      box-shadow: 0px 1px 2px rgba(60, 64, 67, 0.3), 0px 1px 3px 1px rgba(60, 64, 67, 0.15);\n",
              "      fill: #174EA6;\n",
              "    }\n",
              "\n",
              "    [theme=dark] .colab-df-convert {\n",
              "      background-color: #3B4455;\n",
              "      fill: #D2E3FC;\n",
              "    }\n",
              "\n",
              "    [theme=dark] .colab-df-convert:hover {\n",
              "      background-color: #434B5C;\n",
              "      box-shadow: 0px 1px 3px 1px rgba(0, 0, 0, 0.15);\n",
              "      filter: drop-shadow(0px 1px 2px rgba(0, 0, 0, 0.3));\n",
              "      fill: #FFFFFF;\n",
              "    }\n",
              "  </style>\n",
              "\n",
              "      <script>\n",
              "        const buttonEl =\n",
              "          document.querySelector('#df-c160c594-592f-4be6-a634-d8533d690e01 button.colab-df-convert');\n",
              "        buttonEl.style.display =\n",
              "          google.colab.kernel.accessAllowed ? 'block' : 'none';\n",
              "\n",
              "        async function convertToInteractive(key) {\n",
              "          const element = document.querySelector('#df-c160c594-592f-4be6-a634-d8533d690e01');\n",
              "          const dataTable =\n",
              "            await google.colab.kernel.invokeFunction('convertToInteractive',\n",
              "                                                     [key], {});\n",
              "          if (!dataTable) return;\n",
              "\n",
              "          const docLinkHtml = 'Like what you see? Visit the ' +\n",
              "            '<a target=\"_blank\" href=https://colab.research.google.com/notebooks/data_table.ipynb>data table notebook</a>'\n",
              "            + ' to learn more about interactive tables.';\n",
              "          element.innerHTML = '';\n",
              "          dataTable['output_type'] = 'display_data';\n",
              "          await google.colab.output.renderOutput(dataTable, element);\n",
              "          const docLink = document.createElement('div');\n",
              "          docLink.innerHTML = docLinkHtml;\n",
              "          element.appendChild(docLink);\n",
              "        }\n",
              "      </script>\n",
              "    </div>\n",
              "  </div>\n",
              "  "
            ],
            "text/plain": [
              "                                                   text                                             vector\n",
              "0              Розетка телефонная внешняя двойная RJ-12  [-0.00259308, 0.009695403, 0.0068313265, -0.00...\n",
              "1     Кабель Cisco/CAB-GS-1M= StackWise 1M Stacking ...  [-0.003520769, -0.009314998, -0.0040105674, -0...\n",
              "2                       ТЕЛЕФОННЫЙ АППАРАТ SIEMENS 5020  [0.00016812465, 0.004525493, 0.007519069, 0.00...\n",
              "3               Телефон Cisco IP Phone 7911G (CP-7911G)  [-0.0022947127, -0.009718818, -0.009863134, 0....\n",
              "4     Cистема производственно технологической громко...  [0.005713625, 0.00642434, -0.00094878726, 0.00...\n",
              "...                                                 ...                                                ...\n",
              "9821                                     АДАПТЕР REDA 1  [-0.00017248318, 0.0016618812, -0.006959111, -...\n",
              "9822                                            Антенна  [0.009293955, -0.006430308, -0.005391588, -0.0...\n",
              "9823                       ТЕЛЕФОН СОТОВЫЙ SIEMENS M 50  [0.008981821, 0.0025761696, 0.004844847, 0.003...\n",
              "9824                        ТЕЛЕФОН СОТОВЫЙ PHILIPS 625  [6.122438e-06, 0.006656753, 0.0064667976, -0.0...\n",
              "9825                                                  -  [0.006884722, -0.00047838513, 0.009263412, 0.0...\n",
              "\n",
              "[9826 rows x 2 columns]"
            ]
          },
          "metadata": {},
          "execution_count": 13
        }
      ],
      "source": [
        "data[['text', 'vector']]"
      ]
    },
    {
      "cell_type": "markdown",
      "metadata": {
        "id": "M6WwSUxOQb-x"
      },
      "source": [
        "ОТБОР ПРИМЕРОВ ДЛЯ РАЗМЕТКИ"
      ]
    },
    {
      "cell_type": "code",
      "execution_count": null,
      "metadata": {
        "id": "FVaezFx4Qb-0"
      },
      "outputs": [],
      "source": [
        "from scipy.spatial import distance"
      ]
    },
    {
      "cell_type": "code",
      "execution_count": null,
      "metadata": {
        "id": "6CwC_LipQb-5",
        "outputId": "623d9151-0649-40ca-d7d1-2622b7a99196",
        "colab": {
          "base_uri": "https://localhost:8080/"
        }
      },
      "outputs": [
        {
          "output_type": "stream",
          "name": "stdout",
          "text": [
            "Розетка телефонная внешняя двойная RJ-12\n",
            "Терминал абонентский R5000-Smntс/5.300.2x63.2x28 InfiNet Вычисление заняло 1.82 секунд\n",
            "Комплект оборудования и материалов для радиорелейной системы связи пролет Ачимовского м.р.-Чистинного м.р. Спецификация № 0119-15-СН-МНГ от 05.06.2018 г. Вычисление заняло 1.85 секунд\n",
            "Оборудование радиотехническое МИК-РЛ11 опросный лист № 2 Вычисление заняло 1.82 секунд\n",
            "Комплект оборудования для переговорной комнаты, в составе: 770001148315 Пульт микшерный PMP500 Behringer-1 шт; 770001148323 Радиосистема двухканальная с двумя ручными передатчиками BLX188E/CVL M17 662-686 MHz Shure-1 шт; 770001004485 Радиосистема двухканальная с двумя ручными передатчиками BLX288E/PG58-M17 Shure-1 шт; 770001148325 Кабель микрофонный распаянный SMXX200/1, XLR(3P)-XLR(3P), длина 1 м Roxton-4 шт; 770001148327 Стойка микрофонная MS022 журавль, цвет черный Roxtone-2 шт; 770001148333 Стойка микрофонная настольная Stand DTS-20 XLine-2 шт; 770001148338 Система акустическая пассивная JRX212D JBL-2 шт; 770001148341 Стойка-тренога под акустику SS018A, цвет черный Roxtone-2 шт; 770001148345 Кабель для подключения колонок ACS1020, длина 20 м Invotone-2 шт Опросный лист №1 от 08.11.2021г. Вычисление заняло 1.80 секунд\n",
            "Штекер SC<(>&<)>Т/APBC13-RG6U Вычисление заняло 3.62 секунд\n",
            "Антенна радио 3 для GPS Trimble R8 Trimble/44085-42/44085-46 Вычисление заняло 4.41 секунд\n",
            "Система подвижной радиосвязи тит.6508.1 в составе Спецификация №009 от 23.10.2019 Вычисление заняло 1.87 секунд\n",
            "Катушка нормализующая MM SC-SC 200 Опросный лист №13 от 09.06.2017г. Вычисление заняло 1.84 секунд\n",
            "Адаптер телфонный SoundStructure VoIP Polycom/2200-35005-114 Вычисление заняло 1.83 секунд\n",
            "Радиостанция портативная взрывозащищенная GP340 ExMOTOROLA/MDH25KCC6AN3BEA. Количество каналов 16, ширина канала 20/25кГц, диапазон частот ОВЧ 136-174 МГц. Степень защиты IP64, маркировка повзрывозащите II2GExibIICT4, в голубом корпусе. Вычисление заняло 1.83 секунд\n",
            "Коммуникатор TREX C F Р IM W S3 S Metran Вычисление заняло 1.84 секунд\n",
            "Станция базовая GNSS постоянно действующая Опросный лист №11 от 13.01.2020г. Вычисление заняло 1.86 секунд\n",
            "Гарнитура компьютерная Опросный лист №4 от 28.04.2020г Вычисление заняло 1.80 секунд\n",
            "Аппарат телефонный IP Phone 8851 Cisco/CP-8851-R-K9=, с модулем SMARTNET 8X5XNBD Cisco UC Phone 8851 Cisco/CON-3SNT-CP8851K9 Вычисление заняло 1.89 секунд\n",
            "Антенна направленная полоса частот 144-170 МГц, климатическое исполнение ХЛ, Y5, VHF Вычисление заняло 1.84 секунд\n",
            "Источник питания GS18E12-P1J Mean Well Вычисление заняло 1.81 секунд\n",
            "Радиостанция портативная 136-174 МГц 16-канальная TK-2160 Kenwood Вычисление заняло 1.81 секунд\n",
            "АППАРАТ ТЕЛЕФОННЫЙ PANASONIC KX-TS 2368 RUW Вычисление заняло 1.80 секунд\n",
            "ТЕЛЕФОН СОТОВЫЙ SAMSUNG SGH-D880 NOBLE BLACK Вычисление заняло 1.76 секунд\n",
            "Модуль цифровой релейный 16 DCI 01, 3 DRU 02 INDUSTRONIC Вычисление заняло 1.79 секунд\n",
            "Тестер кабельный LANsmart TDR Hobbes/HB-256003 Вычисление заняло 1.77 секунд\n",
            "Шлюз компактный tGW-725i ICP DAS Вычисление заняло 1.79 секунд\n",
            "Пульт дискуссионный с микрофоном на длинной ножке 480 мм CCSD-DL Bosch Вычисление заняло 1.86 секунд\n",
            "КАРТА-SD PANASONIC KX-TDA6920 Вычисление заняло 1.78 секунд\n",
            "Аппарат телефонный многофункциональный ResystTel с громкоговорящей связью, всепогодный IP66, Funke+Huster Fernsig/112 643 01 Вычисление заняло 1.82 секунд\n",
            "Терминал стационарный спутниковый FAU200 Ericsson Вычисление заняло 1.79 секунд\n",
            "Аппарат телефонный UC Phone 9971, Charcoal, Std Hndst with Camera Cisco/CP-9971-C-CAM-K9 Вычисление заняло 1.77 секунд\n",
            "Блок питания Polycom/2200-17671-122 Вычисление заняло 1.79 секунд\n",
            "Точка доступа Cisco/AIR-AP2802I-R-K9 в комплекте Опросный лист №1 к плану РСД18120603 от 06.12.2018г. Вычисление заняло 1.79 секунд\n",
            "Радиостанция мобильная TM-610, 136-174 МГц Hytera Вычисление заняло 1.84 секунд\n",
            "Наушники Bluetooth ELIT200NCBL-EU, цвет синий TCL Вычисление заняло 2.86 секунд\n",
            "Аппарат телефонный IP Phone 7821 Cisco/CP-7821-K9= в комплекте: сервисный контракт Cisco/CON-SCN-CP7821K9 - 1 шт, лицензия Cisco/LIC-CUCM-11X-BAS-A - 1 шт Вычисление заняло 1.77 секунд\n",
            "Аппаратура ВЧ связи АКСТ опросный лист № 11800-10-00-ССЭ.ОЛ1 Вычисление заняло 1.85 секунд\n",
            "Смартфон iPhone 6 128GB Silver Apple/MG4C2RU/A Вычисление заняло 1.79 секунд\n",
            "Аккумулятор внешний Power Bank RPX10000 Black, 10000 мАч HIPER Вычисление заняло 1.82 секунд\n",
            "Модуль шлюза данных 4 порта RS-232/422/485 Advantech/EKI-1224I Вычисление заняло 1.80 секунд\n",
            "Разъем штекер TV никель с пружиной Rexant/05-2011 Вычисление заняло 1.80 секунд\n",
            "Телефон сотовый Nokia 1202 Вычисление заняло 1.77 секунд\n",
            "Телефон CISCO IP Phone 7937 G с лицензиями: 1) Телефон 7937G Cisco/CP-7937G -1шт; 2)Pub.Space non-app phone add-on lobby, conf. room phones Cisco/PUBLIC-IP-DEV-ADD -1шт; 3)ESSENTIAL SW PubSpace non-app phone add-on lobby Cisco/CON-ESW-PUBLICIP -1шт, 3YR SUB UCSS FOR PUBLIC SPACE DEVICES 1U Cisco/UCSS-U-PUB-3-1 -1шт Вычисление заняло 1.79 секунд\n",
            "Комплект расходных материалов для монтажа базовой станции Спецификация №1 от 21.04.2021 г. Вычисление заняло 1.80 секунд\n",
            "Наушники беспроводные внутриканальные, способ передачи сигнала Bluetooth, версия 5.0, формат звуковой схемы - 2.0, с функцией гарнитуры, без крепления, дизайн True Wireless Stereo, тип акустического оформления - закрытые, тройной микрофон, расположение микрофона - в корпусе, крепление микрофона фиксированное, профили Bluetooth - HFP, A2DP, AVRCP, время работы на одном заряде до 11 ч, время работы с зарядным кейсом до 22 ч, радиус беспроводной связи 10 м, разъем для зарядки - USB Type-C, поддержка кодеков - AAC, SBC, функциональные клавиши - многофункциональная кнопка, емкость аккумулятора наушников 85 мАч, емкость аккумулятора кейса 270 мАч, кейс 26,5х70х38,8 мм, поддержка беспроводной зарядки, зарядная станция - футляр, функция быстрой зарядки, кабель для зарядки, датчик холла, акселерометр, основной цвет наушников черный Вычисление заняло 1.82 секунд\n",
            "Разъем 4 мм, 16 А, цвет красный Schutzinger/IBU 401 Ni/RT Вычисление заняло 1.82 секунд\n",
            "Блок усилителя мощности БУМ-1 ТУ 4371-010-48504282-2002 Вычисление заняло 1.83 секунд\n",
            "Устройство управления цифровое 16 DCI 02 INDUSTRONIC Вычисление заняло 1.79 секунд\n",
            "Устройство точка-точка InfiLINK 2x2 PRO R5000-Omx/5.300.2x500 InfiNet Вычисление заняло 1.82 секунд\n",
            "Кронштейн для антенны Thrane&Thrane/406200-701 Вычисление заняло 1.80 секунд\n",
            "Магазин защиты 2/10 с 3-полюсными разрядниками на 10 пар Krone/6089 2 023-01 Вычисление заняло 1.81 секунд\n",
            "Точка доступа беспроводная AIR-CAP2602I 802.11n CAP w/CleanAir, 3x4:3SS, Mod, Int Ant, R Reg Domain Cisco/AIR-CAP2602I-R-K9, в составе по Опросному листу №2 (Беспроводная точка доступа AIR-CAP2602l, в составе) к плану №4/2016 Вычисление заняло 1.89 секунд\n",
            "Блок питания PS 1205 C Extron/70-1175-01 Вычисление заняло 1.79 секунд\n",
            "Плата КМ-120 РТ5.231.6051 Вычисление заняло 1.78 секунд\n",
            "Телефон Cisco IP PHONE 7960G (CP-7960G-CH1) Вычисление заняло 2.45 секунд\n",
            "Пульт для презентаций LP-011S DEXP/1210995 Вычисление заняло 1.84 секунд\n",
            "Кабель 100 м CAB-SL-100TOP-C InfiNet Вычисление заняло 1.85 секунд\n",
            "Блок питания MikroTik/48V2A96W Вычисление заняло 1.83 секунд\n",
            "Радиостанция взрывобезопасная PT790Ex F4 UHF Hytera в комплекте Опросный лист №ГУ-183.01.00-ЦППГ-ОЛ866 Вычисление заняло 1.83 секунд\n",
            "КОММУНИКАТОР НТС TOCH PRO Вычисление заняло 1.78 секунд\n",
            "Смартфон iPhone 13 128 ГБ, цвет синий Apple/MLP13RU/A Вычисление заняло 1.78 секунд\n",
            "Нагрузка 50 Ом, 60 Вт, разъем PL-259, диапазон частот 0-500 МГц Opek/DL-60 Вычисление заняло 1.81 секунд\n",
            "Коннектор коаксиальный N-212B 50 ОМ под пайку для кабеля RG-213 Male Вычисление заняло 1.80 секунд\n",
            "Терминал RPG 310 Polycom в комплекте Опросный лист №2-Газпромнефть-Заполярье от 26.05.2020г. Вычисление заняло 1.87 секунд\n",
            "Тестер кабельный квалификационный CableIQ-FTKSFP Fluke Networks Вычисление заняло 1.87 секунд\n",
            "Штатив LS-3/240 световой, алюминиевый, 4 секции, 3 зажима, цвет черный Logocam Вычисление заняло 1.85 секунд\n",
            "Смартфон iPhone 6S Plus 128GB Space Gray Apple/MKUD2RU/A Вычисление заняло 1.83 секунд\n",
            "Телефон мобильный TM-500R TEXET Вычисление заняло 1.82 секунд\n",
            "Система видеоконференцсвязи HDX 7000 1080 Polycom Вычисление заняло 1.81 секунд\n",
            "Станция телефонная автоматическая цифровая Business Phone 128i EricssonПриложение №8 Вычисление заняло 1.80 секунд\n",
            "Колонка беспроводная стереофоническая Trinity, цвет черный глянцевый Uniscend Вычисление заняло 1.84 секунд\n",
            "Аппарат телефонный для аудиоконференц-связи Polycom SoundStation2 Вычисление заняло 1.83 секунд\n",
            "Устройство зарядное GAX 18V-30 BOSCH/1 600 A01 1A9 Вычисление заняло 1.81 секунд\n",
            "Грозозащита Ethernet Surge Suppressor 600SSB Вычисление заняло 1.82 секунд\n",
            "Система телефонной связи в составе для VIP Опросный лист 3 от 23.12.2016 г. Вычисление заняло 1.82 секунд\n",
            "Блок настольный подключений WAK Вычисление заняло 1.79 секунд\n",
            "Система телефонной связи в составе Опросный лист МНЗ-15/07200/00259/Р/016-4149.1.5-СС.С, МНЗ-15/07200/00259/Р/016-4149.2.3-СС.С Вычисление заняло 1.86 секунд\n",
            "Комплекс аварийно-технологического оповещения КАТО в составе: пульт диспетчера УМУ-АТО-ПД ВАБМ.300.210.2 - 1 шт, блок питания УМУ-АТО-БП ВАБМ.300.210.3 - 1 шт, коробка монтажная КМ-815 - 1 шт, излучатель рупорный 1038РИ - 2 шт ТУ 4372-005-59504196-2004 Вычисление заняло 1.81 секунд\n",
            "Коннектор 10/100BASE-T CONNECTOR Alcatel-lucent/3BA23243AA Вычисление заняло 1.87 секунд\n",
            "РАДИОТЕЛЕФОН PANASONIС Вычисление заняло 1.80 секунд\n",
            "Микрофон-тангента ATEX для радиостанций Sailor 3595 Cobham/403595A Вычисление заняло 1.89 секунд\n",
            "Аппарат телефонный базовый без блока питания Phone 7861 Cisco, Опросный лист 2016.0112.04-СС-ОЛ8.02 Вычисление заняло 1.89 секунд\n",
            "IP-шлюз с модулем E1/SIP Armtel/81181101 Вычисление заняло 1.87 секунд\n",
            "Точка доступа 2504 Wireless Controller в комплекте: 1)2504 Wireless Controller with 5 AP Licenses CISCO/AIR-CT2504-5-K9 -1шт; 2)SMARTNET 8X5XNBD 2504 Wireless LAN Controller with 50 AP CISCO/CON-SNT-CT255 -1шт; 3)2504 Wireless Controller Rack Mount Bracket CISCO/AIR-CT2504-RMNT -1шт Вычисление заняло 1.89 секунд\n",
            "Радиостанция GM360 136-174 МГц, 255 каналов Motorola/MDM25KHF9AN5AE в комплекте тангента (ручной микрофон) Motorola/MDRMN4025 Вычисление заняло 1.83 секунд\n",
            "Приемо-передатчик высокочастотный универсальный ПВЗУ-Е б/у Вычисление заняло 1.83 секунд\n",
            "Устройство грозозащиты AUX-ODU-LPU-G InfiNet Вычисление заняло 1.84 секунд\n",
            "Микрофон динамический вещательный Procaster Rode Вычисление заняло 1.84 секунд\n",
            "Коннектор RJ-45, 8P8C, категория 5, 100 шт/упак ProConnect/05-1021-3 Вычисление заняло 1.83 секунд\n",
            "Грозозащита РГ4 IP54 Ubiquiti Вычисление заняло 1.81 секунд\n",
            "Сплиттер ВЧ-сигнала BS-800/2500-1/2 Балтик Сигнал Вычисление заняло 1.83 секунд\n",
            "Громкоговоритель рупорный взрывозащищенный MEDC/DB10-8 Вычисление заняло 1.81 секунд\n",
            "Комплект монтажный для защитных крышек Neumann Electronik/22 9 0701 850 4 Вычисление заняло 1.87 секунд\n",
            "Блок питания JEDIA/JPD-322A Вычисление заняло 1.83 секунд\n",
            "Устройство точка-точка InfiLINK 2x2 LITE R5000-Smn/5.300.2x300.2x23 InfiNet Вычисление заняло 2.65 секунд\n",
            "Комплект спутникового ТВ в составе: спутниковый ресивер, спутниковая антенна, разрешение Full HD 1080p, независимый тюнер - 2 шт, прием сигнала поддерживаемые стандарты: DVB-S2, MPEG4, H.265 (HEVC), DVB-S, минимальная частота входного сигнала 950 МГц, максимальная частота входного сигнала 2150 МГц, интерфейс HDMI 1.4, композитный видеовыход, USB-вход Type A, оптический аудиовыход, коаксиальный аудиовыход, SCART, подключение внешнего ИК-приемника, интерфейс Ethernet, вход LNB, встроенная память 16 ГБ, телегид, поддержка DLNA, запись передач (PVR), функция Timeshift, пульт ДУ Вычисление заняло 4.90 секунд\n",
            "Комплект усилителя сотового сигнала Titan-900/1800/2100 Pro LED Vegatel/R10182 Вычисление заняло 2.32 секунд\n",
            "Радиостанция CP140 Motorola 146-174 MHz, 16 CH, 1-5W в комплекте: 1) Радиостанция Motorola/MDH65KDF9AA3_N -1шт; 2)Зарядное устройство одноместное Motorola /PMLN 5192 -1шт Вычисление заняло 1.88 секунд\n",
            "Селектор аварийный JEDIA/JES-120A Вычисление заняло 1.84 секунд\n",
            "ТЕЛЕФОН СОТОВЫЙ SIEMENS M 50 Вычисление заняло 1.84 секунд\n",
            "Антенна 360-490 МГц Kathrein/K731221 Вычисление заняло 1.84 секунд\n",
            "Аппаратура ВЧ связи по ЛЭП АКСТ линия-М карта заказа № 1 Вычисление заняло 1.84 секунд\n",
            "Переходник F розетка-IEC штекер Опросный лист №087 Ц от 30.06.2020г. Вычисление заняло 1.87 секунд\n",
            "Блок питания 24 В, 24 Вт, 1 А для терминала оплаты ОРТ 2.18 Автоматизация-А/W.02.950.41 Вычисление заняло 1.87 секунд\n",
            "Аппарат телефонный Опросный лист У-178-2311-Р-004-РТ.ОЛ2 Вычисление заняло 1.82 секунд\n",
            "Комплект оборудования для сетей связи ЛЦО №1 Спецификация 05766623-(17-02)-4025/1-СС.С Вычисление заняло 1.82 секунд\n",
            "Гарнитура LifeChat LX-6000 Microsoft/7XF-00001 Вычисление заняло 1.84 секунд\n",
            "Антенна спутниковая 80 см к ресиверу BigSat BS-S 67CR Colden Media Вычисление заняло 1.85 секунд\n",
            "Плата расширения KX-TDE0110 для телефонных станций Panasonic Вычисление заняло 1.85 секунд\n",
            "Тестер кабеля RJ-45+RJ-11 468 Rexant/12-1006 Вычисление заняло 1.79 секунд\n",
            "Комплекс связи мобильный ТУ 6696-004-25486438-2010 Опросный лист ГПН-Ангара от 02.08.2017 г. Вычисление заняло 1.81 секунд\n",
            "Радиостанция цифровая PD565 Hytera, в комплекте Техническое предложение №ФД/1439/21 от 14.09.2021 АО Форт Диалог Вычисление заняло 1.84 секунд\n",
            "Точка доступа WEP-2ac Smar Eltex, в комплекте Опросный лист №3 к плану МТО/2021 от 15.11.2021г. Вычисление заняло 1.81 секунд\n",
            "Оборудование радиорелейное Mlink G-S опросный лист № 2 Вычисление заняло 1.83 секунд\n",
            "Аудиорегистратор ОСА S4PL с сетевым интерфейсом ЮНСО/1-0003 Вычисление заняло 1.82 секунд\n",
            "Розетка телефонная ОП 802-49 Вычисление заняло 1.83 секунд\n",
            "ГЕНЕРАТОР ТОНАЛЬНЫЙ LANTONER 2 Вычисление заняло 1.87 секунд\n",
            "Пульт цифровой диспетчерский на 24 клавиши Спецификация ARM-3986-4013/3,4-СС Вычисление заняло 1.84 секунд\n",
            "Антенна автомобильная 174 Мгц К.УС 3ДБ Вычисление заняло 1.84 секунд\n",
            "Разъем 9PIN(M) на кабель DB-9F Вычисление заняло 1.82 секунд\n",
            "Комплекс программно-аппаратный центра управления добычей в составе: 770000808525 Станция рабочая ThinkStation P330 Tower, Intel Core i7-9700 (4,7 ГГц), 8 ГБ DDR4 2666 МГц UDIMM, 2256 ГБ SSD 2,5\", SATA3, Opal QTY(1), NVIDIA Quadro P2200 5 ГБ, Slim DVD Rambo 9 мм, Windows 10, клавиатура, мышь Lenovo/30D0S3N600 - 9 шт; 770000565864 Блок системный ThinkCentre M920q Tiny, Intel Core i7-8700T 2.4 ГГц, 8 ГБ DDR4 2666 МГц SoDIMM, 512 ГБ SSD M.2 PCle Opal, Windows 10 Pro 64-bit, клавиатура, мышь Lenovo/10RSS00H00 - 32 шт; 770000808522 Кабель интерфейсный DisplayPort-HDMI, 1,8 м Crestron/CBL-4K-DP-HD-6 - 36 шт; 770000808526 Комплект клавиатура + мышь 300 USB Combo Lenovo/GX30M39635 - 32 шт; 770000810621 Модуль LED фронтальный Mitsubishi/VS-12NP160F - 51 шт; 770000808527 Контроллер видеостены DG-X4K7-RSPU Mitsubishi - 1 шт; 770000808528 Панель интерактивная 75TC3D LG - 1 шт; 770000472444 Монитор 27\" P27q Lenovo/61A8GAR1EU - 77 шт; 770000808530 Кронштейн Chief/MTMP1U - 6 шт; 770000759874 Система FreeSpace DS 100F Bose/040805 - 22 шт; 770000777671 Подвес FreeSpace Bose/041863 - 20 шт; 770000808533 Усилитель мощности сетевой PowerMatch PM4250N Bose/361815-1110 - 2 шт; 770000808535 Аудиопроцессор Bose/359868-2120 - 1 шт; 770000701860 Система видеоконференцсвязи RealPresence Group 700-720p Polycom/7200-64270-114 в комплекте Опросный лист №2 к плану ИТА19060711 от 07.06.2019г. - 1 шт; 770000808536 Камера для ВКС Polycom/8200-64350-001 - 1 шт; 770000795563 Кабель HDCI(M)-HDCI(M), 10 м Polycom/2457-64356-101 - 1 шт; 770000323071 Комплект креплений для камер EagleEye Polycom/2215-68675-001 - 2 шт; 770000578518 Усилитель цифрового сигнала ВКС по витой паре EagleEye Digital Extender Polycom/2215-64200-001 - 1 шт; 770000442060 Блок питания внешний дополнительный для камер EagleEye III/IV Polycom/8200-23390-040 - 1 шт; 770000808538 Микрофон конденсаторный миниатюрный MX410LP/S Shure - 6 шт; 770000808541 База для крепления микрофона MX400DP Shure - 6 шт; 770000808540 Ветрозащита для микрофонов RK513WS Shure - 6 шт; 770000815106 Микшер SoundStructure C12 Polycom/2200-33120-101 - 1 шт; 770000746982 Модуль ВКС Pano Polycom/7200-84685-101 - 5 шт; 770000808543 Коммутатор матричный DigitalMedia Crestron/DM-MD128X128 - 1 шт; 770000808545 Блок отвода аналогового звука 16-канальный с межблочными кабелями 2,44 м Crestron/AUD-BOB-1602-CBL8_PAK - 4 шт; 770000808547 Модуль входной 8-канальный для матричных коммутаторов DMMD64X64 и DM-MD128X128 Crestron/DMB-4K-I-C - 13 шт; 770000808549 Модуль входной 8-канальный для матричных коммутаторов DMMD64X64 и DM-MD128X128 Crestron/DMB-4K-I-HD - 1 шт; 770000808551 Модуль входной 8-канальный для матричных коммутаторов DMMD64X64 и DM-MD128X128 Crestron/DMB-4K-O-C - 7 шт; 770000808556 Модуль входной 8-канальный для матричных коммутаторов DMMD64X64 и DM-MD128X128 Crestron/DMB-4K-O-HD - 1 шт; 770000808555 Блок питания постоянного тока PW-5430DUS Crestron - 20 шт; 770000700638 Передатчик DigitalMedia 8G+, 4K HDMI, DP Crestron/DM-TX-4KZ-302-C - 63 шт; 770000770382 Скалер DigitalMedia 8G+ 4K60 4:4:4 HDR Crestron/DM-RMC-4KZ-SCALER-CC - 28 шт; 770000808557 Удлинитель по одной витой паре периферийных USB-устройств Crestron/USB-EXT-2 - 1 шт; 770000808554 Лючок кабельный FlipTop FT2, цвет черный Crestron/FT2-500-MECH-B - 5 шт; 770000753576 Ретрактор кабельный гравитационный для прокладки выдвижных кабелей, 18 Гбит/сек Crestron/FT2A-CBLR-GR-4K-HD - 5 шт; 770000753574 Ретрактор кабельный гравитационный для прокладки выдвижных кабелей Crestron/FT2A-CBLR-GR-CAT6 - 5 шт; 770000808553 Розетка Schuko C14, 10 A Crestron/FT2A-PWR-EU-1-C14 - 5 шт; 770000808552 Ретрактор кабельный гравитационный Crestron/FT2A-CBLR-GR-USB - 4 шт; 770000808550 Устройство для стриминга и записи видео в формате H.264 HELO AJA - 1 шт; 770000166244 Процессор центральный Crestron/CP3N - 1 шт; 770000614743 Подставка настольная для панелей сенсорных TSW-1060, цвет черный Crestron/TSW-1060-TTK-BS - 5 шт; 770000701248 Панель сенсорная 10,1\" Crestron/TSW-1060-B-S - 5 шт; 770000770667 Компьютер планшетный iPad Air Wi-Fi 64 ГБ, цвет серый космос Apple/MUUJ2RU/A - 6 шт; 770000808562 Док-станция для iPad Air, глянцевая, цвет черный Crestron/IDOCI-PAD-LCA-DSC-B-S - 6 шт; 000001242306 Шкаф телекоммуникационный напольный NetShelter SX, 24U, 915х600х1070 мм, дверь-перфорация, цвет черный APC/AR3104 - 1 шт; 770000586834 Источник бесперебойного питания Symmetra LX APC/SYA12K16I - 1 шт; 770000808548 Панель интерактивная 65TR3BF-B LG - 5 шт; 770000706061 Система видеоконференцсвязи RealPresence Group 310-720p с камерой EagleEye IV-4x Polycom/7200-65340-114 в комплекте Опросный лист №2-02/2019 от 14.06.2019г. - 4 шт; 770000496969 Крепление для кодека Polycom/2215-65169-002 - 4 шт; 770000808542 Документ-камера AVerVision F70W AVer Information - 1 шт; 770000808539 Панель профессиональная 88\" LG/88BH7F - 2 шт; 770000808537 Кронштейн настенный для крепления видеостен, ориентация портретная, без рельс Chief/LVSXUP - 2 шт; 770000808532 Шкаф телекоммуникационный напольный NetShelter SX, 48U, 750x1070x2258 мм, дверь-перфорация, цвет черный APC/AR3157SP - 2 шт; 770000808531 Видеостена светодиодная Mitsubishi/VS-60HS12U - 6 шт Вычисление заняло 1.83 секунд\n",
            "Блок питания SEC-1212 R2 Samlex Вычисление заняло 1.84 секунд\n",
            "Комплект оборудования для модернизации АТС 17-52 на базе Alcatel-Lucent OmniPCX Enterprise Спецификация №105-СН-МНГ-АТС 17-52 от 15.11.2017г. Вычисление заняло 1.82 секунд\n",
            "Система телефонной связи Спецификация 2900-00-СС.С Вычисление заняло 1.84 секунд\n",
            "Комплекс аппаратно-программный СОРМ Омега.З74-ПД.2000М.СХД для узла связи г. Омск Опросный лист №13 от 09.11.2021г. Вычисление заняло 1.84 секунд\n",
            "Система видеоконференцсвязи EagleEye Producer Polycom/2215-69791-114 в комплекте Опросный лист №9 к плану СПБ18091105 от 11.09.2018г. Вычисление заняло 1.82 секунд\n",
            "Модуль сетевой коммутационный IPN-8U Armtel Вычисление заняло 1.82 секунд\n",
            "Блок питания Cambium Networks/ACPS120WA Вычисление заняло 1.81 секунд\n",
            "Комплект оборудования и материалов для радиорелейной системы связи пролет Ново-Покурское м.р.-КУУН 569 Спецификация №0119-6-СН-МНГ от 05.06.2018 г. Вычисление заняло 1.89 секунд\n",
            "Точка доступа Iridium/GO! Вычисление заняло 1.87 секунд\n",
            "Рефлектометр оптический AQ7280+AQ7283H Yokogawa Вычисление заняло 1.88 секунд\n",
            "Чехол для радиостанции кожаный, без клавиатуры, тип крепления поворотная клипса с кожаной петлей на ремень, без выреза под экран и клавиатуру, быстрое высвобождение рации Вычисление заняло 1.80 секунд\n",
            "Антенна вертиркальная А4 ALT L Вычисление заняло 1.84 секунд\n",
            "Комплект оборудования и материалов для радиорелейной системы связи пролет Южно-Киняминское м.р.-Малоюганское м.р. Спецификация №0119-13-СН-МНГ от 05.06.2018 г. Вычисление заняло 1.86 секунд\n",
            "Комплекс аппаратный С-Терра VPN, версия 4.2 исполнение 3-1 Опросный лист № 179 к плану 01/2021 от 22.06.2020г. Вычисление заняло 1.84 секунд\n",
            "Радиостанция 146-174 MHZ CP160 Motorola/MDH65KDF9AA3AN Вычисление заняло 1.81 секунд\n",
            "Модуль абонентский Canopy Advantage 5,1 ГГц Cambium Networks/5252SMG Вычисление заняло 1.82 секунд\n",
            "ТЕЛЕФОН МОБИЛЬНЫЙ SAMSUNG SGH-M300 PBASER Вычисление заняло 1.85 секунд\n",
            "Устройство переговорное всепогодное цифровое WPS-08, ProCom Вычисление заняло 1.86 секунд\n",
            "Смартфон CAT S30, цвет черный Caterpillar Вычисление заняло 1.83 секунд\n",
            "Мультисвич для распределительных сетей, диапозон частот для эфирного сигнала 47/862 МГц, диапозон входного сиглана 950/2400 МГц, число выходов 24\" Вычисление заняло 1.88 секунд\n",
            "Трекер GPS MiniFinder Pico SOS VG10 Вычисление заняло 1.88 секунд\n",
            "Смартфон iPhone 13 Pro 256 ГБ, цвет небесно-голубой Apple/MLW83RU/A Вычисление заняло 1.89 секунд\n",
            "Антенна МА-993 SOTA на магнитном основании, 900/1800/3G, 10 дБи, кабель 3 м Triada Вычисление заняло 1.86 секунд\n",
            "Шлюз беспроводной DX80N2X6S4P4M2M2, DX80 Star 2.4GHz Node 65mW IP67, Banner/78634 Вычисление заняло 1.83 секунд\n",
            "Антенна автомобильная ADM153 136-174 МГц 3 дБ Comtech Вычисление заняло 1.84 секунд\n",
            "Гарнитура игровая проводная MHS-G10 Gembird Вычисление заняло 1.85 секунд\n",
            "Наушники беспроводные E25BT, цвет белый JBL/JBLE25BTWHT Вычисление заняло 1.84 секунд\n",
            "БЛОК ПИТАНИЯ KX-TDA 0104 Вычисление заняло 1.85 секунд\n",
            "Термошкаф ТШ-3В ТУ 26.30.50-077-31006686-2017 Вычисление заняло 1.85 секунд\n",
            "Система громкоговорящей связи установки ВП №1 по спецификации Вычисление заняло 1.79 секунд\n",
            "Радиомодуль абонентский Опросный лист №33-2019-ГПН-Ямал от 20.08.2018г. Вычисление заняло 1.83 секунд\n",
            "Радиостанция Motorola GM-340 6 каналов 403-470 мгц 25 вт 12,5 кгц с дисплеем скоба крепления кабель питания HKN4137 микрофон MDRMN40 25 источник питания Astron SL-11R 220В 7А нагрузка продолжительная напра вленная Y4 UHF L/H типа Вычисление заняло 1.83 секунд\n",
            "Телефон проводной RT-007 Ritmix Вычисление заняло 1.80 секунд\n"
          ]
        }
      ],
      "source": [
        "# чтобы посчитать время поиска одной строки\n",
        "import time\n",
        "\n",
        "\n",
        "uniq_vecs = [\n",
        "    {\n",
        "    'index': data.index[0],\n",
        "    'vector': data['vector'].tolist()[0],\n",
        "    'text': data['text'].tolist()[0]\n",
        "    } #создаем хранилище для отобранных примеров\n",
        "] \n",
        "vec_distances = {} #записываем, чтобы запомнить расстояние между векторами\n",
        "\n",
        "print(data['text'].tolist()[0])\n",
        "for i in range(0, 150): #запускаем цикл на 150 примеров\n",
        "    tic = time.perf_counter() #запускаем таймер\n",
        "    \n",
        "    max_dist = 0 #сюда записываем максимальную дистанцию между векторами\n",
        "    candidate = {\n",
        "        'index': data.index[0],\n",
        "        'vector': data['vector'].tolist()[0],\n",
        "        'text': data['text'].tolist()[0]\n",
        "    }\n",
        "    for ind, item in data.iterrows():\n",
        "        vec = {\n",
        "            'index': ind,\n",
        "            'vector': item['vector'],\n",
        "            'text': item['text']\n",
        "        }\n",
        "        if ind in vec_distances:\n",
        "            vec_distances[ind] += distance.cosine(vec['vector'], uniq_vecs[-1]['vector'])\n",
        "        else:\n",
        "            vec_distances[ind] = distance.cosine(vec['vector'], uniq_vecs[0]['vector'])\n",
        "        \n",
        "        if vec_distances[ind] > max_dist:\n",
        "            max_dist = vec_distances[ind]\n",
        "            candidate = vec\n",
        "    uniq_vecs.append(candidate)\n",
        "    toc = time.perf_counter() #выключаем таймер\n",
        "    print(candidate['text'], f\"Вычисление заняло {toc - tic:0.2f} секунд\")\n"
      ]
    },
    {
      "cell_type": "code",
      "execution_count": null,
      "metadata": {
        "id": "kfgc7_J6Qb-9"
      },
      "outputs": [],
      "source": [
        "uniq_df = pd.DataFrame(uniq_vecs)\n",
        "ready_data = uniq_df['text']"
      ]
    },
    {
      "cell_type": "code",
      "execution_count": null,
      "metadata": {
        "id": "Jue_XwSOQb-_",
        "outputId": "740bf706-ae5b-4e40-d220-96434a4bca2f",
        "colab": {
          "base_uri": "https://localhost:8080/"
        }
      },
      "outputs": [
        {
          "output_type": "execute_result",
          "data": {
            "text/plain": [
              "0               Розетка телефонная внешняя двойная RJ-12\n",
              "1      Терминал абонентский R5000-Smntс/5.300.2x63.2x...\n",
              "2      Комплект оборудования и материалов для радиоре...\n",
              "3      Оборудование радиотехническое МИК-РЛ11 опросны...\n",
              "4      Комплект оборудования для переговорной комнаты...\n",
              "                             ...                        \n",
              "146        Термошкаф ТШ-3В ТУ 26.30.50-077-31006686-2017\n",
              "147    Система громкоговорящей связи установки ВП №1 ...\n",
              "148    Радиомодуль абонентский Опросный лист №33-2019...\n",
              "149    Радиостанция Motorola GM-340 6 каналов 403-470...\n",
              "150                      Телефон проводной RT-007 Ritmix\n",
              "Name: text, Length: 151, dtype: object"
            ]
          },
          "metadata": {},
          "execution_count": 17
        }
      ],
      "source": [
        "ready_data\n"
      ]
    },
    {
      "cell_type": "code",
      "execution_count": null,
      "metadata": {
        "id": "EBlrByzlQb_A"
      },
      "outputs": [],
      "source": [
        "ready_data.to_csv(path_or_buf=\"ready_g28.csv\",sep=\",\", encoding = \"utf-8\")"
      ]
    },
    {
      "cell_type": "code",
      "execution_count": null,
      "metadata": {
        "id": "U-Y5ZEcCQb_B"
      },
      "outputs": [],
      "source": [
        ""
      ]
    }
  ],
  "metadata": {
    "kernelspec": {
      "display_name": "Python 3",
      "language": "python",
      "name": "python3"
    },
    "language_info": {
      "codemirror_mode": {
        "name": "ipython",
        "version": 3
      },
      "file_extension": ".py",
      "mimetype": "text/x-python",
      "name": "python",
      "nbconvert_exporter": "python",
      "pygments_lexer": "ipython3",
      "version": "3.7.6"
    },
    "colab": {
      "name": "prepprocessing of excel for label studio.ipynb",
      "provenance": [],
      "collapsed_sections": []
    },
    "accelerator": "GPU"
  },
  "nbformat": 4,
  "nbformat_minor": 0
}