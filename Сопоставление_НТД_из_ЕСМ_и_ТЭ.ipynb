{
  "cells": [
    {
      "cell_type": "markdown",
      "metadata": {
        "id": "view-in-github",
        "colab_type": "text"
      },
      "source": [
        "<a href=\"https://colab.research.google.com/github/tatyanach/work-projects/blob/main/%D0%A1%D0%BE%D0%BF%D0%BE%D1%81%D1%82%D0%B0%D0%B2%D0%BB%D0%B5%D0%BD%D0%B8%D0%B5_%D0%9D%D0%A2%D0%94_%D0%B8%D0%B7_%D0%95%D0%A1%D0%9C_%D0%B8_%D0%A2%D0%AD.ipynb\" target=\"_parent\"><img src=\"https://colab.research.google.com/assets/colab-badge.svg\" alt=\"Open In Colab\"/></a>"
      ]
    },
    {
      "cell_type": "code",
      "execution_count": null,
      "metadata": {
        "id": "9Y-G5q2-2qwQ"
      },
      "outputs": [],
      "source": [
        "import os, zipfile\n",
        "import regex as re\n",
        "import pandas as pd\n",
        "from tqdm import tqdm\n"
      ]
    },
    {
      "cell_type": "code",
      "execution_count": null,
      "metadata": {
        "id": "ozk2jWgSLIhR"
      },
      "outputs": [],
      "source": [
        "def split_docs(df, column):\n",
        "    '''Разделяет строку в датафрейме по запятой или точке запятой. \n",
        "    На вход нужен датафрейм и название колонки'''\n",
        "    new_list = []\n",
        "    for i, row in df.iterrows():\n",
        "        doc_name = row[column]   \n",
        "\n",
        "        for sep in [';', ',']:\n",
        "            if sep in doc_name:\n",
        "                gs = doc_name.split(sep)\n",
        "                df.at[i, column] = gs[0]\n",
        "                \n",
        "                new_list.extend(gs[1:])\n",
        "    df = df.append(pd.DataFrame(new_list, columns=[column]))\n",
        "    return df"
      ]
    },
    {
      "cell_type": "code",
      "execution_count": null,
      "metadata": {
        "id": "34XlTEtgLIhS"
      },
      "outputs": [],
      "source": [
        "def change_values(df, column, pat, repl):\n",
        "    '''Заменяет все значения по шаблону на другое значение (добавляет пробелы). \n",
        "    На вход: датафрейм, название колонки, регулярное выражение и шаблон,\n",
        "    на который нужно заменить значения с таким выражением'''\n",
        "    for i, row in df.iterrows():\n",
        "        doc_name = row[column]\n",
        "        new_doc = re.sub(pat, repl, doc_name)\n",
        "        df.at[i, column] = new_doc\n",
        "    return df"
      ]
    },
    {
      "cell_type": "code",
      "execution_count": null,
      "metadata": {
        "id": "29_QO5p2LIhU"
      },
      "outputs": [],
      "source": [
        "def match_completed(df1, column1, df2, column2):\n",
        "    df1[\"te_exist\"] = 0\n",
        "    for i, row in tqdm(df1.iterrows(), total=df1.shape[0], position=0, leave=True):\n",
        "        if len(df2[df2[column2] == row[column1]]) > 0:\n",
        "            df1.at[i, \"te_exist\"] = 1    "
      ]
    },
    {
      "cell_type": "code",
      "execution_count": null,
      "metadata": {
        "id": "LcMc6OiRLIhV"
      },
      "outputs": [],
      "source": [
        "def match_string(df1, column1, df2, column2):\n",
        "    '''Сопоставляет НД из ЕСМ с НД из ТЭ.\n",
        "    df1 - датафрейм из есм,\n",
        "    column1 - название для новой колонки в df1. колонка показывает наличие совпадения с ТЭ.\n",
        "    df2 - датафрейм из ТЭ,\n",
        "    column2 - название колонки из df2 с тайтлами, содержащими НД, которые нужно сопоставить'''\n",
        "    df1['te_contains'] = 0\n",
        "    for i, row in tqdm(df1.iterrows(), total=df1.shape[0], position=0, leave=True):\n",
        "#         print(row[column1])\n",
        "        if df2[column2].str.contains(row[column1], regex=False).any():\n",
        "            df1.at[i, 'te_contains'] = 1\n",
        "    return df1"
      ]
    },
    {
      "cell_type": "code",
      "execution_count": null,
      "metadata": {
        "id": "eJmxTBYMLIhV"
      },
      "outputs": [],
      "source": [
        "def show_result(df, column):\n",
        "    \n",
        "    not_f = len(df[df[column] == 0])\n",
        "    found = len(df[df[column] == 1])\n",
        "    print(f\"Найдено {found} совпадений из {len(df)}, {not_f} документов не найдено в ТехЭксперте\")"
      ]
    },
    {
      "cell_type": "markdown",
      "metadata": {
        "id": "1GE2UbYlLIhW"
      },
      "source": [
        "**ГОСТы из ТехЭксперта** предобработка"
      ]
    },
    {
      "cell_type": "code",
      "execution_count": null,
      "metadata": {
        "id": "NSc18cQgLIhe",
        "outputId": "a009bf42-92cb-4bf7-d6d7-cec0a4a2d877"
      },
      "outputs": [
        {
          "data": {
            "text/html": [
              "<div>\n",
              "<style scoped>\n",
              "    .dataframe tbody tr th:only-of-type {\n",
              "        vertical-align: middle;\n",
              "    }\n",
              "\n",
              "    .dataframe tbody tr th {\n",
              "        vertical-align: top;\n",
              "    }\n",
              "\n",
              "    .dataframe thead th {\n",
              "        text-align: right;\n",
              "    }\n",
              "</style>\n",
              "<table border=\"1\" class=\"dataframe\">\n",
              "  <thead>\n",
              "    <tr style=\"text-align: right;\">\n",
              "      <th></th>\n",
              "      <th>#</th>\n",
              "      <th>id</th>\n",
              "      <th>title</th>\n",
              "    </tr>\n",
              "  </thead>\n",
              "  <tbody>\n",
              "    <tr>\n",
              "      <th>0</th>\n",
              "      <td>0</td>\n",
              "      <td>6185a0f48ef9e78dd1e85a6d</td>\n",
              "      <td>Об Учебно-методическом объединении по профорие...</td>\n",
              "    </tr>\n",
              "    <tr>\n",
              "      <th>1</th>\n",
              "      <td>1</td>\n",
              "      <td>6185a0f78ef9e78dd1e85b49</td>\n",
              "      <td>О присвоении имени музыкального деятеля Н.Г.Ру...</td>\n",
              "    </tr>\n",
              "    <tr>\n",
              "      <th>2</th>\n",
              "      <td>2</td>\n",
              "      <td>6185a0f78ef9e78dd1e85b4a</td>\n",
              "      <td>О создании государственного учреждения культур...</td>\n",
              "    </tr>\n",
              "    <tr>\n",
              "      <th>3</th>\n",
              "      <td>3</td>\n",
              "      <td>6185a0f78ef9e78dd1e85b4b</td>\n",
              "      <td>ГОСТ Р 22.8.07-99 Безопасность в чрезвычайных ...</td>\n",
              "    </tr>\n",
              "    <tr>\n",
              "      <th>4</th>\n",
              "      <td>4</td>\n",
              "      <td>6185a0f78ef9e78dd1e85b4c</td>\n",
              "      <td>ГОСТ 16372-93 (МЭК 34-9-90) Машины электрическ...</td>\n",
              "    </tr>\n",
              "    <tr>\n",
              "      <th>...</th>\n",
              "      <td>...</td>\n",
              "      <td>...</td>\n",
              "      <td>...</td>\n",
              "    </tr>\n",
              "    <tr>\n",
              "      <th>2751822</th>\n",
              "      <td>2751822</td>\n",
              "      <td>61861e4d8ef9e78dd1555d7b</td>\n",
              "      <td>Суд кассационной инстанции не усматривает осно...</td>\n",
              "    </tr>\n",
              "    <tr>\n",
              "      <th>2751823</th>\n",
              "      <td>2751823</td>\n",
              "      <td>61861e4d8ef9e78dd1555d7d</td>\n",
              "      <td>При новом рассмотрении дела суду необходимо уч...</td>\n",
              "    </tr>\n",
              "    <tr>\n",
              "      <th>2751824</th>\n",
              "      <td>2751824</td>\n",
              "      <td>61861e4d8ef9e78dd1555d80</td>\n",
              "      <td>Учитывая установленные в результате проведения...</td>\n",
              "    </tr>\n",
              "    <tr>\n",
              "      <th>2751825</th>\n",
              "      <td>2751825</td>\n",
              "      <td>61861e4d8ef9e78dd1555d81</td>\n",
              "      <td>Дело N 33-1334/2021</td>\n",
              "    </tr>\n",
              "    <tr>\n",
              "      <th>2751826</th>\n",
              "      <td>2751826</td>\n",
              "      <td>61861e4d8ef9e78dd1555d82</td>\n",
              "      <td>Об утверждении предельных максимальных аэропор...</td>\n",
              "    </tr>\n",
              "  </tbody>\n",
              "</table>\n",
              "<p>2751827 rows × 3 columns</p>\n",
              "</div>"
            ],
            "text/plain": [
              "               #                        id  \\\n",
              "0              0  6185a0f48ef9e78dd1e85a6d   \n",
              "1              1  6185a0f78ef9e78dd1e85b49   \n",
              "2              2  6185a0f78ef9e78dd1e85b4a   \n",
              "3              3  6185a0f78ef9e78dd1e85b4b   \n",
              "4              4  6185a0f78ef9e78dd1e85b4c   \n",
              "...          ...                       ...   \n",
              "2751822  2751822  61861e4d8ef9e78dd1555d7b   \n",
              "2751823  2751823  61861e4d8ef9e78dd1555d7d   \n",
              "2751824  2751824  61861e4d8ef9e78dd1555d80   \n",
              "2751825  2751825  61861e4d8ef9e78dd1555d81   \n",
              "2751826  2751826  61861e4d8ef9e78dd1555d82   \n",
              "\n",
              "                                                     title  \n",
              "0        Об Учебно-методическом объединении по профорие...  \n",
              "1        О присвоении имени музыкального деятеля Н.Г.Ру...  \n",
              "2        О создании государственного учреждения культур...  \n",
              "3        ГОСТ Р 22.8.07-99 Безопасность в чрезвычайных ...  \n",
              "4        ГОСТ 16372-93 (МЭК 34-9-90) Машины электрическ...  \n",
              "...                                                    ...  \n",
              "2751822  Суд кассационной инстанции не усматривает осно...  \n",
              "2751823  При новом рассмотрении дела суду необходимо уч...  \n",
              "2751824  Учитывая установленные в результате проведения...  \n",
              "2751825                                Дело N 33-1334/2021  \n",
              "2751826  Об утверждении предельных максимальных аэропор...  \n",
              "\n",
              "[2751827 rows x 3 columns]"
            ]
          },
          "execution_count": 142,
          "metadata": {},
          "output_type": "execute_result"
        }
      ],
      "source": [
        "df = pd.read_csv(\"te_docs.txt\", sep = \"\\t\")\n",
        "df"
      ]
    },
    {
      "cell_type": "markdown",
      "metadata": {
        "id": "-qLa1jLfLIhf"
      },
      "source": [
        "сначала отфильтруем таблицу и оставим только те строки, которые содержат в себе слово \"ГОСТ\""
      ]
    },
    {
      "cell_type": "code",
      "execution_count": null,
      "metadata": {
        "id": "EP6hIg4CLIhg"
      },
      "outputs": [],
      "source": [
        "df_te = df[df[\"title\"].str.contains('ГОСТ', regex=False)]\n"
      ]
    },
    {
      "cell_type": "code",
      "execution_count": null,
      "metadata": {
        "hide_input": false,
        "scrolled": false,
        "id": "nB9nrWwJLIhg"
      },
      "outputs": [],
      "source": [
        "# поиск гостов с помощью регулярок. для match_complete()\n",
        "# df_te[\"gost\"] = df_te['title'].apply(lambda x: re.search(r\"ГОСТ\\s?(Р\\s)?([А-Я]+\\s)?\\d+([\\d.-]+)?\", x).group(0) \n",
        "#                                      if re.search(r\"ГОСТ\\s?(Р\\s)?([А-Я]+\\s)?\\d+([\\d.-]+)?\", x) else None)\n",
        "# df_te = df_te[df_te['gost'].notnull()]"
      ]
    },
    {
      "cell_type": "code",
      "execution_count": null,
      "metadata": {
        "id": "DHiadf02LIhh",
        "outputId": "4baffa3f-26eb-417d-bcfa-4c525d803ba1"
      },
      "outputs": [
        {
          "data": {
            "text/html": [
              "<div>\n",
              "<style scoped>\n",
              "    .dataframe tbody tr th:only-of-type {\n",
              "        vertical-align: middle;\n",
              "    }\n",
              "\n",
              "    .dataframe tbody tr th {\n",
              "        vertical-align: top;\n",
              "    }\n",
              "\n",
              "    .dataframe thead th {\n",
              "        text-align: right;\n",
              "    }\n",
              "</style>\n",
              "<table border=\"1\" class=\"dataframe\">\n",
              "  <thead>\n",
              "    <tr style=\"text-align: right;\">\n",
              "      <th></th>\n",
              "      <th>#</th>\n",
              "      <th>id</th>\n",
              "      <th>title</th>\n",
              "    </tr>\n",
              "  </thead>\n",
              "  <tbody>\n",
              "    <tr>\n",
              "      <th>3</th>\n",
              "      <td>3</td>\n",
              "      <td>6185a0f78ef9e78dd1e85b4b</td>\n",
              "      <td>ГОСТ Р 22.8.07-99 Безопасность в чрезвычайных ...</td>\n",
              "    </tr>\n",
              "    <tr>\n",
              "      <th>4</th>\n",
              "      <td>4</td>\n",
              "      <td>6185a0f78ef9e78dd1e85b4c</td>\n",
              "      <td>ГОСТ 16372-93 (МЭК 34-9-90) Машины электрическ...</td>\n",
              "    </tr>\n",
              "    <tr>\n",
              "      <th>7</th>\n",
              "      <td>7</td>\n",
              "      <td>6185a0f78ef9e78dd1e85b50</td>\n",
              "      <td>ГОСТ 5422-73 Профили стальные горячекатаные сп...</td>\n",
              "    </tr>\n",
              "    <tr>\n",
              "      <th>8</th>\n",
              "      <td>8</td>\n",
              "      <td>6185a0f78ef9e78dd1e85b51</td>\n",
              "      <td>ГОСТ 3240.0-76 Сплавы магниевые. Общие требова...</td>\n",
              "    </tr>\n",
              "    <tr>\n",
              "      <th>9</th>\n",
              "      <td>9</td>\n",
              "      <td>6185a0f78ef9e78dd1e85b52</td>\n",
              "      <td>ГОСТ 25278.2-82 Сплавы и лигатуры редких метал...</td>\n",
              "    </tr>\n",
              "    <tr>\n",
              "      <th>...</th>\n",
              "      <td>...</td>\n",
              "      <td>...</td>\n",
              "      <td>...</td>\n",
              "    </tr>\n",
              "    <tr>\n",
              "      <th>2751791</th>\n",
              "      <td>2751791</td>\n",
              "      <td>61861e4d8ef9e78dd1555d51</td>\n",
              "      <td>Проект ГОСТ Р Ресурсосбережение. Общие подходы...</td>\n",
              "    </tr>\n",
              "    <tr>\n",
              "      <th>2751795</th>\n",
              "      <td>2751795</td>\n",
              "      <td>61861e4d8ef9e78dd1555d56</td>\n",
              "      <td>Проект ГОСТ Р Ресурсосбережение. Информационно...</td>\n",
              "    </tr>\n",
              "    <tr>\n",
              "      <th>2751798</th>\n",
              "      <td>2751798</td>\n",
              "      <td>61861e4d8ef9e78dd1555d5b</td>\n",
              "      <td>Проект ГОСТ Р Ресурсосбережение. Информационно...</td>\n",
              "    </tr>\n",
              "    <tr>\n",
              "      <th>2751802</th>\n",
              "      <td>2751802</td>\n",
              "      <td>61861e4d8ef9e78dd1555d5f</td>\n",
              "      <td>Проект ГОСТ Р Ресурсосбережение. Информационно...</td>\n",
              "    </tr>\n",
              "    <tr>\n",
              "      <th>2751806</th>\n",
              "      <td>2751806</td>\n",
              "      <td>61861e4d8ef9e78dd1555d63</td>\n",
              "      <td>Проект ГОСТ Р Ресурсосбережение. Обращение с о...</td>\n",
              "    </tr>\n",
              "  </tbody>\n",
              "</table>\n",
              "<p>64670 rows × 3 columns</p>\n",
              "</div>"
            ],
            "text/plain": [
              "               #                        id  \\\n",
              "3              3  6185a0f78ef9e78dd1e85b4b   \n",
              "4              4  6185a0f78ef9e78dd1e85b4c   \n",
              "7              7  6185a0f78ef9e78dd1e85b50   \n",
              "8              8  6185a0f78ef9e78dd1e85b51   \n",
              "9              9  6185a0f78ef9e78dd1e85b52   \n",
              "...          ...                       ...   \n",
              "2751791  2751791  61861e4d8ef9e78dd1555d51   \n",
              "2751795  2751795  61861e4d8ef9e78dd1555d56   \n",
              "2751798  2751798  61861e4d8ef9e78dd1555d5b   \n",
              "2751802  2751802  61861e4d8ef9e78dd1555d5f   \n",
              "2751806  2751806  61861e4d8ef9e78dd1555d63   \n",
              "\n",
              "                                                     title  \n",
              "3        ГОСТ Р 22.8.07-99 Безопасность в чрезвычайных ...  \n",
              "4        ГОСТ 16372-93 (МЭК 34-9-90) Машины электрическ...  \n",
              "7        ГОСТ 5422-73 Профили стальные горячекатаные сп...  \n",
              "8        ГОСТ 3240.0-76 Сплавы магниевые. Общие требова...  \n",
              "9        ГОСТ 25278.2-82 Сплавы и лигатуры редких метал...  \n",
              "...                                                    ...  \n",
              "2751791  Проект ГОСТ Р Ресурсосбережение. Общие подходы...  \n",
              "2751795  Проект ГОСТ Р Ресурсосбережение. Информационно...  \n",
              "2751798  Проект ГОСТ Р Ресурсосбережение. Информационно...  \n",
              "2751802  Проект ГОСТ Р Ресурсосбережение. Информационно...  \n",
              "2751806  Проект ГОСТ Р Ресурсосбережение. Обращение с о...  \n",
              "\n",
              "[64670 rows x 3 columns]"
            ]
          },
          "execution_count": 144,
          "metadata": {},
          "output_type": "execute_result"
        }
      ],
      "source": [
        "df_te"
      ]
    },
    {
      "cell_type": "code",
      "execution_count": null,
      "metadata": {
        "id": "V5Bc6KFgLIhi",
        "outputId": "4f7e8d22-70fa-447c-e1ca-fb317e2e5715"
      },
      "outputs": [
        {
          "data": {
            "text/html": [
              "<div>\n",
              "<style scoped>\n",
              "    .dataframe tbody tr th:only-of-type {\n",
              "        vertical-align: middle;\n",
              "    }\n",
              "\n",
              "    .dataframe tbody tr th {\n",
              "        vertical-align: top;\n",
              "    }\n",
              "\n",
              "    .dataframe thead th {\n",
              "        text-align: right;\n",
              "    }\n",
              "</style>\n",
              "<table border=\"1\" class=\"dataframe\">\n",
              "  <thead>\n",
              "    <tr style=\"text-align: right;\">\n",
              "      <th></th>\n",
              "      <th>#</th>\n",
              "      <th>id</th>\n",
              "      <th>title</th>\n",
              "    </tr>\n",
              "  </thead>\n",
              "  <tbody>\n",
              "    <tr>\n",
              "      <th>1076307</th>\n",
              "      <td>1076307</td>\n",
              "      <td>6185c3b38ef9e78dd1be316f</td>\n",
              "      <td>Является ли ГОСТ12.0.004-2015 обязательным для...</td>\n",
              "    </tr>\n",
              "    <tr>\n",
              "      <th>2237284</th>\n",
              "      <td>2237284</td>\n",
              "      <td>6185dc4a8ef9e78dd1512b6a</td>\n",
              "      <td>ГОСТ16363-98 \"Огнезащитные составы\"</td>\n",
              "    </tr>\n",
              "    <tr>\n",
              "      <th>2698076</th>\n",
              "      <td>2698076</td>\n",
              "      <td>61860a458ef9e78dd1c2cd50</td>\n",
              "      <td>О применении ГОСТ30732-2020</td>\n",
              "    </tr>\n",
              "    <tr>\n",
              "      <th>2728817</th>\n",
              "      <td>2728817</td>\n",
              "      <td>618618228ef9e78dd12ab80e</td>\n",
              "      <td>О допустимости замены труб по ГОСТ20295-85</td>\n",
              "    </tr>\n",
              "  </tbody>\n",
              "</table>\n",
              "</div>"
            ],
            "text/plain": [
              "               #                        id  \\\n",
              "1076307  1076307  6185c3b38ef9e78dd1be316f   \n",
              "2237284  2237284  6185dc4a8ef9e78dd1512b6a   \n",
              "2698076  2698076  61860a458ef9e78dd1c2cd50   \n",
              "2728817  2728817  618618228ef9e78dd12ab80e   \n",
              "\n",
              "                                                     title  \n",
              "1076307  Является ли ГОСТ12.0.004-2015 обязательным для...  \n",
              "2237284                ГОСТ16363-98 \"Огнезащитные составы\"  \n",
              "2698076                        О применении ГОСТ30732-2020  \n",
              "2728817         О допустимости замены труб по ГОСТ20295-85  "
            ]
          },
          "execution_count": 145,
          "metadata": {},
          "output_type": "execute_result"
        }
      ],
      "source": [
        "#проверяем есть ли госты без пробелов в записи\n",
        "df_te[df_te[\"title\"].str.contains(r\"ГОСТ\\d+\")]"
      ]
    },
    {
      "cell_type": "code",
      "execution_count": null,
      "metadata": {
        "id": "LngwbHh0LIhj"
      },
      "outputs": [],
      "source": [
        "#добавляем пробелы\n",
        "df_te = change_values(df_te, \"title\", r\"ГОСТ(\\d+)\", \"ГОСТ \\1\")"
      ]
    },
    {
      "cell_type": "code",
      "execution_count": null,
      "metadata": {
        "id": "mpU-s2qiLIhj",
        "outputId": "7663cef3-cba2-4adf-cee0-8e5901d8ce21"
      },
      "outputs": [
        {
          "data": {
            "text/html": [
              "<div>\n",
              "<style scoped>\n",
              "    .dataframe tbody tr th:only-of-type {\n",
              "        vertical-align: middle;\n",
              "    }\n",
              "\n",
              "    .dataframe tbody tr th {\n",
              "        vertical-align: top;\n",
              "    }\n",
              "\n",
              "    .dataframe thead th {\n",
              "        text-align: right;\n",
              "    }\n",
              "</style>\n",
              "<table border=\"1\" class=\"dataframe\">\n",
              "  <thead>\n",
              "    <tr style=\"text-align: right;\">\n",
              "      <th></th>\n",
              "      <th>#</th>\n",
              "      <th>id</th>\n",
              "      <th>title</th>\n",
              "    </tr>\n",
              "  </thead>\n",
              "  <tbody>\n",
              "  </tbody>\n",
              "</table>\n",
              "</div>"
            ],
            "text/plain": [
              "Empty DataFrame\n",
              "Columns: [#, id, title]\n",
              "Index: []"
            ]
          },
          "execution_count": 147,
          "metadata": {},
          "output_type": "execute_result"
        }
      ],
      "source": [
        "df_te[df_te[\"title\"].str.contains(r\"ГОСТ\\d+\")] #проверяем"
      ]
    },
    {
      "cell_type": "markdown",
      "metadata": {
        "id": "si8jp_nrLIhj"
      },
      "source": [
        "**НД из ЕСМ** - предобработка"
      ]
    },
    {
      "cell_type": "code",
      "execution_count": null,
      "metadata": {
        "id": "gfOMjTWULIhk"
      },
      "outputs": [],
      "source": [
        "gosts = pd.read_excel(\"ГОСТы.xlsx\")"
      ]
    },
    {
      "cell_type": "markdown",
      "metadata": {
        "id": "C0QGqRH4LIhl"
      },
      "source": [
        "разделяем строчки, в которых указано по два НД и записываем каждый НД в отдельную строчку"
      ]
    },
    {
      "cell_type": "code",
      "execution_count": null,
      "metadata": {
        "hide_input": true,
        "scrolled": true,
        "id": "7va9TMiALIhl"
      },
      "outputs": [],
      "source": [
        "# new_list = []\n",
        "# for i, row in gosts.iterrows():\n",
        "#     doc_name = row[\"Нормативный документ\"]   \n",
        "    \n",
        "#     for sep in [';', ',']:\n",
        "#         if sep in doc_name:\n",
        "#             gs = doc_name.split(sep)\n",
        "#             gosts.at[i, \"Нормативный документ\"] = gs[0]\n",
        "# #             gosts.loc[len(gosts)] = [gs[1]]\n",
        "#             new_list.append(gs[1])\n",
        "# gosts = gosts.append(pd.DataFrame(new_list, columns=['Нормативный документ']))"
      ]
    },
    {
      "cell_type": "code",
      "execution_count": null,
      "metadata": {
        "id": "T5_XKoLOLIhl",
        "outputId": "d9e511ae-aae2-4bd5-ac86-6812c5625084"
      },
      "outputs": [
        {
          "data": {
            "text/html": [
              "<div>\n",
              "<style scoped>\n",
              "    .dataframe tbody tr th:only-of-type {\n",
              "        vertical-align: middle;\n",
              "    }\n",
              "\n",
              "    .dataframe tbody tr th {\n",
              "        vertical-align: top;\n",
              "    }\n",
              "\n",
              "    .dataframe thead th {\n",
              "        text-align: right;\n",
              "    }\n",
              "</style>\n",
              "<table border=\"1\" class=\"dataframe\">\n",
              "  <thead>\n",
              "    <tr style=\"text-align: right;\">\n",
              "      <th></th>\n",
              "      <th>Нормативный документ</th>\n",
              "    </tr>\n",
              "  </thead>\n",
              "  <tbody>\n",
              "  </tbody>\n",
              "</table>\n",
              "</div>"
            ],
            "text/plain": [
              "Empty DataFrame\n",
              "Columns: [Нормативный документ]\n",
              "Index: []"
            ]
          },
          "execution_count": 150,
          "metadata": {},
          "output_type": "execute_result"
        }
      ],
      "source": [
        "gosts = split_docs(gosts, \"Нормативный документ\")\n",
        "gosts[gosts[\"Нормативный документ\"].str.contains(r\";|,\")] #проверяем"
      ]
    },
    {
      "cell_type": "markdown",
      "metadata": {
        "id": "nNEcJtNeLIhm"
      },
      "source": [
        "добавляем пробел к тем записям ГОСТов, которые записаны без пробела"
      ]
    },
    {
      "cell_type": "code",
      "execution_count": null,
      "metadata": {
        "hide_input": true,
        "id": "IMINlyzQLIhm"
      },
      "outputs": [],
      "source": [
        "# 1 способ\n",
        "# del_spaces = gosts[gosts[\"Нормативный документ\"].str.contains(r\"ГОСТ\\d+\")][\"Нормативный документ\"].tolist()\n",
        "# for i, row in gosts.iterrows():\n",
        "#     doc_name = row[\"Нормативный документ\"]\n",
        "#     if doc_name in del_spaces:\n",
        "#         new_doc = doc_name[:4] + \" \" + doc_name[4:]\n",
        "#         gosts.at[i, \"Нормативный документ\"] = new_doc\n",
        "# 2 способ\n",
        "# for i, row in gosts.iterrows():\n",
        "#     doc_name = row[\"Нормативный документ\"]\n",
        "#     if re.search(r\"ГОСТ\\d+\", doc_name):\n",
        "#         new_doc = doc_name[:4] + \" \" + doc_name[4:]\n",
        "#         gosts.at[i, \"Нормативный документ\"] = new_doc\n",
        "\n"
      ]
    },
    {
      "cell_type": "code",
      "execution_count": null,
      "metadata": {
        "id": "KlPo1Wc7LIhm",
        "outputId": "343ab2ab-2eea-4019-b6fa-241f27f9186c"
      },
      "outputs": [
        {
          "data": {
            "text/html": [
              "<div>\n",
              "<style scoped>\n",
              "    .dataframe tbody tr th:only-of-type {\n",
              "        vertical-align: middle;\n",
              "    }\n",
              "\n",
              "    .dataframe tbody tr th {\n",
              "        vertical-align: top;\n",
              "    }\n",
              "\n",
              "    .dataframe thead th {\n",
              "        text-align: right;\n",
              "    }\n",
              "</style>\n",
              "<table border=\"1\" class=\"dataframe\">\n",
              "  <thead>\n",
              "    <tr style=\"text-align: right;\">\n",
              "      <th></th>\n",
              "      <th>Нормативный документ</th>\n",
              "    </tr>\n",
              "  </thead>\n",
              "  <tbody>\n",
              "    <tr>\n",
              "      <th>101</th>\n",
              "      <td>ГОСТ17378-83</td>\n",
              "    </tr>\n",
              "    <tr>\n",
              "      <th>197</th>\n",
              "      <td>ГОСТ12.2.007.0-75</td>\n",
              "    </tr>\n",
              "    <tr>\n",
              "      <th>414</th>\n",
              "      <td>ГОСТ13781.2-77</td>\n",
              "    </tr>\n",
              "    <tr>\n",
              "      <th>747</th>\n",
              "      <td>ГОСТ19904-90</td>\n",
              "    </tr>\n",
              "    <tr>\n",
              "      <th>754</th>\n",
              "      <td>ГОСТ2590-88</td>\n",
              "    </tr>\n",
              "    <tr>\n",
              "      <th>755</th>\n",
              "      <td>ГОСТ19903-74</td>\n",
              "    </tr>\n",
              "    <tr>\n",
              "      <th>756</th>\n",
              "      <td>ГОСТ8560-78</td>\n",
              "    </tr>\n",
              "    <tr>\n",
              "      <th>761</th>\n",
              "      <td>ГОСТ8239-72</td>\n",
              "    </tr>\n",
              "    <tr>\n",
              "      <th>767</th>\n",
              "      <td>ГОСТ22580-88</td>\n",
              "    </tr>\n",
              "    <tr>\n",
              "      <th>787</th>\n",
              "      <td>ГОСТ8607-82</td>\n",
              "    </tr>\n",
              "    <tr>\n",
              "      <th>789</th>\n",
              "      <td>ГОСТ015150-69</td>\n",
              "    </tr>\n",
              "    <tr>\n",
              "      <th>804</th>\n",
              "      <td>ГОСТ9941-81</td>\n",
              "    </tr>\n",
              "    <tr>\n",
              "      <th>1075</th>\n",
              "      <td>ГОСТ8709-62</td>\n",
              "    </tr>\n",
              "    <tr>\n",
              "      <th>1646</th>\n",
              "      <td>ГОСТ24045-94</td>\n",
              "    </tr>\n",
              "    <tr>\n",
              "      <th>1693</th>\n",
              "      <td>ГОСТ6228-80</td>\n",
              "    </tr>\n",
              "    <tr>\n",
              "      <th>1914</th>\n",
              "      <td>ГОСТ8732-78</td>\n",
              "    </tr>\n",
              "    <tr>\n",
              "      <th>2034</th>\n",
              "      <td>ГОСТ19904-74</td>\n",
              "    </tr>\n",
              "    <tr>\n",
              "      <th>2060</th>\n",
              "      <td>ГОСТ8960-75</td>\n",
              "    </tr>\n",
              "    <tr>\n",
              "      <th>2080</th>\n",
              "      <td>ГОСТ2823-73</td>\n",
              "    </tr>\n",
              "    <tr>\n",
              "      <th>2083</th>\n",
              "      <td>ГОСТ7113-77</td>\n",
              "    </tr>\n",
              "    <tr>\n",
              "      <th>2094</th>\n",
              "      <td>ГОСТ17375-2001</td>\n",
              "    </tr>\n",
              "    <tr>\n",
              "      <th>2097</th>\n",
              "      <td>ГОСТ17378-2001</td>\n",
              "    </tr>\n",
              "    <tr>\n",
              "      <th>2098</th>\n",
              "      <td>ГОСТ22826-83</td>\n",
              "    </tr>\n",
              "    <tr>\n",
              "      <th>2114</th>\n",
              "      <td>ГОСТ6958-78</td>\n",
              "    </tr>\n",
              "    <tr>\n",
              "      <th>2128</th>\n",
              "      <td>ГОСТ243790-80</td>\n",
              "    </tr>\n",
              "    <tr>\n",
              "      <th>2147</th>\n",
              "      <td>ГОСТ2424-83</td>\n",
              "    </tr>\n",
              "    <tr>\n",
              "      <th>2157</th>\n",
              "      <td>ГОСТ11516</td>\n",
              "    </tr>\n",
              "    <tr>\n",
              "      <th>108</th>\n",
              "      <td>ГОСТ8732-74</td>\n",
              "    </tr>\n",
              "    <tr>\n",
              "      <th>115</th>\n",
              "      <td>ГОСТ14637-89</td>\n",
              "    </tr>\n",
              "    <tr>\n",
              "      <th>128</th>\n",
              "      <td>ГОСТ11516-94</td>\n",
              "    </tr>\n",
              "  </tbody>\n",
              "</table>\n",
              "</div>"
            ],
            "text/plain": [
              "     Нормативный документ\n",
              "101          ГОСТ17378-83\n",
              "197     ГОСТ12.2.007.0-75\n",
              "414        ГОСТ13781.2-77\n",
              "747          ГОСТ19904-90\n",
              "754           ГОСТ2590-88\n",
              "755          ГОСТ19903-74\n",
              "756           ГОСТ8560-78\n",
              "761           ГОСТ8239-72\n",
              "767          ГОСТ22580-88\n",
              "787           ГОСТ8607-82\n",
              "789         ГОСТ015150-69\n",
              "804           ГОСТ9941-81\n",
              "1075          ГОСТ8709-62\n",
              "1646         ГОСТ24045-94\n",
              "1693          ГОСТ6228-80\n",
              "1914          ГОСТ8732-78\n",
              "2034         ГОСТ19904-74\n",
              "2060          ГОСТ8960-75\n",
              "2080          ГОСТ2823-73\n",
              "2083          ГОСТ7113-77\n",
              "2094       ГОСТ17375-2001\n",
              "2097       ГОСТ17378-2001\n",
              "2098         ГОСТ22826-83\n",
              "2114          ГОСТ6958-78\n",
              "2128        ГОСТ243790-80\n",
              "2147          ГОСТ2424-83\n",
              "2157            ГОСТ11516\n",
              "108           ГОСТ8732-74\n",
              "115          ГОСТ14637-89\n",
              "128          ГОСТ11516-94"
            ]
          },
          "execution_count": 152,
          "metadata": {},
          "output_type": "execute_result"
        }
      ],
      "source": [
        "gosts[gosts[\"Нормативный документ\"].str.contains(r\"ГОСТ\\d+\")]"
      ]
    },
    {
      "cell_type": "code",
      "execution_count": null,
      "metadata": {
        "id": "FjoAu0gFLIhm"
      },
      "outputs": [],
      "source": [
        "gosts = change_values(gosts, \"Нормативный документ\", r\"ГОСТ(\\d+)\", \"ГОСТ \\1\")"
      ]
    },
    {
      "cell_type": "code",
      "execution_count": null,
      "metadata": {
        "hide_input": true,
        "id": "oJCzQT4DLIhn"
      },
      "outputs": [],
      "source": [
        "# for i, row in gosts.iterrows():\n",
        "#     doc_name = row[\"Нормативный документ\"]\n",
        "#     new_doc = re.sub(r\"ГОСТ(\\d+)\", \"ГОСТ \\1\", doc_name)\n",
        "#     gosts.at[i, \"Нормативный документ\"] = new_doc"
      ]
    },
    {
      "cell_type": "markdown",
      "metadata": {
        "id": "c8oqKLZGLIhn"
      },
      "source": [
        "проверяем наналичие записей без пробелов"
      ]
    },
    {
      "cell_type": "code",
      "execution_count": null,
      "metadata": {
        "id": "po-XhyfbLIhn",
        "outputId": "6429aeb5-63f5-4bc4-8e23-6d9a7dedd6b8"
      },
      "outputs": [
        {
          "data": {
            "text/html": [
              "<div>\n",
              "<style scoped>\n",
              "    .dataframe tbody tr th:only-of-type {\n",
              "        vertical-align: middle;\n",
              "    }\n",
              "\n",
              "    .dataframe tbody tr th {\n",
              "        vertical-align: top;\n",
              "    }\n",
              "\n",
              "    .dataframe thead th {\n",
              "        text-align: right;\n",
              "    }\n",
              "</style>\n",
              "<table border=\"1\" class=\"dataframe\">\n",
              "  <thead>\n",
              "    <tr style=\"text-align: right;\">\n",
              "      <th></th>\n",
              "      <th>Нормативный документ</th>\n",
              "    </tr>\n",
              "  </thead>\n",
              "  <tbody>\n",
              "  </tbody>\n",
              "</table>\n",
              "</div>"
            ],
            "text/plain": [
              "Empty DataFrame\n",
              "Columns: [Нормативный документ]\n",
              "Index: []"
            ]
          },
          "execution_count": 155,
          "metadata": {},
          "output_type": "execute_result"
        }
      ],
      "source": [
        "gosts[gosts[\"Нормативный документ\"].str.contains(r\"ГОСТ\\d+\")]"
      ]
    },
    {
      "cell_type": "markdown",
      "metadata": {
        "id": "kQiw_cxeLIhn"
      },
      "source": [
        "убираем дубли"
      ]
    },
    {
      "cell_type": "code",
      "execution_count": null,
      "metadata": {
        "id": "hi9dD90aLIhn"
      },
      "outputs": [],
      "source": [
        "gosts.dropna(inplace=True)"
      ]
    },
    {
      "cell_type": "code",
      "execution_count": null,
      "metadata": {
        "id": "Itan1MhlLIho",
        "outputId": "c2bb57e0-8745-493b-88b3-5f27ba59d2fb"
      },
      "outputs": [
        {
          "data": {
            "text/html": [
              "<div>\n",
              "<style scoped>\n",
              "    .dataframe tbody tr th:only-of-type {\n",
              "        vertical-align: middle;\n",
              "    }\n",
              "\n",
              "    .dataframe tbody tr th {\n",
              "        vertical-align: top;\n",
              "    }\n",
              "\n",
              "    .dataframe thead th {\n",
              "        text-align: right;\n",
              "    }\n",
              "</style>\n",
              "<table border=\"1\" class=\"dataframe\">\n",
              "  <thead>\n",
              "    <tr style=\"text-align: right;\">\n",
              "      <th></th>\n",
              "      <th>Нормативный документ</th>\n",
              "    </tr>\n",
              "  </thead>\n",
              "  <tbody>\n",
              "    <tr>\n",
              "      <th>0</th>\n",
              "      <td>ГОСТ 2590-88</td>\n",
              "    </tr>\n",
              "    <tr>\n",
              "      <th>1</th>\n",
              "      <td>ГОСТ 4543-71</td>\n",
              "    </tr>\n",
              "    <tr>\n",
              "      <th>2</th>\n",
              "      <td>ГОСТ 2590-88</td>\n",
              "    </tr>\n",
              "    <tr>\n",
              "      <th>3</th>\n",
              "      <td>ГОСТ 1050-88</td>\n",
              "    </tr>\n",
              "    <tr>\n",
              "      <th>4</th>\n",
              "      <td>ГОСТ 14-1-5228-93</td>\n",
              "    </tr>\n",
              "    <tr>\n",
              "      <th>...</th>\n",
              "      <td>...</td>\n",
              "    </tr>\n",
              "    <tr>\n",
              "      <th>124</th>\n",
              "      <td>ГОСТ 11677-85</td>\n",
              "    </tr>\n",
              "    <tr>\n",
              "      <th>125</th>\n",
              "      <td>ГОСТ 17375-01</td>\n",
              "    </tr>\n",
              "    <tr>\n",
              "      <th>126</th>\n",
              "      <td>ГОСТ 8.586-2005</td>\n",
              "    </tr>\n",
              "    <tr>\n",
              "      <th>127</th>\n",
              "      <td>ГОСТ 30732-2001</td>\n",
              "    </tr>\n",
              "    <tr>\n",
              "      <th>128</th>\n",
              "      <td>ГОСТ Р 52719</td>\n",
              "    </tr>\n",
              "  </tbody>\n",
              "</table>\n",
              "<p>2295 rows × 1 columns</p>\n",
              "</div>"
            ],
            "text/plain": [
              "    Нормативный документ\n",
              "0           ГОСТ 2590-88\n",
              "1           ГОСТ 4543-71\n",
              "2           ГОСТ 2590-88\n",
              "3           ГОСТ 1050-88\n",
              "4      ГОСТ 14-1-5228-93\n",
              "..                   ...\n",
              "124        ГОСТ 11677-85\n",
              "125        ГОСТ 17375-01\n",
              "126      ГОСТ 8.586-2005\n",
              "127      ГОСТ 30732-2001\n",
              "128         ГОСТ Р 52719\n",
              "\n",
              "[2295 rows x 1 columns]"
            ]
          },
          "execution_count": 157,
          "metadata": {},
          "output_type": "execute_result"
        }
      ],
      "source": [
        "gosts"
      ]
    },
    {
      "cell_type": "markdown",
      "metadata": {
        "id": "GME8YzHuLIho"
      },
      "source": [
        "**СОПОСТАВЛЕНИЕ**"
      ]
    },
    {
      "cell_type": "markdown",
      "metadata": {
        "hide_input": false,
        "id": "jOT-elwxLIho"
      },
      "source": [
        "1 способ - точное совпадение (находит меньше документов, но вероятность совпадения 100%)"
      ]
    },
    {
      "cell_type": "code",
      "execution_count": null,
      "metadata": {
        "id": "r0Iw9UYqLIho",
        "outputId": "01d00fef-33ec-47be-a147-816848b41c72"
      },
      "outputs": [
        {
          "name": "stderr",
          "output_type": "stream",
          "text": [
            "100%|██████████████████████████████████████████████████████████████████████████████| 1138/1138 [09:03<00:00,  2.09it/s]\n"
          ]
        }
      ],
      "source": [
        "match_completed(gosts, \"title\", df_te, \"title\")\n",
        "# show_result(gosts, \"te_exist\")\n"
      ]
    },
    {
      "cell_type": "code",
      "execution_count": null,
      "metadata": {
        "id": "ZUp_HXMQLIho",
        "outputId": "5d3c72d9-8d75-49ad-fbf5-c29811f1422a"
      },
      "outputs": [
        {
          "data": {
            "text/html": [
              "<div>\n",
              "<style scoped>\n",
              "    .dataframe tbody tr th:only-of-type {\n",
              "        vertical-align: middle;\n",
              "    }\n",
              "\n",
              "    .dataframe tbody tr th {\n",
              "        vertical-align: top;\n",
              "    }\n",
              "\n",
              "    .dataframe thead th {\n",
              "        text-align: right;\n",
              "    }\n",
              "</style>\n",
              "<table border=\"1\" class=\"dataframe\">\n",
              "  <thead>\n",
              "    <tr style=\"text-align: right;\">\n",
              "      <th></th>\n",
              "      <th>ГОСТ</th>\n",
              "      <th>title</th>\n",
              "      <th>te_exist</th>\n",
              "      <th>te_contains</th>\n",
              "    </tr>\n",
              "  </thead>\n",
              "  <tbody>\n",
              "    <tr>\n",
              "      <th>0</th>\n",
              "      <td>ГОСТ 4543-71</td>\n",
              "      <td>\"ГОСТ 4543-71 Прокат из легированной конструкц...</td>\n",
              "      <td>0</td>\n",
              "      <td>0</td>\n",
              "    </tr>\n",
              "    <tr>\n",
              "      <th>5</th>\n",
              "      <td>ГОСТ 52630-2006</td>\n",
              "      <td>\"ГОСТ Р 52630-2006 Сосуды и аппараты стальные ...</td>\n",
              "      <td>0</td>\n",
              "      <td>0</td>\n",
              "    </tr>\n",
              "    <tr>\n",
              "      <th>9</th>\n",
              "      <td>ГОСТ 20714-75</td>\n",
              "      <td>\"ГОСТ 20714-75 Ткани фильтровальные хлорирован...</td>\n",
              "      <td>0</td>\n",
              "      <td>0</td>\n",
              "    </tr>\n",
              "    <tr>\n",
              "      <th>15</th>\n",
              "      <td>ГОСТ МЭК 60598-1-2003</td>\n",
              "      <td>\"ГОСТ Р МЭК 60598-1-2003 Светильники. Часть 1....</td>\n",
              "      <td>0</td>\n",
              "      <td>0</td>\n",
              "    </tr>\n",
              "    <tr>\n",
              "      <th>19</th>\n",
              "      <td>ГОСТ 7396-1-89</td>\n",
              "      <td>\"ГОСТ 7396.1-89 (МЭК 83-75) Соединители электр...</td>\n",
              "      <td>0</td>\n",
              "      <td>0</td>\n",
              "    </tr>\n",
              "    <tr>\n",
              "      <th>...</th>\n",
              "      <td>...</td>\n",
              "      <td>...</td>\n",
              "      <td>...</td>\n",
              "      <td>...</td>\n",
              "    </tr>\n",
              "    <tr>\n",
              "      <th>1118</th>\n",
              "      <td>ОСТ 2 Г93-20-87</td>\n",
              "      <td>\"ОСТ 2 Г93-20-87 Штуцера под манометры. Констр...</td>\n",
              "      <td>0</td>\n",
              "      <td>0</td>\n",
              "    </tr>\n",
              "    <tr>\n",
              "      <th>1120</th>\n",
              "      <td>ОСТ 6-01-37-88</td>\n",
              "      <td>\"ОСТ 6-01-37-88 Смола поливинилхлоридная хлори...</td>\n",
              "      <td>0</td>\n",
              "      <td>0</td>\n",
              "    </tr>\n",
              "    <tr>\n",
              "      <th>1123</th>\n",
              "      <td>ОСТ 32.134-99</td>\n",
              "      <td>\"ОСТ 32.134-99 Брусья железобетонные предварит...</td>\n",
              "      <td>0</td>\n",
              "      <td>0</td>\n",
              "    </tr>\n",
              "    <tr>\n",
              "      <th>1128</th>\n",
              "      <td>ОСТ 37.003.051-81</td>\n",
              "      <td>\"ОСТ 37.003.051-81 Фары противотуманные. Техни...</td>\n",
              "      <td>0</td>\n",
              "      <td>0</td>\n",
              "    </tr>\n",
              "    <tr>\n",
              "      <th>1134</th>\n",
              "      <td>ОСТ 24.191.05</td>\n",
              "      <td>\"ОСТ 24.191.05-82 Блоки для стальных канатов. ...</td>\n",
              "      <td>0</td>\n",
              "      <td>0</td>\n",
              "    </tr>\n",
              "  </tbody>\n",
              "</table>\n",
              "<p>262 rows × 4 columns</p>\n",
              "</div>"
            ],
            "text/plain": [
              "                       ГОСТ  \\\n",
              "0              ГОСТ 4543-71   \n",
              "5           ГОСТ 52630-2006   \n",
              "9             ГОСТ 20714-75   \n",
              "15    ГОСТ МЭК 60598-1-2003   \n",
              "19           ГОСТ 7396-1-89   \n",
              "...                     ...   \n",
              "1118       ОСТ 2 Г93-20-87    \n",
              "1120         ОСТ 6-01-37-88   \n",
              "1123          ОСТ 32.134-99   \n",
              "1128      ОСТ 37.003.051-81   \n",
              "1134          ОСТ 24.191.05   \n",
              "\n",
              "                                                  title  te_exist  te_contains  \n",
              "0     \"ГОСТ 4543-71 Прокат из легированной конструкц...         0            0  \n",
              "5     \"ГОСТ Р 52630-2006 Сосуды и аппараты стальные ...         0            0  \n",
              "9     \"ГОСТ 20714-75 Ткани фильтровальные хлорирован...         0            0  \n",
              "15    \"ГОСТ Р МЭК 60598-1-2003 Светильники. Часть 1....         0            0  \n",
              "19    \"ГОСТ 7396.1-89 (МЭК 83-75) Соединители электр...         0            0  \n",
              "...                                                 ...       ...          ...  \n",
              "1118  \"ОСТ 2 Г93-20-87 Штуцера под манометры. Констр...         0            0  \n",
              "1120  \"ОСТ 6-01-37-88 Смола поливинилхлоридная хлори...         0            0  \n",
              "1123  \"ОСТ 32.134-99 Брусья железобетонные предварит...         0            0  \n",
              "1128  \"ОСТ 37.003.051-81 Фары противотуманные. Техни...         0            0  \n",
              "1134  \"ОСТ 24.191.05-82 Блоки для стальных канатов. ...         0            0  \n",
              "\n",
              "[262 rows x 4 columns]"
            ]
          },
          "execution_count": 28,
          "metadata": {},
          "output_type": "execute_result"
        }
      ],
      "source": [
        "gosts[gosts[\"te_exist\"] == 0]"
      ]
    },
    {
      "cell_type": "markdown",
      "metadata": {
        "id": "8BqOIHXuLIhp"
      },
      "source": [
        "2 способ - поиск по подстроке (оптимальный, находит также разные версии одного и того же НД)"
      ]
    },
    {
      "cell_type": "code",
      "execution_count": null,
      "metadata": {
        "scrolled": false,
        "id": "JCgi-BdkLIhp",
        "outputId": "8e77f8ab-8f0c-4e24-9e59-f0def8547072"
      },
      "outputs": [
        {
          "name": "stderr",
          "output_type": "stream",
          "text": [
            "100%|████████████████████████████████████████████████████████████████████████████████| 262/262 [10:29<00:00,  2.40s/it]"
          ]
        },
        {
          "name": "stdout",
          "output_type": "stream",
          "text": [
            "Найдено 0 совпадений из 262, 262 документов не найдено в ТехЭксперте\n"
          ]
        },
        {
          "name": "stderr",
          "output_type": "stream",
          "text": [
            "\n"
          ]
        }
      ],
      "source": [
        "match_string(gosts, \"title\", df_te, \"title\")\n",
        "show_result(gosts, \"te_contains\")"
      ]
    },
    {
      "cell_type": "code",
      "execution_count": null,
      "metadata": {
        "id": "BJ0pYOB7LIhp"
      },
      "outputs": [],
      "source": [
        "not_found = gosts[gosts['te_contains'] == 0]\n",
        "not_found.to_excel(\"Not_found_GOSTs.xlsx\")\n"
      ]
    },
    {
      "cell_type": "markdown",
      "metadata": {
        "id": "VmxT04i5LIhp"
      },
      "source": [
        "тестирование:"
      ]
    },
    {
      "cell_type": "code",
      "execution_count": null,
      "metadata": {
        "id": "CNmrRU4vLIhq",
        "outputId": "2daf5c6b-8863-4c23-b33c-150c9922c52d"
      },
      "outputs": [
        {
          "data": {
            "text/plain": [
              "['Поправка к ГОСТ 33259-2015 Фланцы арматуры, соединительных частей и трубопроводов на номинальное давление до PN 250. Конструкция, размеры и общие технические требования',\n",
              " 'Поправка к ГОСТ 33259-2015 Фланцы арматуры, соединительных частей и трубопроводов на номинальное давление до PN 250. Конструкция, размеры и общие технические требования',\n",
              " 'Об опечатке в ГОСТ 33259-2015 \"Фланцы арматуры, соединительных частей и трубопроводов на номинальное давление до PN 250. Конструкция, размеры и общие технические требования\"',\n",
              " 'ГОСТ 33259-2015 Фланцы арматуры, соединительных частей и трубопроводов на номинальное давление до PN 250. Конструкция, размеры и общие технические требования (с Поправками)',\n",
              " 'Каких рекомендаций (ГОСТ 32569-2013 или ГОСТ 33259-2015) следует придерживаться при проектировании технологических трубопроводов, в частности при выборе типа уплотнительной поверхности фланцев?',\n",
              " 'При определении типа уплотнительных поверхностей фланцев согласно приложения \"Р\" ГОСТ 32569-2013 и приложения \"А\" ГОСТ 33259-2015 необходимо учитывать не только рабочую среду (вещество), но и номинальное давление']"
            ]
          },
          "execution_count": 158,
          "metadata": {},
          "output_type": "execute_result"
        }
      ],
      "source": [
        "df_te[df_te[\"title\"].str.contains(\"ГОСТ 33259-2015\")][\"title\"].tolist()"
      ]
    },
    {
      "cell_type": "code",
      "execution_count": null,
      "metadata": {
        "id": "104OT0UuLIhq"
      },
      "outputs": [],
      "source": [
        ""
      ]
    }
  ],
  "metadata": {
    "colab": {
      "collapsed_sections": [],
      "name": "Сопоставление_НТД_из_ЕСМ_и_ТЭ.ipynb",
      "provenance": [],
      "include_colab_link": true
    },
    "kernelspec": {
      "display_name": "Python 3",
      "language": "python",
      "name": "python3"
    },
    "language_info": {
      "codemirror_mode": {
        "name": "ipython",
        "version": 3
      },
      "file_extension": ".py",
      "mimetype": "text/x-python",
      "name": "python",
      "nbconvert_exporter": "python",
      "pygments_lexer": "ipython3",
      "version": "3.7.6"
    }
  },
  "nbformat": 4,
  "nbformat_minor": 0
}