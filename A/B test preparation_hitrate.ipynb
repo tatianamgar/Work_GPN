{
  "cells": [
    {
      "cell_type": "markdown",
      "metadata": {
        "id": "view-in-github",
        "colab_type": "text"
      },
      "source": [
        "<a href=\"https://colab.research.google.com/github/tatianamgar/Work_GPN/blob/main/A/B%20test%20preparation_hitrate.ipynb\" target=\"_parent\"><img src=\"https://colab.research.google.com/assets/colab-badge.svg\" alt=\"Open In Colab\"/></a>"
      ]
    },
    {
      "cell_type": "code",
      "execution_count": null,
      "metadata": {
        "id": "13_A9OFwA5Tw"
      },
      "outputs": [],
      "source": [
        "import os\n",
        "import sys\n",
        "from pathlib import Path\n",
        "\n",
        "root_dir = os.path.abspath(os.getcwd())\n",
        "root_dir = str(Path(root_dir).parent)\n",
        "sys.path.append(root_dir)\n",
        "\n",
        "\n",
        "import pandas as pd\n",
        "import numpy as np\n",
        "import seaborn as sns\n",
        "from tqdm import tqdm\n",
        "import plotly.express as px\n",
        "import matplotlib.pyplot as plt\n",
        "from scipy.stats import kstest, shapiro\n",
        "import statsmodels.stats.power as smp\n",
        "import math\n",
        "import scipy.stats as st\n",
        "import warnings\n",
        "warnings.filterwarnings('ignore')\n",
        "\n",
        "\n",
        "\n",
        "from constants import PATH_AUDIT_SEARCH, PATH_AUDIT_COPY, PATH_AUDIT_CARD\n",
        "from src.data.make_dataset import read_file\n",
        "from src.features.build_features import get_layer\n",
        "from src.utils.statistics import interval, report, sample_size, test_power\n",
        "# from src.utils.helpers import get_window_df_by_query, get_window_df_by_ans_ids\n",
        "\n",
        "os.chdir('C:/Users/Mgar.TA/PycharmProjects/analytics-main')"
      ]
    },
    {
      "cell_type": "code",
      "execution_count": null,
      "metadata": {
        "id": "2q82jYlZA5T0"
      },
      "outputs": [],
      "source": [
        "df = pd.read_csv(\"C:\\Users\\Mgar.TA\\PycharmProjects\\analytics-main\\data\\raw\\nsi.audit_search.csv\" , sep='$', encoding='utf-8')\n",
        "df.head(3)"
      ]
    },
    {
      "cell_type": "code",
      "execution_count": null,
      "metadata": {
        "id": "64LSQlAfA5T1"
      },
      "outputs": [],
      "source": [
        "# audit_search таблица\n",
        "search = read_file(PATH_AUDIT_SEARCH, sep='\\t')\n",
        "search = search[['date_time', 'page_number', 'query', 'username', 'answer', 'answer_ids', 'session_id', 'request_id']]\n",
        "# убираем в audit_search пустые запросы\n",
        "search = search.dropna()\n",
        "# добавляем поле слоя поиска\n",
        "search['activeLayer'] = get_layer(search, 'answer')\n",
        "search = search[search['date_time'] > '2023-06-06 12:00']\n",
        "search = search[search['activeLayer'] == 'fulltext']\n",
        "search = search.drop_duplicates(subset=['request_id'])\n",
        "\n",
        "\n",
        "# audit_card таблица\n",
        "card = read_file(PATH_AUDIT_CARD, sep='\\t')\n",
        "card = card[card['date_time'] > '2023-06-06 12:00']\n",
        "card = card[['username', 'query', 'date_time', 'session_id' , 'request_id']]\n",
        "card = card.drop_duplicates(subset=['request_id'])\n",
        "\n",
        "\n",
        "\n",
        "\n",
        "# audit_copy таблица\n",
        "copy = read_file(PATH_AUDIT_COPY, sep='\\t')\n",
        "copy = copy[copy['date_time'] > '2023-06-06 12:00']\n",
        "copy = copy[['username', 'query', 'date_time', 'session_id' , 'request_id', 'action']]\n",
        "copy = copy[(copy['action'] == 'SEARCH_ID') | (copy['action'] == 'SEARCH_DESCRIPTION')]\n",
        "copy = copy.drop_duplicates(subset=['request_id'])\n",
        "\n"
      ]
    },
    {
      "cell_type": "code",
      "execution_count": null,
      "metadata": {
        "id": "kT2dls47A5T2",
        "outputId": "01a2e0ed-8d6a-4312-8bb4-197d76a17655"
      },
      "outputs": [
        {
          "data": {
            "text/html": [
              "<div>\n",
              "<style scoped>\n",
              "    .dataframe tbody tr th:only-of-type {\n",
              "        vertical-align: middle;\n",
              "    }\n",
              "\n",
              "    .dataframe tbody tr th {\n",
              "        vertical-align: top;\n",
              "    }\n",
              "\n",
              "    .dataframe thead th {\n",
              "        text-align: right;\n",
              "    }\n",
              "</style>\n",
              "<table border=\"1\" class=\"dataframe\">\n",
              "  <thead>\n",
              "    <tr style=\"text-align: right;\">\n",
              "      <th></th>\n",
              "      <th>date_time</th>\n",
              "      <th>page_number</th>\n",
              "      <th>search_query</th>\n",
              "      <th>username</th>\n",
              "      <th>answer</th>\n",
              "      <th>answer_ids</th>\n",
              "      <th>session_id</th>\n",
              "      <th>request_id</th>\n",
              "      <th>activeLayer</th>\n",
              "      <th>code_of_opened_card</th>\n",
              "      <th>action</th>\n",
              "    </tr>\n",
              "  </thead>\n",
              "  <tbody>\n",
              "    <tr>\n",
              "      <th>0</th>\n",
              "      <td>2023-06-19 15:37:08.872</td>\n",
              "      <td>1</td>\n",
              "      <td>*ввгнг(а)-frls*3х1,5*</td>\n",
              "      <td>Oganesov.AN@GAZPROM-NEFT.LOCAL</td>\n",
              "      <td>{   \"hits\" : [ {     \"number\" : 1,     \"id\" : ...</td>\n",
              "      <td>[770001013597, 770000845367, 770000901436, 770...</td>\n",
              "      <td>5eaca438-72f7-498b-91cc-8bc8946524b6</td>\n",
              "      <td>9eed5172-929c-4384-88c5-0c5001a0233d</td>\n",
              "      <td>fulltext</td>\n",
              "      <td>7.700009e+11</td>\n",
              "      <td>NaN</td>\n",
              "    </tr>\n",
              "    <tr>\n",
              "      <th>1</th>\n",
              "      <td>2023-06-19 15:36:01.225</td>\n",
              "      <td>1</td>\n",
              "      <td>*ввгнг(а)-ls*3х1,5*</td>\n",
              "      <td>Oganesov.AN@GAZPROM-NEFT.LOCAL</td>\n",
              "      <td>{   \"hits\" : [ {     \"number\" : 1,     \"id\" : ...</td>\n",
              "      <td>[770000129619, 770001106440, 770001266991, 770...</td>\n",
              "      <td>5eaca438-72f7-498b-91cc-8bc8946524b6</td>\n",
              "      <td>8fc077e8-2ff8-407a-a9f4-d3b8da613337</td>\n",
              "      <td>fulltext</td>\n",
              "      <td>7.700003e+11</td>\n",
              "      <td>SEARCH_ID</td>\n",
              "    </tr>\n",
              "    <tr>\n",
              "      <th>2</th>\n",
              "      <td>2023-06-19 14:34:39.096</td>\n",
              "      <td>1</td>\n",
              "      <td>G310201020102</td>\n",
              "      <td>Enikeev.IR@GAZPROM-NEFT.LOCAL</td>\n",
              "      <td>{   \"hits\" : [ {     \"number\" : 1,     \"id\" : ...</td>\n",
              "      <td>[770000401330, 770000401333, 770000335470, 770...</td>\n",
              "      <td>d933b8fe-4f41-4e25-a8cf-10648dda4745</td>\n",
              "      <td>759ae04a-1401-4cef-99f4-2250e3b4b57a</td>\n",
              "      <td>fulltext</td>\n",
              "      <td>NaN</td>\n",
              "      <td>NaN</td>\n",
              "    </tr>\n",
              "  </tbody>\n",
              "</table>\n",
              "</div>"
            ],
            "text/plain": [
              "                date_time  page_number           search_query  \\\n",
              "0 2023-06-19 15:37:08.872            1  *ввгнг(а)-frls*3х1,5*   \n",
              "1 2023-06-19 15:36:01.225            1    *ввгнг(а)-ls*3х1,5*   \n",
              "2 2023-06-19 14:34:39.096            1          G310201020102   \n",
              "\n",
              "                         username  \\\n",
              "0  Oganesov.AN@GAZPROM-NEFT.LOCAL   \n",
              "1  Oganesov.AN@GAZPROM-NEFT.LOCAL   \n",
              "2   Enikeev.IR@GAZPROM-NEFT.LOCAL   \n",
              "\n",
              "                                              answer  \\\n",
              "0  {   \"hits\" : [ {     \"number\" : 1,     \"id\" : ...   \n",
              "1  {   \"hits\" : [ {     \"number\" : 1,     \"id\" : ...   \n",
              "2  {   \"hits\" : [ {     \"number\" : 1,     \"id\" : ...   \n",
              "\n",
              "                                          answer_ids  \\\n",
              "0  [770001013597, 770000845367, 770000901436, 770...   \n",
              "1  [770000129619, 770001106440, 770001266991, 770...   \n",
              "2  [770000401330, 770000401333, 770000335470, 770...   \n",
              "\n",
              "                             session_id                            request_id  \\\n",
              "0  5eaca438-72f7-498b-91cc-8bc8946524b6  9eed5172-929c-4384-88c5-0c5001a0233d   \n",
              "1  5eaca438-72f7-498b-91cc-8bc8946524b6  8fc077e8-2ff8-407a-a9f4-d3b8da613337   \n",
              "2  d933b8fe-4f41-4e25-a8cf-10648dda4745  759ae04a-1401-4cef-99f4-2250e3b4b57a   \n",
              "\n",
              "  activeLayer  code_of_opened_card     action  \n",
              "0    fulltext         7.700009e+11        NaN  \n",
              "1    fulltext         7.700003e+11  SEARCH_ID  \n",
              "2    fulltext                  NaN        NaN  "
            ]
          },
          "execution_count": 157,
          "metadata": {},
          "output_type": "execute_result"
        }
      ],
      "source": [
        "cs_hr1 = search.merge(card[['request_id', 'query']], how='left', on=['request_id'])\n",
        "cs_hr1 = cs_hr1.rename(columns={\"query_x\": \"search_query\", 'query_y': 'code_of_opened_card'})\n",
        "\n",
        "cs_hr = cs_hr1.merge(copy[['request_id', 'action']], how='left', on=['request_id'])\n",
        "cs_hr.head(3)"
      ]
    },
    {
      "cell_type": "code",
      "execution_count": null,
      "metadata": {
        "id": "-t_hEWrAA5T3",
        "outputId": "27a576b8-f53e-41db-961f-910b41fb2fd9"
      },
      "outputs": [
        {
          "name": "stderr",
          "output_type": "stream",
          "text": [
            "100%|██████████| 22892/22892 [00:00<00:00, 37166.94it/s]\n"
          ]
        },
        {
          "data": {
            "text/plain": [
              "marker\n",
              "True    5654\n",
              "Name: count, dtype: int64"
            ]
          },
          "execution_count": 60,
          "metadata": {},
          "output_type": "execute_result"
        }
      ],
      "source": [
        "# оставляем только последовательность : если в запросе было действие, то в порядке запрос-карточка\n",
        "\n",
        "# cs_hr1['marker'] = np.nan\n",
        "# for ind in tqdm(cs_hr1.index):\n",
        "#     if cs_hr1['code_of_opened_card'][ind] == np.nan:\n",
        "#         continue\n",
        "\n",
        "#     else:\n",
        "#         if cs_hr1['card_time'][ind] < cs_hr1['search_time'][ind]:\n",
        "#             cs_hr1['marker'][ind] = True\n",
        "\n",
        "\n",
        "# cs_hr1['marker'].value_counts()\n",
        "\n",
        "# cs_hr1 = cs_hr1[cs_hr1['marker'] != True]"
      ]
    },
    {
      "cell_type": "code",
      "execution_count": null,
      "metadata": {
        "id": "5WNHCxwJA5T3",
        "outputId": "78ae3e9f-a74a-4bca-a0f1-30e01889d1ae"
      },
      "outputs": [
        {
          "data": {
            "text/html": [
              "<div>\n",
              "<style scoped>\n",
              "    .dataframe tbody tr th:only-of-type {\n",
              "        vertical-align: middle;\n",
              "    }\n",
              "\n",
              "    .dataframe tbody tr th {\n",
              "        vertical-align: top;\n",
              "    }\n",
              "\n",
              "    .dataframe thead th {\n",
              "        text-align: right;\n",
              "    }\n",
              "</style>\n",
              "<table border=\"1\" class=\"dataframe\">\n",
              "  <thead>\n",
              "    <tr style=\"text-align: right;\">\n",
              "      <th></th>\n",
              "      <th>date_time</th>\n",
              "      <th>page_number</th>\n",
              "      <th>search_query</th>\n",
              "      <th>username</th>\n",
              "      <th>answer</th>\n",
              "      <th>answer_ids</th>\n",
              "      <th>session_id</th>\n",
              "      <th>request_id</th>\n",
              "      <th>activeLayer</th>\n",
              "      <th>code_of_opened_card</th>\n",
              "      <th>action</th>\n",
              "    </tr>\n",
              "  </thead>\n",
              "  <tbody>\n",
              "    <tr>\n",
              "      <th>0</th>\n",
              "      <td>2023-06-19 15:37:08.872</td>\n",
              "      <td>1</td>\n",
              "      <td>*ввгнг(а)-frls*3х1,5*</td>\n",
              "      <td>Oganesov.AN@GAZPROM-NEFT.LOCAL</td>\n",
              "      <td>{   \"hits\" : [ {     \"number\" : 1,     \"id\" : ...</td>\n",
              "      <td>[770001013597, 770000845367, 770000901436, 770...</td>\n",
              "      <td>5eaca438-72f7-498b-91cc-8bc8946524b6</td>\n",
              "      <td>9eed5172-929c-4384-88c5-0c5001a0233d</td>\n",
              "      <td>fulltext</td>\n",
              "      <td>1</td>\n",
              "      <td>0</td>\n",
              "    </tr>\n",
              "    <tr>\n",
              "      <th>1</th>\n",
              "      <td>2023-06-19 15:36:01.225</td>\n",
              "      <td>1</td>\n",
              "      <td>*ввгнг(а)-ls*3х1,5*</td>\n",
              "      <td>Oganesov.AN@GAZPROM-NEFT.LOCAL</td>\n",
              "      <td>{   \"hits\" : [ {     \"number\" : 1,     \"id\" : ...</td>\n",
              "      <td>[770000129619, 770001106440, 770001266991, 770...</td>\n",
              "      <td>5eaca438-72f7-498b-91cc-8bc8946524b6</td>\n",
              "      <td>8fc077e8-2ff8-407a-a9f4-d3b8da613337</td>\n",
              "      <td>fulltext</td>\n",
              "      <td>1</td>\n",
              "      <td>1</td>\n",
              "    </tr>\n",
              "    <tr>\n",
              "      <th>2</th>\n",
              "      <td>2023-06-19 14:34:39.096</td>\n",
              "      <td>1</td>\n",
              "      <td>G310201020102</td>\n",
              "      <td>Enikeev.IR@GAZPROM-NEFT.LOCAL</td>\n",
              "      <td>{   \"hits\" : [ {     \"number\" : 1,     \"id\" : ...</td>\n",
              "      <td>[770000401330, 770000401333, 770000335470, 770...</td>\n",
              "      <td>d933b8fe-4f41-4e25-a8cf-10648dda4745</td>\n",
              "      <td>759ae04a-1401-4cef-99f4-2250e3b4b57a</td>\n",
              "      <td>fulltext</td>\n",
              "      <td>0</td>\n",
              "      <td>0</td>\n",
              "    </tr>\n",
              "  </tbody>\n",
              "</table>\n",
              "</div>"
            ],
            "text/plain": [
              "                date_time  page_number           search_query  \\\n",
              "0 2023-06-19 15:37:08.872            1  *ввгнг(а)-frls*3х1,5*   \n",
              "1 2023-06-19 15:36:01.225            1    *ввгнг(а)-ls*3х1,5*   \n",
              "2 2023-06-19 14:34:39.096            1          G310201020102   \n",
              "\n",
              "                         username  \\\n",
              "0  Oganesov.AN@GAZPROM-NEFT.LOCAL   \n",
              "1  Oganesov.AN@GAZPROM-NEFT.LOCAL   \n",
              "2   Enikeev.IR@GAZPROM-NEFT.LOCAL   \n",
              "\n",
              "                                              answer  \\\n",
              "0  {   \"hits\" : [ {     \"number\" : 1,     \"id\" : ...   \n",
              "1  {   \"hits\" : [ {     \"number\" : 1,     \"id\" : ...   \n",
              "2  {   \"hits\" : [ {     \"number\" : 1,     \"id\" : ...   \n",
              "\n",
              "                                          answer_ids  \\\n",
              "0  [770001013597, 770000845367, 770000901436, 770...   \n",
              "1  [770000129619, 770001106440, 770001266991, 770...   \n",
              "2  [770000401330, 770000401333, 770000335470, 770...   \n",
              "\n",
              "                             session_id                            request_id  \\\n",
              "0  5eaca438-72f7-498b-91cc-8bc8946524b6  9eed5172-929c-4384-88c5-0c5001a0233d   \n",
              "1  5eaca438-72f7-498b-91cc-8bc8946524b6  8fc077e8-2ff8-407a-a9f4-d3b8da613337   \n",
              "2  d933b8fe-4f41-4e25-a8cf-10648dda4745  759ae04a-1401-4cef-99f4-2250e3b4b57a   \n",
              "\n",
              "  activeLayer  code_of_opened_card  action  \n",
              "0    fulltext                    1       0  \n",
              "1    fulltext                    1       1  \n",
              "2    fulltext                    0       0  "
            ]
          },
          "execution_count": 158,
          "metadata": {},
          "output_type": "execute_result"
        }
      ],
      "source": [
        "cs_hr['code_of_opened_card'] = cs_hr['code_of_opened_card'].apply(lambda x: 0 if math.isnan(x) else 1)\n",
        "cs_hr['action'] = cs_hr['action'].apply(lambda x: 1 if type(x)==str else 0)\n",
        "cs_hr.head(3)"
      ]
    },
    {
      "cell_type": "code",
      "execution_count": null,
      "metadata": {
        "id": "cEjntEZyA5T4",
        "outputId": "27a726e0-46a6-4750-a3c6-77d7348cddd3"
      },
      "outputs": [
        {
          "name": "stderr",
          "output_type": "stream",
          "text": [
            "100%|██████████| 9765/9765 [00:02<00:00, 4664.20it/s]\n"
          ]
        }
      ],
      "source": [
        "cs_hr['actions'] = np.nan\n",
        "\n",
        "for ind in tqdm(cs_hr.index):\n",
        "    if cs_hr['code_of_opened_card'][ind] == 1 or cs_hr['action'][ind] == 1:\n",
        "        cs_hr['actions'][ind]  = 1\n",
        "\n",
        "    else:\n",
        "        cs_hr['actions'][ind]  = 0"
      ]
    },
    {
      "cell_type": "code",
      "execution_count": null,
      "metadata": {
        "id": "ERvLpYeVA5T4",
        "outputId": "91ac02d6-59ff-4ba7-b617-6110c644cd3a"
      },
      "outputs": [
        {
          "data": {
            "text/plain": [
              "actions\n",
              "0.0    5358\n",
              "1.0    4407\n",
              "Name: count, dtype: int64"
            ]
          },
          "execution_count": 161,
          "metadata": {},
          "output_type": "execute_result"
        }
      ],
      "source": [
        "cs_hr['actions'].value_counts()"
      ]
    },
    {
      "cell_type": "code",
      "execution_count": null,
      "metadata": {
        "id": "E6roQQU-A5T5",
        "outputId": "3ccdb202-5314-40d3-f11f-9f8420dd4302"
      },
      "outputs": [
        {
          "data": {
            "text/html": [
              "<div>\n",
              "<style scoped>\n",
              "    .dataframe tbody tr th:only-of-type {\n",
              "        vertical-align: middle;\n",
              "    }\n",
              "\n",
              "    .dataframe tbody tr th {\n",
              "        vertical-align: top;\n",
              "    }\n",
              "\n",
              "    .dataframe thead th {\n",
              "        text-align: right;\n",
              "    }\n",
              "</style>\n",
              "<table border=\"1\" class=\"dataframe\">\n",
              "  <thead>\n",
              "    <tr style=\"text-align: right;\">\n",
              "      <th></th>\n",
              "      <th></th>\n",
              "      <th>num_of_queries</th>\n",
              "      <th>num_of_actions</th>\n",
              "      <th>HR</th>\n",
              "    </tr>\n",
              "    <tr>\n",
              "      <th>username</th>\n",
              "      <th>date</th>\n",
              "      <th></th>\n",
              "      <th></th>\n",
              "      <th></th>\n",
              "    </tr>\n",
              "  </thead>\n",
              "  <tbody>\n",
              "    <tr>\n",
              "      <th>Abdrakhmanov.TA@GAZPROM-NEFT.LOCAL</th>\n",
              "      <th>2023-06-15</th>\n",
              "      <td>5</td>\n",
              "      <td>5.0</td>\n",
              "      <td>1.000000</td>\n",
              "    </tr>\n",
              "    <tr>\n",
              "      <th>Abdulina.II@GAZPROM-NEFT.LOCAL</th>\n",
              "      <th>2023-06-14</th>\n",
              "      <td>2</td>\n",
              "      <td>2.0</td>\n",
              "      <td>1.000000</td>\n",
              "    </tr>\n",
              "    <tr>\n",
              "      <th>Adilov.SSh@GAZPROM-NEFT.LOCAL</th>\n",
              "      <th>2023-06-13</th>\n",
              "      <td>6</td>\n",
              "      <td>2.0</td>\n",
              "      <td>0.333333</td>\n",
              "    </tr>\n",
              "  </tbody>\n",
              "</table>\n",
              "</div>"
            ],
            "text/plain": [
              "                                               num_of_queries  num_of_actions  \\\n",
              "username                           date                                         \n",
              "Abdrakhmanov.TA@GAZPROM-NEFT.LOCAL 2023-06-15               5             5.0   \n",
              "Abdulina.II@GAZPROM-NEFT.LOCAL     2023-06-14               2             2.0   \n",
              "Adilov.SSh@GAZPROM-NEFT.LOCAL      2023-06-13               6             2.0   \n",
              "\n",
              "                                                     HR  \n",
              "username                           date                  \n",
              "Abdrakhmanov.TA@GAZPROM-NEFT.LOCAL 2023-06-15  1.000000  \n",
              "Abdulina.II@GAZPROM-NEFT.LOCAL     2023-06-14  1.000000  \n",
              "Adilov.SSh@GAZPROM-NEFT.LOCAL      2023-06-13  0.333333  "
            ]
          },
          "execution_count": 243,
          "metadata": {},
          "output_type": "execute_result"
        }
      ],
      "source": [
        "cs_hr['date'] = cs_hr['date_time'].apply(lambda x: x.date())\n",
        "hr_per_user = pd.merge(cs_hr.groupby(['username', 'date'])['request_id'].count(),\n",
        "                       cs_hr.groupby(['username', 'date'])['actions'].sum(),\n",
        "                       how='inner', on=['username', 'date'])\n",
        "hr_per_user = hr_per_user.rename(columns={'request_id': 'num_of_queries', 'actions': 'num_of_actions'})\n",
        "hr_per_user['HR'] = hr_per_user['num_of_actions']/hr_per_user['num_of_queries']\n",
        "hr_per_user.head(3)"
      ]
    },
    {
      "cell_type": "code",
      "execution_count": null,
      "metadata": {
        "id": "vo26QELeA5T5",
        "outputId": "c61730b2-d156-4c50-dff5-25616050ed65"
      },
      "outputs": [
        {
          "data": {
            "text/plain": [
              "0.3939393939393939"
            ]
          },
          "execution_count": 246,
          "metadata": {},
          "output_type": "execute_result"
        }
      ],
      "source": [
        "len(hr_per_user[(hr_per_user['HR'] == 1) | (hr_per_user['HR'] == 0)])/len(hr_per_user)"
      ]
    },
    {
      "cell_type": "code",
      "execution_count": null,
      "metadata": {
        "id": "dNlOxIslA5T5",
        "outputId": "6311a439-491a-45b0-804e-a44f595c6611"
      },
      "outputs": [
        {
          "data": {
            "text/plain": [
              "0.19559228650137742"
            ]
          },
          "execution_count": 247,
          "metadata": {},
          "output_type": "execute_result"
        }
      ],
      "source": [
        "len(hr_per_user[hr_per_user['HR'] == 1])/len(hr_per_user)"
      ]
    },
    {
      "cell_type": "markdown",
      "metadata": {
        "id": "0bZboa7yA5T6"
      },
      "source": []
    },
    {
      "cell_type": "code",
      "execution_count": null,
      "metadata": {
        "id": "cBDLg9YVA5T7",
        "outputId": "5490be59-4bcf-4868-8a25-62c623b9b191"
      },
      "outputs": [
        {
          "data": {
            "text/plain": [
              "0.19834710743801653"
            ]
          },
          "execution_count": 248,
          "metadata": {},
          "output_type": "execute_result"
        }
      ],
      "source": [
        "len(hr_per_user[hr_per_user['HR'] == 0])/len(hr_per_user)"
      ]
    },
    {
      "cell_type": "code",
      "execution_count": null,
      "metadata": {
        "id": "3bkuQRmlA5T7",
        "outputId": "82bd71bf-d83a-4c3c-b8e0-2f7e8927167e"
      },
      "outputs": [
        {
          "data": {
            "text/plain": [
              "count    440.000000\n",
              "mean       0.468293\n",
              "std        0.192299\n",
              "min        0.052632\n",
              "25%        0.333333\n",
              "50%        0.500000\n",
              "75%        0.608135\n",
              "max        0.911765\n",
              "Name: HR, dtype: float64"
            ]
          },
          "execution_count": 204,
          "metadata": {},
          "output_type": "execute_result"
        }
      ],
      "source": [
        "\n",
        "hr_per_user = hr_per_user[(hr_per_user['HR'] < 1) & (hr_per_user['HR'] > 0)]\n",
        "hr_per_user['HR'].describe()"
      ]
    },
    {
      "cell_type": "code",
      "execution_count": null,
      "metadata": {
        "id": "IuaFLUOZA5T7",
        "outputId": "92c58c02-8b37-479e-d635-50f7e2174f06"
      },
      "outputs": [
        {
          "data": {
            "text/plain": [
              "<Axes: >"
            ]
          },
          "execution_count": 166,
          "metadata": {},
          "output_type": "execute_result"
        },
        {
          "data": {
            "image/png": "[encoded data removed]",
            "text/plain": [
              "<Figure size 640x480 with 1 Axes>"
            ]
          },
          "metadata": {},
          "output_type": "display_data"
        }
      ],
      "source": [
        "hr_per_user['HR'].hist()"
      ]
    },
    {
      "cell_type": "code",
      "execution_count": null,
      "metadata": {
        "id": "pUuEXHm6A5T7",
        "outputId": "afc255ec-ff9f-4654-93a2-f0368df12cf4"
      },
      "outputs": [
        {
          "data": {
            "text/plain": [
              "<Axes: >"
            ]
          },
          "execution_count": 167,
          "metadata": {},
          "output_type": "execute_result"
        },
        {
          "data": {
            "image/png": "[encoded data removed]",
            "text/plain": [
              "<Figure size 640x480 with 1 Axes>"
            ]
          },
          "metadata": {},
          "output_type": "display_data"
        }
      ],
      "source": [
        "sns.boxplot(hr_per_user['HR'])"
      ]
    },
    {
      "cell_type": "markdown",
      "metadata": {
        "id": "uE647zcmA5T8"
      },
      "source": [
        "**Тесты на нормальность**"
      ]
    },
    {
      "cell_type": "markdown",
      "metadata": {
        "id": "CRPscOToA5T8"
      },
      "source": [
        "H0- выборка взята из ген сов-ти с нормальным распределением\n",
        "H1 - выборка взята из ген сов-ти с др распределением"
      ]
    },
    {
      "cell_type": "code",
      "execution_count": null,
      "metadata": {
        "id": "_Ap2SmkUA5T8",
        "outputId": "e803348b-a2af-4f51-beb7-2a434b7ec1ed"
      },
      "outputs": [
        {
          "data": {
            "text/plain": [
              "KstestResult(statistic=0.5261914736406653, pvalue=4.660604254575819e-114, statistic_location=0.1, statistic_sign=-1)"
            ]
          },
          "metadata": {},
          "output_type": "display_data"
        }
      ],
      "source": [
        "kstest(hr_per_user['HR'], 'norm')"
      ]
    },
    {
      "cell_type": "code",
      "execution_count": null,
      "metadata": {
        "id": "p5aQjIfNA5T8",
        "outputId": "7b82d410-c300-493a-ea56-0f2fdac006de"
      },
      "outputs": [
        {
          "data": {
            "text/plain": [
              "ShapiroResult(statistic=0.983678936958313, pvalue=7.375476707238704e-05)"
            ]
          },
          "metadata": {},
          "output_type": "display_data"
        }
      ],
      "source": [
        "shapiro(hr_per_user['HR'])"
      ]
    },
    {
      "cell_type": "markdown",
      "metadata": {
        "id": "pIxS-LkLA5T8"
      },
      "source": [
        "тесты не показывают стат значимые результаты, H0 отвергнуть нельзя, придерживаемся гипотезы, что распр нормальное"
      ]
    },
    {
      "cell_type": "markdown",
      "metadata": {
        "id": "XZVg_Uy6A5T9"
      },
      "source": [
        "**A/B test**"
      ]
    },
    {
      "cell_type": "markdown",
      "metadata": {
        "id": "RDojghs2A5T9"
      },
      "source": [
        "Т-тест"
      ]
    },
    {
      "cell_type": "code",
      "execution_count": null,
      "metadata": {
        "id": "xhKmOPH4A5T9",
        "outputId": "73b858fc-28dc-4313-bf84-1caa8bb7fc36"
      },
      "outputs": [
        {
          "name": "stdout",
          "output_type": "stream",
          "text": [
            "0.4870451819310816\n"
          ]
        }
      ],
      "source": [
        "from statsmodels.stats.power import tt_ind_solve_power\n",
        "mean = hr_per_user['HR'].describe()['mean'] # рассчитанное среднее за 2-5 недель\n",
        "se = hr_per_user['HR'].describe()['std'] # рассчитанное стандартное отклонение за тот же период\n",
        "power = 0.8\n",
        "alpha = 0.05\n",
        "lift = 0.2 # хотим увидеть 20% изменение в метрику\n",
        "effect_size = mean / se * lift\n",
        "print(effect_size)"
      ]
    },
    {
      "cell_type": "code",
      "execution_count": null,
      "metadata": {
        "id": "-wg1quavA5T9",
        "outputId": "43ba45c4-0958-4583-817b-494beed5937a"
      },
      "outputs": [
        {
          "data": {
            "text/plain": [
              "67.1496283858968"
            ]
          },
          "execution_count": 225,
          "metadata": {},
          "output_type": "execute_result"
        }
      ],
      "source": [
        "# Результат – наблюдения на одну выборку (соотвественно, умножаем на 2)\n",
        "sample_size = tt_ind_solve_power(effect_size=effect_size, alpha=alpha, power=power, nobs1=None, ratio=1)\n",
        "sample_size"
      ]
    },
    {
      "cell_type": "code",
      "execution_count": null,
      "metadata": {
        "id": "Qe3m6JovA5T9",
        "outputId": "2dd06188-7157-4cab-86d9-f4e16c5596b7"
      },
      "outputs": [
        {
          "name": "stderr",
          "output_type": "stream",
          "text": [
            "100%|██████████| 1950/1950 [00:08<00:00, 234.07it/s]\n"
          ]
        }
      ],
      "source": [
        "effects = []\n",
        "sample_sizes = []\n",
        "\n",
        "for i in tqdm(range(50,2000)):\n",
        "    effects.append(smp.tt_ind_solve_power(nobs1 = i, alpha = alpha, power = power))\n",
        "    sample_sizes.append(i)"
      ]
    },
    {
      "cell_type": "code",
      "execution_count": null,
      "metadata": {
        "id": "2B29cYDaA5T-",
        "outputId": "1383e487-0775-4d35-d140-acf2eaa04dc9"
      },
      "outputs": [
        {
          "data": {
            "text/plain": [
              "Text(0, 0.5, 'Effect Amount')"
            ]
          },
          "execution_count": 227,
          "metadata": {},
          "output_type": "execute_result"
        },
        {
          "data": {
            "image/png": "[encoded data removed]",
            "text/plain": [
              "<Figure size 640x480 with 1 Axes>"
            ]
          },
          "metadata": {},
          "output_type": "display_data"
        }
      ],
      "source": [
        "viz = sns.lineplot(x=sample_sizes, y=effects)\n",
        "viz.set_xlabel(\"Sample Size\")\n",
        "viz.set_ylabel(\"Effect Amount\")"
      ]
    },
    {
      "cell_type": "code",
      "execution_count": null,
      "metadata": {
        "id": "OOOOCenRA5T-",
        "outputId": "a6195183-34ef-4d01-ac76-24b0fc88543b"
      },
      "outputs": [
        {
          "name": "stdout",
          "output_type": "stream",
          "text": [
            "Длительность теста при детектируемом изменении в 20.0 %, мощности теста 0.8 - \n",
            " 3.0 дней, \n",
            " 0.5 рабочих недель\n"
          ]
        }
      ],
      "source": [
        "# среднее количество пользователей, совершающих действие, в день\n",
        "us_day = cs_hr.groupby(['date'])['username'].nunique().agg(['mean'])\n",
        "test_duration = (sample_size*2)/us_day\n",
        "working_weeks = test_duration/5\n",
        "print(f'Длительность теста при детектируемом изменении в { round(lift *100, 2) } %, мощности теста {power} - \\n {round(test_duration[0], 0)} дней, \\n {round(working_weeks[0], 1)} рабочих недель')"
      ]
    },
    {
      "cell_type": "markdown",
      "metadata": {
        "id": "Ub-BX3k8A5T-"
      },
      "source": [
        "**Хитрейт общий**"
      ]
    },
    {
      "cell_type": "code",
      "execution_count": null,
      "metadata": {
        "id": "BpdCgLEYA5T-",
        "outputId": "0a87fe5d-9780-438d-dbae-5e86f9fbf9fd"
      },
      "outputs": [
        {
          "data": {
            "text/plain": [
              "<Axes: >"
            ]
          },
          "execution_count": 229,
          "metadata": {},
          "output_type": "execute_result"
        },
        {
          "data": {
            "image/png": "[encoded data removed]",
            "text/plain": [
              "<Figure size 640x480 with 1 Axes>"
            ]
          },
          "metadata": {},
          "output_type": "display_data"
        }
      ],
      "source": [
        "cs_hr['actions'].hist()"
      ]
    },
    {
      "cell_type": "code",
      "execution_count": null,
      "metadata": {
        "id": "69V9V_szA5T_",
        "outputId": "aae3bf05-9384-41f4-b2da-82c84457821c"
      },
      "outputs": [
        {
          "data": {
            "text/plain": [
              "0.45130568356374806"
            ]
          },
          "execution_count": 230,
          "metadata": {},
          "output_type": "execute_result"
        }
      ],
      "source": [
        "HR = sum(cs_hr['actions'])/len(cs_hr['actions'])\n",
        "HR"
      ]
    },
    {
      "cell_type": "code",
      "execution_count": null,
      "metadata": {
        "id": "cz0BYv8iA5UA",
        "outputId": "2c185bb3-fcc8-4e95-e5d5-3360e24c4ecf"
      },
      "outputs": [
        {
          "data": {
            "text/plain": [
              "count    9765.000000\n",
              "mean        0.451306\n",
              "std         0.497649\n",
              "min         0.000000\n",
              "25%         0.000000\n",
              "50%         0.000000\n",
              "75%         1.000000\n",
              "max         1.000000\n",
              "Name: actions, dtype: float64"
            ]
          },
          "execution_count": 179,
          "metadata": {},
          "output_type": "execute_result"
        }
      ],
      "source": [
        "cs_hr['actions'].describe()"
      ]
    },
    {
      "cell_type": "code",
      "execution_count": null,
      "metadata": {
        "id": "iGdI-KdpA5UA",
        "outputId": "a08c913d-1280-4951-ea84-dc3de29d4871"
      },
      "outputs": [
        {
          "data": {
            "text/plain": [
              "-0.18003677358474923"
            ]
          },
          "execution_count": 231,
          "metadata": {},
          "output_type": "execute_result"
        }
      ],
      "source": [
        "# Критерий пропорций (нужен для кликов, конверсий). Ниже посчитаем прогноз, в котором мы хотели бы увидеть разницу p_x и p_y.\n",
        "# Когда подойдет время сравнения экспериментального эффекта с прогнозом, нам таким же образом нужно взять все экспериментальные\n",
        "# параметры и сравнить их. Например, прогнозный h с фактическим (экспериментальным) h\n",
        "alpha = 0.05\n",
        "power = 0.8\n",
        "n = len(cs_hr['actions'])\n",
        "p_x = HR\n",
        "p_y = 0.5412 #20%\n",
        "\n",
        "h = 2*math.asin(np.sqrt(p_x)) - 2*math.asin(np.sqrt(p_y))\n",
        "h"
      ]
    },
    {
      "cell_type": "code",
      "execution_count": null,
      "metadata": {
        "id": "PUTTyTqaA5UA",
        "outputId": "cce442d7-aae7-4cf2-8585-f68ab9066ee6"
      },
      "outputs": [
        {
          "data": {
            "text/plain": [
              "484.2996598999949"
            ]
          },
          "execution_count": 232,
          "metadata": {},
          "output_type": "execute_result"
        }
      ],
      "source": [
        "# Сколько наблюдений необходимо для заданного эффекта, чтобы\n",
        "# результаты двухвыборочного теста пропорций были с заданным уровнем значимости\n",
        "# и заданной мощностью критерий (1 - вероятность ошибки II-го рода)\n",
        "\n",
        "sample_size = smp.zt_ind_solve_power(effect_size = h, alpha = alpha, power = power, alternative='two-sided')\n",
        "sample_size"
      ]
    },
    {
      "cell_type": "code",
      "execution_count": null,
      "metadata": {
        "id": "TIpuxjjHA5UA",
        "outputId": "7c534103-3955-44db-a0b7-c956b22a844b"
      },
      "outputs": [
        {
          "name": "stderr",
          "output_type": "stream",
          "text": [
            "100%|██████████| 1950/1950 [00:11<00:00, 165.93it/s]\n"
          ]
        }
      ],
      "source": [
        "effects = []\n",
        "sample_sizes = []\n",
        "\n",
        "for i in tqdm(range(50,2000)):\n",
        "    effects.append(smp.zt_ind_solve_power(nobs1 = i, alpha = alpha, power = power))\n",
        "    sample_sizes.append(i)"
      ]
    },
    {
      "cell_type": "code",
      "execution_count": null,
      "metadata": {
        "id": "FNhU350OA5UA",
        "outputId": "211c49cb-3f4e-4d98-e1b2-0d8c447dbfc5"
      },
      "outputs": [
        {
          "data": {
            "text/plain": [
              "Text(0, 0.5, 'Effect Amount')"
            ]
          },
          "execution_count": 234,
          "metadata": {},
          "output_type": "execute_result"
        },
        {
          "data": {
            "image/png": "[encoded data removed]",
            "text/plain": [
              "<Figure size 640x480 with 1 Axes>"
            ]
          },
          "metadata": {},
          "output_type": "display_data"
        }
      ],
      "source": [
        "viz = sns.lineplot(x=sample_sizes, y=effects)\n",
        "viz.set_xlabel(\"Sample Size\")\n",
        "viz.set_ylabel(\"Effect Amount\")"
      ]
    },
    {
      "cell_type": "markdown",
      "metadata": {
        "id": "lh-T6N98A5UB"
      },
      "source": [
        "Длительность теста:"
      ]
    },
    {
      "cell_type": "code",
      "execution_count": null,
      "metadata": {
        "id": "YswRfxeaA5UB",
        "outputId": "dfdf86b2-1b33-4dde-a2e3-ec7e72be7a33"
      },
      "outputs": [
        {
          "name": "stdout",
          "output_type": "stream",
          "text": [
            "Длительность теста при детектируемом изменении в -18.0 %, мощности теста 0.8 - \n",
            " 1.0 дней, \n",
            " 0.3 рабочих недель\n"
          ]
        }
      ],
      "source": [
        "# среднее количество пользователей, совершающих действие, в день\n",
        "us_day = cs_hr.groupby(['date'])['username'].count().agg(['mean'])\n",
        "test_duration = (sample_size*2)/us_day\n",
        "working_weeks = test_duration/5\n",
        "print(f'Длительность теста при детектируемом изменении в { round(h *100, 2) } %, мощности теста {power} - \\n {round(test_duration[0], 0)} дней, \\n {round(working_weeks[0], 1)} рабочих недель')"
      ]
    },
    {
      "cell_type": "code",
      "execution_count": null,
      "metadata": {
        "id": "yV16qyRKA5UB",
        "outputId": "8cfdbf1e-df48-4572-c205-854adcdc3c15"
      },
      "outputs": [
        {
          "data": {
            "text/plain": [
              "mean    41.571429\n",
              "Name: username, dtype: float64"
            ]
          },
          "execution_count": 196,
          "metadata": {},
          "output_type": "execute_result"
        }
      ],
      "source": [
        "us_day = cs_hr[cs_hr['actions'] == 1].groupby(['date'])['username'].nunique().agg(['mean'])\n",
        "us_day"
      ]
    },
    {
      "cell_type": "code",
      "execution_count": null,
      "metadata": {
        "id": "ELJFDHAQA5UF",
        "outputId": "c69ca1ca-1cea-400b-db20-7b5b1328126a"
      },
      "outputs": [
        {
          "data": {
            "text/plain": [
              "mean    697.5\n",
              "Name: username, dtype: float64"
            ]
          },
          "execution_count": 198,
          "metadata": {},
          "output_type": "execute_result"
        }
      ],
      "source": [
        "cs_hr.groupby(['date'])['username'].count().agg(['mean'])"
      ]
    },
    {
      "cell_type": "code",
      "execution_count": null,
      "metadata": {
        "id": "91IBNAE2A5UG",
        "outputId": "4fe76feb-95ad-4b4e-c477-078ba57ae578"
      },
      "outputs": [
        {
          "data": {
            "text/plain": [
              "mean    314.785714\n",
              "Name: username, dtype: float64"
            ]
          },
          "execution_count": 199,
          "metadata": {},
          "output_type": "execute_result"
        }
      ],
      "source": [
        "cs_hr[cs_hr['actions'] == 1].groupby(['date'])['username'].count().agg(['mean'])"
      ]
    },
    {
      "cell_type": "code",
      "execution_count": null,
      "metadata": {
        "id": "VEvWybAsA5UG",
        "outputId": "2ceec90d-b6dd-4819-d0e2-c3a97e71188b"
      },
      "outputs": [
        {
          "data": {
            "text/plain": [
              "mean    51.857143\n",
              "Name: username, dtype: float64"
            ]
          },
          "execution_count": 201,
          "metadata": {},
          "output_type": "execute_result"
        }
      ],
      "source": [
        "cs_hr.groupby(['date'])['username'].nunique().agg(['mean'])"
      ]
    },
    {
      "cell_type": "markdown",
      "metadata": {
        "id": "rgXTViRUA5UG"
      },
      "source": [
        "Хитрейт в день"
      ]
    },
    {
      "cell_type": "code",
      "execution_count": null,
      "metadata": {
        "id": "baJNs_4HA5UG",
        "outputId": "c166ee78-86bf-4b12-dea6-9feebc910aeb"
      },
      "outputs": [
        {
          "data": {
            "text/html": [
              "<div>\n",
              "<style scoped>\n",
              "    .dataframe tbody tr th:only-of-type {\n",
              "        vertical-align: middle;\n",
              "    }\n",
              "\n",
              "    .dataframe tbody tr th {\n",
              "        vertical-align: top;\n",
              "    }\n",
              "\n",
              "    .dataframe thead th {\n",
              "        text-align: right;\n",
              "    }\n",
              "</style>\n",
              "<table border=\"1\" class=\"dataframe\">\n",
              "  <thead>\n",
              "    <tr style=\"text-align: right;\">\n",
              "      <th></th>\n",
              "      <th>num_of_queries</th>\n",
              "      <th>num_of_actions</th>\n",
              "      <th>HR</th>\n",
              "    </tr>\n",
              "    <tr>\n",
              "      <th>date</th>\n",
              "      <th></th>\n",
              "      <th></th>\n",
              "      <th></th>\n",
              "    </tr>\n",
              "  </thead>\n",
              "  <tbody>\n",
              "    <tr>\n",
              "      <th>2023-06-06</th>\n",
              "      <td>121</td>\n",
              "      <td>41.0</td>\n",
              "      <td>0.338843</td>\n",
              "    </tr>\n",
              "    <tr>\n",
              "      <th>2023-06-07</th>\n",
              "      <td>606</td>\n",
              "      <td>272.0</td>\n",
              "      <td>0.448845</td>\n",
              "    </tr>\n",
              "    <tr>\n",
              "      <th>2023-06-08</th>\n",
              "      <td>1159</td>\n",
              "      <td>551.0</td>\n",
              "      <td>0.475410</td>\n",
              "    </tr>\n",
              "  </tbody>\n",
              "</table>\n",
              "</div>"
            ],
            "text/plain": [
              "            num_of_queries  num_of_actions        HR\n",
              "date                                                \n",
              "2023-06-06             121            41.0  0.338843\n",
              "2023-06-07             606           272.0  0.448845\n",
              "2023-06-08            1159           551.0  0.475410"
            ]
          },
          "execution_count": 213,
          "metadata": {},
          "output_type": "execute_result"
        }
      ],
      "source": [
        "cs_hr['date'] = cs_hr['date_time'].apply(lambda x: x.date())\n",
        "hr_per_day = pd.merge(cs_hr.groupby(['date'])['request_id'].count(),\n",
        "                       cs_hr.groupby(['date'])['actions'].sum(),\n",
        "                       how='inner', on=['date'])\n",
        "hr_per_day = hr_per_day.rename(columns={'request_id': 'num_of_queries', 'actions': 'num_of_actions'})\n",
        "hr_per_day['HR'] = hr_per_day['num_of_actions']/hr_per_day['num_of_queries']\n",
        "hr_per_day.head(3)"
      ]
    },
    {
      "cell_type": "code",
      "execution_count": null,
      "metadata": {
        "id": "2EoZPEKoA5UG",
        "outputId": "e6126506-90f5-4c63-b02d-d7b474c35627"
      },
      "outputs": [
        {
          "data": {
            "text/plain": [
              "<Axes: >"
            ]
          },
          "execution_count": 214,
          "metadata": {},
          "output_type": "execute_result"
        },
        {
          "data": {
            "image/png": "[encoded data removed]",
            "text/plain": [
              "<Figure size 640x480 with 1 Axes>"
            ]
          },
          "metadata": {},
          "output_type": "display_data"
        }
      ],
      "source": [
        "hr_per_day['HR'].hist()"
      ]
    },
    {
      "cell_type": "code",
      "execution_count": null,
      "metadata": {
        "id": "5_gSKB4ZA5UH",
        "outputId": "a6a487ff-bbaf-4575-e680-2411449cf6e2"
      },
      "outputs": [
        {
          "data": {
            "text/plain": [
              "KstestResult(statistic=0.632635987597791, pvalue=5.8302262445863946e-06, statistic_location=0.33884297520661155, statistic_sign=-1)"
            ]
          },
          "execution_count": 236,
          "metadata": {},
          "output_type": "execute_result"
        }
      ],
      "source": [
        "kstest(hr_per_day['HR'], 'norm')"
      ]
    },
    {
      "cell_type": "code",
      "execution_count": null,
      "metadata": {
        "id": "HCeo8E7MA5UH",
        "outputId": "d9b14042-336c-4538-81ce-e4d628adbfc3"
      },
      "outputs": [
        {
          "data": {
            "text/plain": [
              "ShapiroResult(statistic=0.8762474656105042, pvalue=0.05140141397714615)"
            ]
          },
          "execution_count": 237,
          "metadata": {},
          "output_type": "execute_result"
        }
      ],
      "source": [
        "shapiro(hr_per_day['HR'])"
      ]
    },
    {
      "cell_type": "code",
      "execution_count": null,
      "metadata": {
        "id": "tPIvm65EA5UH",
        "outputId": "713d5197-04d8-48a8-e75e-d67bb6b893a2"
      },
      "outputs": [
        {
          "data": {
            "text/plain": [
              "mean    41.571429\n",
              "Name: username, dtype: float64"
            ]
          },
          "metadata": {},
          "output_type": "display_data"
        }
      ],
      "source": [
        "us_day = cs_hr[cs_hr['actions'] == 1].groupby(['date'])['username'].nunique().agg(['mean'])\n",
        "us_day"
      ]
    },
    {
      "cell_type": "code",
      "execution_count": null,
      "metadata": {
        "id": "Nnwiq-BKA5UH"
      },
      "outputs": [],
      "source": []
    },
    {
      "cell_type": "markdown",
      "metadata": {
        "id": "donzpRwEA5UH"
      },
      "source": [
        "Хитрейт на пользователя"
      ]
    },
    {
      "cell_type": "code",
      "execution_count": null,
      "metadata": {
        "id": "a7CCyjp0A5UH",
        "outputId": "c10fa842-6cda-4841-b085-ba66d06e5508"
      },
      "outputs": [
        {
          "data": {
            "text/html": [
              "<div>\n",
              "<style scoped>\n",
              "    .dataframe tbody tr th:only-of-type {\n",
              "        vertical-align: middle;\n",
              "    }\n",
              "\n",
              "    .dataframe tbody tr th {\n",
              "        vertical-align: top;\n",
              "    }\n",
              "\n",
              "    .dataframe thead th {\n",
              "        text-align: right;\n",
              "    }\n",
              "</style>\n",
              "<table border=\"1\" class=\"dataframe\">\n",
              "  <thead>\n",
              "    <tr style=\"text-align: right;\">\n",
              "      <th></th>\n",
              "      <th>num_of_queries</th>\n",
              "      <th>num_of_actions</th>\n",
              "      <th>HR</th>\n",
              "    </tr>\n",
              "    <tr>\n",
              "      <th>username</th>\n",
              "      <th></th>\n",
              "      <th></th>\n",
              "      <th></th>\n",
              "    </tr>\n",
              "  </thead>\n",
              "  <tbody>\n",
              "    <tr>\n",
              "      <th>Abdrakhmanov.TA@GAZPROM-NEFT.LOCAL</th>\n",
              "      <td>5</td>\n",
              "      <td>5.0</td>\n",
              "      <td>1.000000</td>\n",
              "    </tr>\n",
              "    <tr>\n",
              "      <th>Abdulina.II@GAZPROM-NEFT.LOCAL</th>\n",
              "      <td>2</td>\n",
              "      <td>2.0</td>\n",
              "      <td>1.000000</td>\n",
              "    </tr>\n",
              "    <tr>\n",
              "      <th>Adilov.SSh@GAZPROM-NEFT.LOCAL</th>\n",
              "      <td>6</td>\n",
              "      <td>2.0</td>\n",
              "      <td>0.333333</td>\n",
              "    </tr>\n",
              "  </tbody>\n",
              "</table>\n",
              "</div>"
            ],
            "text/plain": [
              "                                    num_of_queries  num_of_actions        HR\n",
              "username                                                                    \n",
              "Abdrakhmanov.TA@GAZPROM-NEFT.LOCAL               5             5.0  1.000000\n",
              "Abdulina.II@GAZPROM-NEFT.LOCAL                   2             2.0  1.000000\n",
              "Adilov.SSh@GAZPROM-NEFT.LOCAL                    6             2.0  0.333333"
            ]
          },
          "execution_count": 249,
          "metadata": {},
          "output_type": "execute_result"
        }
      ],
      "source": [
        "cs_hr['date'] = cs_hr['date_time'].apply(lambda x: x.date())\n",
        "hr_per = pd.merge(cs_hr.groupby(['username'])['request_id'].count(),\n",
        "                       cs_hr.groupby(['username'])['actions'].sum(),\n",
        "                       how='inner', on=['username'])\n",
        "hr_per = hr_per.rename(columns={'request_id': 'num_of_queries', 'actions': 'num_of_actions'})\n",
        "hr_per['HR'] = hr_per['num_of_actions']/hr_per['num_of_queries']\n",
        "hr_per.head(3)"
      ]
    },
    {
      "cell_type": "code",
      "execution_count": null,
      "metadata": {
        "id": "YHp_xwcDA5UI",
        "outputId": "67aca3af-fb87-41a6-befa-fb6755f5b198"
      },
      "outputs": [
        {
          "data": {
            "text/plain": [
              "<Axes: >"
            ]
          },
          "execution_count": 250,
          "metadata": {},
          "output_type": "execute_result"
        },
        {
          "data": {
            "image/png": "[encoded data removed]",
            "text/plain": [
              "<Figure size 640x480 with 1 Axes>"
            ]
          },
          "metadata": {},
          "output_type": "display_data"
        }
      ],
      "source": [
        "hr_per['HR'].hist()"
      ]
    },
    {
      "cell_type": "code",
      "execution_count": null,
      "metadata": {
        "id": "qO1mI--7A5UI",
        "outputId": "76224056-b05a-49e8-b973-d7d85547a86c"
      },
      "outputs": [
        {
          "data": {
            "text/plain": [
              "0.2876712328767123"
            ]
          },
          "execution_count": 251,
          "metadata": {},
          "output_type": "execute_result"
        }
      ],
      "source": [
        "len(hr_per[(hr_per['HR'] == 1) | (hr_per['HR'] == 0)])/len(hr_per)"
      ]
    },
    {
      "cell_type": "code",
      "execution_count": null,
      "metadata": {
        "id": "Vdhp755eA5UI",
        "outputId": "ac5401aa-02c2-49e0-d993-421c9ac4090d"
      },
      "outputs": [
        {
          "data": {
            "text/plain": [
              "count    208.000000\n",
              "mean       0.488266\n",
              "std        0.180044\n",
              "min        0.066667\n",
              "25%        0.363636\n",
              "50%        0.500000\n",
              "75%        0.638346\n",
              "max        0.923077\n",
              "Name: HR, dtype: float64"
            ]
          },
          "execution_count": 252,
          "metadata": {},
          "output_type": "execute_result"
        }
      ],
      "source": [
        "hr_per = hr_per[(hr_per['HR'] < 1) & (hr_per['HR'] > 0)]\n",
        "hr_per['HR'].describe()"
      ]
    },
    {
      "cell_type": "code",
      "execution_count": null,
      "metadata": {
        "id": "Oic2RKqoA5UI",
        "outputId": "9d1a3fcc-defc-4074-c8b4-8dcd2ceb76bb"
      },
      "outputs": [
        {
          "data": {
            "text/plain": [
              "KstestResult(statistic=0.5373376787647498, pvalue=1.0834390866677559e-56, statistic_location=0.16666666666666666, statistic_sign=-1)"
            ]
          },
          "execution_count": 219,
          "metadata": {},
          "output_type": "execute_result"
        }
      ],
      "source": [
        "kstest(hr_per['HR'], 'norm')"
      ]
    },
    {
      "cell_type": "code",
      "execution_count": null,
      "metadata": {
        "id": "9X0PGtGKA5UI",
        "outputId": "741d5a83-b24b-431c-8490-898dc451f1cc"
      },
      "outputs": [
        {
          "data": {
            "text/plain": [
              "ShapiroResult(statistic=0.9878333806991577, pvalue=0.073094442486763)"
            ]
          },
          "execution_count": 220,
          "metadata": {},
          "output_type": "execute_result"
        }
      ],
      "source": [
        "shapiro(hr_per['HR'])"
      ]
    },
    {
      "cell_type": "code",
      "execution_count": null,
      "metadata": {
        "id": "LHs-QXzVA5UJ",
        "outputId": "33b3067b-5800-4e37-ad0c-5e07f073590a"
      },
      "outputs": [
        {
          "name": "stdout",
          "output_type": "stream",
          "text": [
            "0.5423859958199313\n"
          ]
        }
      ],
      "source": [
        "from statsmodels.stats.power import tt_ind_solve_power\n",
        "mean = hr_per['HR'].describe()['mean'] # рассчитанное среднее за 2-5 недель\n",
        "se = hr_per['HR'].describe()['std'] # рассчитанное стандартное отклонение за тот же период\n",
        "power = 0.8\n",
        "alpha = 0.05\n",
        "lift = 0.2 # хотим увидеть 20% изменение в метрику\n",
        "effect_size = mean / se * lift\n",
        "print(effect_size)"
      ]
    },
    {
      "cell_type": "code",
      "execution_count": null,
      "metadata": {
        "id": "rAouW8MZA5UJ",
        "outputId": "bcf7246d-83b0-4ec0-98e4-3f99d0b3b9b8"
      },
      "outputs": [
        {
          "data": {
            "text/plain": [
              "54.33772660371254"
            ]
          },
          "execution_count": 254,
          "metadata": {},
          "output_type": "execute_result"
        }
      ],
      "source": [
        "# Результат – наблюдения на одну выборку (соотвественно, умножаем на 2)\n",
        "sample_size = tt_ind_solve_power(effect_size=effect_size, alpha=alpha, power=power, nobs1=None, ratio=1)\n",
        "sample_size"
      ]
    },
    {
      "cell_type": "code",
      "execution_count": null,
      "metadata": {
        "id": "gfkqo6TKA5UJ",
        "outputId": "5c28f34e-296e-4a2e-df02-ca233518bdde"
      },
      "outputs": [
        {
          "name": "stdout",
          "output_type": "stream",
          "text": [
            "Длительность теста при детектируемом изменении в 20.0 %, мощности теста 0.8 - \n",
            " 3.0 дней, \n",
            " 0.6 рабочих недель\n"
          ]
        }
      ],
      "source": [
        "# среднее количество пользователей, совершающих действие, в день\n",
        "us_day = cs_hr.groupby(['username'])['request_id'].count().agg(['mean'])\n",
        "test_duration = (sample_size*2)/us_day\n",
        "working_weeks = test_duration/5\n",
        "print(f'Длительность теста при детектируемом изменении в { round(lift *100, 2) } %, мощности теста {power} - \\n {round(test_duration[0], 0)} дней, \\n {round(working_weeks[0], 1)} рабочих недель')"
      ]
    },
    {
      "cell_type": "code",
      "execution_count": null,
      "metadata": {
        "id": "Y8QIs_G8A5UJ",
        "outputId": "c375c9e7-7bad-4a44-f017-41aebd1e6aba"
      },
      "outputs": [
        {
          "name": "stderr",
          "output_type": "stream",
          "text": [
            "100%|██████████| 1950/1950 [00:08<00:00, 231.54it/s]\n"
          ]
        }
      ],
      "source": [
        "effects = []\n",
        "sample_sizes = []\n",
        "\n",
        "for i in tqdm(range(50,2000)):\n",
        "    effects.append(smp.tt_ind_solve_power(nobs1 = i, alpha = alpha, power = power))\n",
        "    sample_sizes.append(i)"
      ]
    },
    {
      "cell_type": "code",
      "execution_count": null,
      "metadata": {
        "id": "vBHBeXRBA5UJ",
        "outputId": "2cfccde8-3a27-44fc-fa89-cb09e0bfe731"
      },
      "outputs": [
        {
          "data": {
            "text/plain": [
              "Text(0, 0.5, 'Effect Amount')"
            ]
          },
          "execution_count": 256,
          "metadata": {},
          "output_type": "execute_result"
        },
        {
          "data": {
            "image/png": "[encoded data removed]",
            "text/plain": [
              "<Figure size 640x480 with 1 Axes>"
            ]
          },
          "metadata": {},
          "output_type": "display_data"
        }
      ],
      "source": [
        "viz = sns.lineplot(x=sample_sizes, y=effects)\n",
        "viz.set_xlabel(\"Sample Size\")\n",
        "viz.set_ylabel(\"Effect Amount\")"
      ]
    },
    {
      "cell_type": "code",
      "execution_count": null,
      "metadata": {
        "id": "iNoWqV8wA5UK",
        "outputId": "667422a7-bb9c-45ba-edd2-9b14a69f7e77"
      },
      "outputs": [
        {
          "data": {
            "text/plain": [
              "count    208.000000\n",
              "mean       0.488266\n",
              "std        0.180044\n",
              "min        0.066667\n",
              "25%        0.363636\n",
              "50%        0.500000\n",
              "75%        0.638346\n",
              "max        0.923077\n",
              "Name: HR, dtype: float64"
            ]
          },
          "metadata": {},
          "output_type": "display_data"
        }
      ],
      "source": [
        "hr_per = hr_per[(hr_per['HR'] < 1) & (hr_per['HR'] > 0)]\n",
        "hr_per['HR'].describe()"
      ]
    },
    {
      "cell_type": "code",
      "execution_count": null,
      "metadata": {
        "id": "pE0VxJXqA5UK"
      },
      "outputs": [],
      "source": [
        "effects = []\n",
        "sample_sizes = []\n",
        "\n",
        "for i in tqdm(range(50,2000)):\n",
        "    effects.append(smp.zt_ind_solve_power(nobs1 = i, alpha = alpha, power = power))\n",
        "    sample_sizes.append(i)\n",
        "viz = sns.lineplot(x=sample_sizes, y=effects)\n",
        "viz.set_xlabel(\"Sample Size\")\n",
        "viz.set_ylabel(\"Effect Amount\")\n",
        "hr_per = hr_per[(hr_per['HR'] < 1) & (hr_per['HR'] > 0)]\n",
        "hr_per['HR'].describe()"
      ]
    }
  ],
  "metadata": {
    "kernelspec": {
      "display_name": ".venv",
      "language": "python",
      "name": "python3"
    },
    "language_info": {
      "codemirror_mode": {
        "name": "ipython",
        "version": 3
      },
      "file_extension": ".py",
      "mimetype": "text/x-python",
      "name": "python",
      "nbconvert_exporter": "python",
      "pygments_lexer": "ipython3",
      "version": "3.9.13"
    },
    "orig_nbformat": 4,
    "colab": {
      "provenance": [],
      "include_colab_link": true
    }
  },
  "nbformat": 4,
  "nbformat_minor": 0
}