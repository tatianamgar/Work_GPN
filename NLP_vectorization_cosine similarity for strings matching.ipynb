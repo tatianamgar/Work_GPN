{
 "cells": [
  {
   "cell_type": "code",
   "execution_count": null,
   "metadata": {
    "colab": {
     "base_uri": "https://localhost:8080/"
    },
    "id": "Kg8OuLpAp0aH",
    "outputId": "a193d34b-a00e-4c13-adc6-04334c4c4b15"
   },
   "outputs": [
    {
     "name": "stdout",
     "output_type": "stream",
     "text": [
      "Tue Feb  8 14:07:11 2022       \n",
      "+-----------------------------------------------------------------------------+\n",
      "| NVIDIA-SMI 460.32.03    Driver Version: 460.32.03    CUDA Version: 11.2     |\n",
      "|-------------------------------+----------------------+----------------------+\n",
      "| GPU  Name        Persistence-M| Bus-Id        Disp.A | Volatile Uncorr. ECC |\n",
      "| Fan  Temp  Perf  Pwr:Usage/Cap|         Memory-Usage | GPU-Util  Compute M. |\n",
      "|                               |                      |               MIG M. |\n",
      "|===============================+======================+======================|\n",
      "|   0  Tesla K80           Off  | 00000000:00:04.0 Off |                    0 |\n",
      "| N/A   53C    P8    29W / 149W |      0MiB / 11441MiB |      0%      Default |\n",
      "|                               |                      |                  N/A |\n",
      "+-------------------------------+----------------------+----------------------+\n",
      "                                                                               \n",
      "+-----------------------------------------------------------------------------+\n",
      "| Processes:                                                                  |\n",
      "|  GPU   GI   CI        PID   Type   Process name                  GPU Memory |\n",
      "|        ID   ID                                                   Usage      |\n",
      "|=============================================================================|\n",
      "|  No running processes found                                                 |\n",
      "+-----------------------------------------------------------------------------+\n"
     ]
    }
   ],
   "source": [
    "!nvidia-smi"
   ]
  },
  {
   "cell_type": "code",
   "execution_count": null,
   "metadata": {
    "id": "4421b6ba"
   },
   "outputs": [],
   "source": [
    "import pandas as pd\n",
    "import os\n",
    "import numpy as np\n",
    "\n",
    "from tqdm.notebook import tqdm"
   ]
  },
  {
   "cell_type": "code",
   "execution_count": null,
   "metadata": {
    "colab": {
     "base_uri": "https://localhost:8080/"
    },
    "id": "jQBq288tQcn7",
    "outputId": "da8b2993-3f65-4e4c-cc79-5661dfc15612"
   },
   "outputs": [
    {
     "name": "stdout",
     "output_type": "stream",
     "text": [
      "Drive already mounted at /content/drive; to attempt to forcibly remount, call drive.mount(\"/content/drive\", force_remount=True).\n"
     ]
    }
   ],
   "source": [
    "from google.colab import drive\n",
    "drive.mount('/content/drive')"
   ]
  },
  {
   "cell_type": "code",
   "execution_count": null,
   "metadata": {
    "colab": {
     "base_uri": "https://localhost:8080/",
     "height": 401
    },
    "id": "EhVRMZqeqF9M",
    "outputId": "c414a5e8-dd41-401c-97f0-8a213e988f24"
   },
   "outputs": [
    {
     "name": "stdout",
     "output_type": "stream",
     "text": [
      "Collecting openpyxl==3.0.0\n",
      "  Downloading openpyxl-3.0.0.tar.gz (172 kB)\n",
      "\u001b[?25l\r",
      "\u001b[K     |██                              | 10 kB 23.2 MB/s eta 0:00:01\r",
      "\u001b[K     |███▉                            | 20 kB 7.3 MB/s eta 0:00:01\r",
      "\u001b[K     |█████▊                          | 30 kB 4.9 MB/s eta 0:00:01\r",
      "\u001b[K     |███████▋                        | 40 kB 4.8 MB/s eta 0:00:01\r",
      "\u001b[K     |█████████▌                      | 51 kB 5.2 MB/s eta 0:00:01\r",
      "\u001b[K     |███████████▍                    | 61 kB 5.8 MB/s eta 0:00:01\r",
      "\u001b[K     |█████████████▎                  | 71 kB 5.8 MB/s eta 0:00:01\r",
      "\u001b[K     |███████████████▏                | 81 kB 6.5 MB/s eta 0:00:01\r",
      "\u001b[K     |█████████████████               | 92 kB 6.4 MB/s eta 0:00:01\r",
      "\u001b[K     |███████████████████             | 102 kB 6.3 MB/s eta 0:00:01\r",
      "\u001b[K     |████████████████████▉           | 112 kB 6.3 MB/s eta 0:00:01\r",
      "\u001b[K     |██████████████████████▊         | 122 kB 6.3 MB/s eta 0:00:01\r",
      "\u001b[K     |████████████████████████▋       | 133 kB 6.3 MB/s eta 0:00:01\r",
      "\u001b[K     |██████████████████████████▌     | 143 kB 6.3 MB/s eta 0:00:01\r",
      "\u001b[K     |████████████████████████████▌   | 153 kB 6.3 MB/s eta 0:00:01\r",
      "\u001b[K     |██████████████████████████████▍ | 163 kB 6.3 MB/s eta 0:00:01\r",
      "\u001b[K     |████████████████████████████████| 172 kB 6.3 MB/s \n",
      "\u001b[?25hRequirement already satisfied: jdcal in /usr/local/lib/python3.7/dist-packages (from openpyxl==3.0.0) (1.4.1)\n",
      "Requirement already satisfied: et_xmlfile in /usr/local/lib/python3.7/dist-packages (from openpyxl==3.0.0) (1.1.0)\n",
      "Building wheels for collected packages: openpyxl\n",
      "  Building wheel for openpyxl (setup.py) ... \u001b[?25l\u001b[?25hdone\n",
      "  Created wheel for openpyxl: filename=openpyxl-3.0.0-py2.py3-none-any.whl size=241207 sha256=62e4fd77f76cc7f1cf2d80ff00c90589e9c7fd9489cfc3cb8f9f73b1b99c609b\n",
      "  Stored in directory: /root/.cache/pip/wheels/c7/64/ff/ce98f6e1d2701ae8e216c875da62feed2839ac8a3cae0ab8af\n",
      "Successfully built openpyxl\n",
      "Installing collected packages: openpyxl\n",
      "  Attempting uninstall: openpyxl\n",
      "    Found existing installation: openpyxl 2.5.9\n",
      "    Uninstalling openpyxl-2.5.9:\n",
      "      Successfully uninstalled openpyxl-2.5.9\n",
      "Successfully installed openpyxl-3.0.0\n"
     ]
    },
    {
     "data": {
      "application/vnd.colab-display-data+json": {
       "pip_warning": {
        "packages": [
         "openpyxl"
        ]
       }
      }
     },
     "metadata": {},
     "output_type": "display_data"
    }
   ],
   "source": [
    "!pip install openpyxl==3.0.0"
   ]
  },
  {
   "cell_type": "code",
   "execution_count": null,
   "metadata": {
    "id": "recognized-execution"
   },
   "outputs": [],
   "source": [
    "# загружаем набор строк \n",
    "esm = pd.read_excel('/content/коды ЕСМ.xlsx')\n",
    "df_esm = esm.dropna(subset=[ 'Наименование ru', 'Полное наименование ru'])"
   ]
  },
  {
   "cell_type": "code",
   "execution_count": null,
   "metadata": {
    "colab": {
     "base_uri": "https://localhost:8080/",
     "height": 617
    },
    "id": "A0f0Gq3gC9mj",
    "outputId": "6efb4d96-aad4-4ea3-bddd-18204f3859f6"
   },
   "outputs": [
    {
     "data": {
      "text/html": [
       "\n",
       "  <div id=\"df-a6e87a78-5e5c-438e-b148-fd6755fd5710\">\n",
       "    <div class=\"colab-df-container\">\n",
       "      <div>\n",
       "<style scoped>\n",
       "    .dataframe tbody tr th:only-of-type {\n",
       "        vertical-align: middle;\n",
       "    }\n",
       "\n",
       "    .dataframe tbody tr th {\n",
       "        vertical-align: top;\n",
       "    }\n",
       "\n",
       "    .dataframe thead th {\n",
       "        text-align: right;\n",
       "    }\n",
       "</style>\n",
       "<table border=\"1\" class=\"dataframe\">\n",
       "  <thead>\n",
       "    <tr style=\"text-align: right;\">\n",
       "      <th></th>\n",
       "      <th>Код</th>\n",
       "      <th>Наименование ru</th>\n",
       "      <th>Полное наименование ru</th>\n",
       "      <th>Нормативный документ</th>\n",
       "      <th>Единица измерения базовая</th>\n",
       "      <th>Вес брутто</th>\n",
       "      <th>Вес нетто</th>\n",
       "      <th>Обезличенная позиция</th>\n",
       "      <th>Класс</th>\n",
       "      <th>Статус материала ЕСМ</th>\n",
       "      <th>Блокировка</th>\n",
       "      <th>Блокировка на уровне завода</th>\n",
       "      <th>Эталонная запись</th>\n",
       "    </tr>\n",
       "  </thead>\n",
       "  <tbody>\n",
       "    <tr>\n",
       "      <th>0</th>\n",
       "      <td>1240638</td>\n",
       "      <td>Кресло Реплай 466160MT</td>\n",
       "      <td>Кресло Реплай, на колесиках 466160MT</td>\n",
       "      <td>КАТАЛОГ</td>\n",
       "      <td>ШТ</td>\n",
       "      <td>1</td>\n",
       "      <td>1</td>\n",
       "      <td>Нет</td>\n",
       "      <td>G4870</td>\n",
       "      <td>3.0</td>\n",
       "      <td>Нет</td>\n",
       "      <td>Нет</td>\n",
       "      <td>NaN</td>\n",
       "    </tr>\n",
       "    <tr>\n",
       "      <th>1</th>\n",
       "      <td>1239944</td>\n",
       "      <td>Стенд: Действия насел в ч/с техног.харак</td>\n",
       "      <td>Стенд: Действия населения в черезвычайных ситу...</td>\n",
       "      <td>ТУ ПРОИЗВОДИТЕЛЯ</td>\n",
       "      <td>ШТ</td>\n",
       "      <td>1</td>\n",
       "      <td>1</td>\n",
       "      <td>Нет</td>\n",
       "      <td>G4870</td>\n",
       "      <td>3.0</td>\n",
       "      <td>Да</td>\n",
       "      <td>Нет</td>\n",
       "      <td>NaN</td>\n",
       "    </tr>\n",
       "    <tr>\n",
       "      <th>2</th>\n",
       "      <td>1239962</td>\n",
       "      <td>Стенд: Первая медицинская помощь</td>\n",
       "      <td>Стенд: Первая медицинская помощь. Размер: 1,0Х...</td>\n",
       "      <td>ТУ ПРОИЗВОДИТЕЛЯ</td>\n",
       "      <td>ШТ</td>\n",
       "      <td>1</td>\n",
       "      <td>1</td>\n",
       "      <td>Нет</td>\n",
       "      <td>G4870</td>\n",
       "      <td>3.0</td>\n",
       "      <td>Да</td>\n",
       "      <td>Нет</td>\n",
       "      <td>NaN</td>\n",
       "    </tr>\n",
       "    <tr>\n",
       "      <th>3</th>\n",
       "      <td>1239963</td>\n",
       "      <td>Стенд: Первая медицинская помощь при ЧС</td>\n",
       "      <td>Стенд: Первая медицинмкая помощь при ЧС. Разме...</td>\n",
       "      <td>ТУ ПРОИЗВОДИТЕЛЯ</td>\n",
       "      <td>ШТ</td>\n",
       "      <td>1</td>\n",
       "      <td>1</td>\n",
       "      <td>Нет</td>\n",
       "      <td>G4870</td>\n",
       "      <td>3.0</td>\n",
       "      <td>Да</td>\n",
       "      <td>Нет</td>\n",
       "      <td>NaN</td>\n",
       "    </tr>\n",
       "    <tr>\n",
       "      <th>4</th>\n",
       "      <td>1239964</td>\n",
       "      <td>Стенд: Приборы радиацион. и хим.разведки</td>\n",
       "      <td>Стенд: Приборы радиационной и химической разве...</td>\n",
       "      <td>ТУ ПРОИЗВОДИТЕЛЯ</td>\n",
       "      <td>ШТ</td>\n",
       "      <td>1</td>\n",
       "      <td>1</td>\n",
       "      <td>Нет</td>\n",
       "      <td>G4870</td>\n",
       "      <td>3.0</td>\n",
       "      <td>Да</td>\n",
       "      <td>Нет</td>\n",
       "      <td>NaN</td>\n",
       "    </tr>\n",
       "  </tbody>\n",
       "</table>\n",
       "</div>\n",
       "      <button class=\"colab-df-convert\" onclick=\"convertToInteractive('df-a6e87a78-5e5c-438e-b148-fd6755fd5710')\"\n",
       "              title=\"Convert this dataframe to an interactive table.\"\n",
       "              style=\"display:none;\">\n",
       "        \n",
       "  <svg xmlns=\"http://www.w3.org/2000/svg\" height=\"24px\"viewBox=\"0 0 24 24\"\n",
       "       width=\"24px\">\n",
       "    <path d=\"M0 0h24v24H0V0z\" fill=\"none\"/>\n",
       "    <path d=\"M18.56 5.44l.94 2.06.94-2.06 2.06-.94-2.06-.94-.94-2.06-.94 2.06-2.06.94zm-11 1L8.5 8.5l.94-2.06 2.06-.94-2.06-.94L8.5 2.5l-.94 2.06-2.06.94zm10 10l.94 2.06.94-2.06 2.06-.94-2.06-.94-.94-2.06-.94 2.06-2.06.94z\"/><path d=\"M17.41 7.96l-1.37-1.37c-.4-.4-.92-.59-1.43-.59-.52 0-1.04.2-1.43.59L10.3 9.45l-7.72 7.72c-.78.78-.78 2.05 0 2.83L4 21.41c.39.39.9.59 1.41.59.51 0 1.02-.2 1.41-.59l7.78-7.78 2.81-2.81c.8-.78.8-2.07 0-2.86zM5.41 20L4 18.59l7.72-7.72 1.47 1.35L5.41 20z\"/>\n",
       "  </svg>\n",
       "      </button>\n",
       "      \n",
       "  <style>\n",
       "    .colab-df-container {\n",
       "      display:flex;\n",
       "      flex-wrap:wrap;\n",
       "      gap: 12px;\n",
       "    }\n",
       "\n",
       "    .colab-df-convert {\n",
       "      background-color: #E8F0FE;\n",
       "      border: none;\n",
       "      border-radius: 50%;\n",
       "      cursor: pointer;\n",
       "      display: none;\n",
       "      fill: #1967D2;\n",
       "      height: 32px;\n",
       "      padding: 0 0 0 0;\n",
       "      width: 32px;\n",
       "    }\n",
       "\n",
       "    .colab-df-convert:hover {\n",
       "      background-color: #E2EBFA;\n",
       "      box-shadow: 0px 1px 2px rgba(60, 64, 67, 0.3), 0px 1px 3px 1px rgba(60, 64, 67, 0.15);\n",
       "      fill: #174EA6;\n",
       "    }\n",
       "\n",
       "    [theme=dark] .colab-df-convert {\n",
       "      background-color: #3B4455;\n",
       "      fill: #D2E3FC;\n",
       "    }\n",
       "\n",
       "    [theme=dark] .colab-df-convert:hover {\n",
       "      background-color: #434B5C;\n",
       "      box-shadow: 0px 1px 3px 1px rgba(0, 0, 0, 0.15);\n",
       "      filter: drop-shadow(0px 1px 2px rgba(0, 0, 0, 0.3));\n",
       "      fill: #FFFFFF;\n",
       "    }\n",
       "  </style>\n",
       "\n",
       "      <script>\n",
       "        const buttonEl =\n",
       "          document.querySelector('#df-a6e87a78-5e5c-438e-b148-fd6755fd5710 button.colab-df-convert');\n",
       "        buttonEl.style.display =\n",
       "          google.colab.kernel.accessAllowed ? 'block' : 'none';\n",
       "\n",
       "        async function convertToInteractive(key) {\n",
       "          const element = document.querySelector('#df-a6e87a78-5e5c-438e-b148-fd6755fd5710');\n",
       "          const dataTable =\n",
       "            await google.colab.kernel.invokeFunction('convertToInteractive',\n",
       "                                                     [key], {});\n",
       "          if (!dataTable) return;\n",
       "\n",
       "          const docLinkHtml = 'Like what you see? Visit the ' +\n",
       "            '<a target=\"_blank\" href=https://colab.research.google.com/notebooks/data_table.ipynb>data table notebook</a>'\n",
       "            + ' to learn more about interactive tables.';\n",
       "          element.innerHTML = '';\n",
       "          dataTable['output_type'] = 'display_data';\n",
       "          await google.colab.output.renderOutput(dataTable, element);\n",
       "          const docLink = document.createElement('div');\n",
       "          docLink.innerHTML = docLinkHtml;\n",
       "          element.appendChild(docLink);\n",
       "        }\n",
       "      </script>\n",
       "    </div>\n",
       "  </div>\n",
       "  "
      ],
      "text/plain": [
       "       Код  ... Эталонная запись\n",
       "0  1240638  ...              NaN\n",
       "1  1239944  ...              NaN\n",
       "2  1239962  ...              NaN\n",
       "3  1239963  ...              NaN\n",
       "4  1239964  ...              NaN\n",
       "\n",
       "[5 rows x 13 columns]"
      ]
     },
     "execution_count": 4,
     "metadata": {},
     "output_type": "execute_result"
    }
   ],
   "source": [
    "df_esm.head()"
   ]
  },
  {
   "cell_type": "code",
   "execution_count": null,
   "metadata": {
    "id": "diverse-clone"
   },
   "outputs": [],
   "source": [
    "# загружаем набор строк справочника \n",
    "df_ita = pd.read_excel(\"/content/массив.xlsx\")\n",
    "df_ita = df_ita.dropna(subset=[ 'Наименование'])"
   ]
  },
  {
   "cell_type": "code",
   "execution_count": null,
   "metadata": {
    "colab": {
     "base_uri": "https://localhost:8080/",
     "height": 206
    },
    "id": "vS4NmzoGQokx",
    "outputId": "13b1efd7-ba05-4e6e-b4fe-b366ca5a2c29"
   },
   "outputs": [
    {
     "data": {
      "text/html": [
       "\n",
       "  <div id=\"df-c2dcbcab-b999-402e-93d8-59beb7200357\">\n",
       "    <div class=\"colab-df-container\">\n",
       "      <div>\n",
       "<style scoped>\n",
       "    .dataframe tbody tr th:only-of-type {\n",
       "        vertical-align: middle;\n",
       "    }\n",
       "\n",
       "    .dataframe tbody tr th {\n",
       "        vertical-align: top;\n",
       "    }\n",
       "\n",
       "    .dataframe thead th {\n",
       "        text-align: right;\n",
       "    }\n",
       "</style>\n",
       "<table border=\"1\" class=\"dataframe\">\n",
       "  <thead>\n",
       "    <tr style=\"text-align: right;\">\n",
       "      <th></th>\n",
       "      <th>Созданный код в ЕСМ</th>\n",
       "      <th>Код номенклатуры</th>\n",
       "      <th>Наименование</th>\n",
       "    </tr>\n",
       "  </thead>\n",
       "  <tbody>\n",
       "    <tr>\n",
       "      <th>0</th>\n",
       "      <td>NaN</td>\n",
       "      <td>000001070157</td>\n",
       "      <td>Кофемашина Gemani 220</td>\n",
       "    </tr>\n",
       "    <tr>\n",
       "      <th>1</th>\n",
       "      <td>NaN</td>\n",
       "      <td>000001070273</td>\n",
       "      <td>ШРЕДЕР ЕВА 1123С</td>\n",
       "    </tr>\n",
       "    <tr>\n",
       "      <th>2</th>\n",
       "      <td>NaN</td>\n",
       "      <td>000001099633</td>\n",
       "      <td>Автоматическая установка пожарной сигнализации...</td>\n",
       "    </tr>\n",
       "    <tr>\n",
       "      <th>3</th>\n",
       "      <td>NaN</td>\n",
       "      <td>000001151839</td>\n",
       "      <td>холодильник Indesit В16Т</td>\n",
       "    </tr>\n",
       "    <tr>\n",
       "      <th>4</th>\n",
       "      <td>NaN</td>\n",
       "      <td>000001156618</td>\n",
       "      <td>Брошюратор Fellowes/FS-562070</td>\n",
       "    </tr>\n",
       "  </tbody>\n",
       "</table>\n",
       "</div>\n",
       "      <button class=\"colab-df-convert\" onclick=\"convertToInteractive('df-c2dcbcab-b999-402e-93d8-59beb7200357')\"\n",
       "              title=\"Convert this dataframe to an interactive table.\"\n",
       "              style=\"display:none;\">\n",
       "        \n",
       "  <svg xmlns=\"http://www.w3.org/2000/svg\" height=\"24px\"viewBox=\"0 0 24 24\"\n",
       "       width=\"24px\">\n",
       "    <path d=\"M0 0h24v24H0V0z\" fill=\"none\"/>\n",
       "    <path d=\"M18.56 5.44l.94 2.06.94-2.06 2.06-.94-2.06-.94-.94-2.06-.94 2.06-2.06.94zm-11 1L8.5 8.5l.94-2.06 2.06-.94-2.06-.94L8.5 2.5l-.94 2.06-2.06.94zm10 10l.94 2.06.94-2.06 2.06-.94-2.06-.94-.94-2.06-.94 2.06-2.06.94z\"/><path d=\"M17.41 7.96l-1.37-1.37c-.4-.4-.92-.59-1.43-.59-.52 0-1.04.2-1.43.59L10.3 9.45l-7.72 7.72c-.78.78-.78 2.05 0 2.83L4 21.41c.39.39.9.59 1.41.59.51 0 1.02-.2 1.41-.59l7.78-7.78 2.81-2.81c.8-.78.8-2.07 0-2.86zM5.41 20L4 18.59l7.72-7.72 1.47 1.35L5.41 20z\"/>\n",
       "  </svg>\n",
       "      </button>\n",
       "      \n",
       "  <style>\n",
       "    .colab-df-container {\n",
       "      display:flex;\n",
       "      flex-wrap:wrap;\n",
       "      gap: 12px;\n",
       "    }\n",
       "\n",
       "    .colab-df-convert {\n",
       "      background-color: #E8F0FE;\n",
       "      border: none;\n",
       "      border-radius: 50%;\n",
       "      cursor: pointer;\n",
       "      display: none;\n",
       "      fill: #1967D2;\n",
       "      height: 32px;\n",
       "      padding: 0 0 0 0;\n",
       "      width: 32px;\n",
       "    }\n",
       "\n",
       "    .colab-df-convert:hover {\n",
       "      background-color: #E2EBFA;\n",
       "      box-shadow: 0px 1px 2px rgba(60, 64, 67, 0.3), 0px 1px 3px 1px rgba(60, 64, 67, 0.15);\n",
       "      fill: #174EA6;\n",
       "    }\n",
       "\n",
       "    [theme=dark] .colab-df-convert {\n",
       "      background-color: #3B4455;\n",
       "      fill: #D2E3FC;\n",
       "    }\n",
       "\n",
       "    [theme=dark] .colab-df-convert:hover {\n",
       "      background-color: #434B5C;\n",
       "      box-shadow: 0px 1px 3px 1px rgba(0, 0, 0, 0.15);\n",
       "      filter: drop-shadow(0px 1px 2px rgba(0, 0, 0, 0.3));\n",
       "      fill: #FFFFFF;\n",
       "    }\n",
       "  </style>\n",
       "\n",
       "      <script>\n",
       "        const buttonEl =\n",
       "          document.querySelector('#df-c2dcbcab-b999-402e-93d8-59beb7200357 button.colab-df-convert');\n",
       "        buttonEl.style.display =\n",
       "          google.colab.kernel.accessAllowed ? 'block' : 'none';\n",
       "\n",
       "        async function convertToInteractive(key) {\n",
       "          const element = document.querySelector('#df-c2dcbcab-b999-402e-93d8-59beb7200357');\n",
       "          const dataTable =\n",
       "            await google.colab.kernel.invokeFunction('convertToInteractive',\n",
       "                                                     [key], {});\n",
       "          if (!dataTable) return;\n",
       "\n",
       "          const docLinkHtml = 'Like what you see? Visit the ' +\n",
       "            '<a target=\"_blank\" href=https://colab.research.google.com/notebooks/data_table.ipynb>data table notebook</a>'\n",
       "            + ' to learn more about interactive tables.';\n",
       "          element.innerHTML = '';\n",
       "          dataTable['output_type'] = 'display_data';\n",
       "          await google.colab.output.renderOutput(dataTable, element);\n",
       "          const docLink = document.createElement('div');\n",
       "          docLink.innerHTML = docLinkHtml;\n",
       "          element.appendChild(docLink);\n",
       "        }\n",
       "      </script>\n",
       "    </div>\n",
       "  </div>\n",
       "  "
      ],
      "text/plain": [
       "   Созданный код в ЕСМ  ...                                       Наименование\n",
       "0                  NaN  ...                              Кофемашина Gemani 220\n",
       "1                  NaN  ...                                   ШРЕДЕР ЕВА 1123С\n",
       "2                  NaN  ...  Автоматическая установка пожарной сигнализации...\n",
       "3                  NaN  ...                           холодильник Indesit В16Т\n",
       "4                  NaN  ...                      Брошюратор Fellowes/FS-562070\n",
       "\n",
       "[5 rows x 3 columns]"
      ]
     },
     "execution_count": 24,
     "metadata": {},
     "output_type": "execute_result"
    }
   ],
   "source": [
    "df_ita.head()"
   ]
  },
  {
   "cell_type": "markdown",
   "metadata": {
    "id": "770ce7a9"
   },
   "source": [
    "# Векторизация\n",
    "\n",
    "Основные данные содержатся в текстовом формате. Необходимо уметь представлять их в виде векторов, для того, чтобы с ними было возможно работать.\n",
    "\n",
    "В данном примере для этого используется модель [Universal Sentence Encoder](https://tfhub.dev/google/universal-sentence-encoder-multilingual-large/3)\n"
   ]
  },
  {
   "cell_type": "code",
   "execution_count": null,
   "metadata": {
    "colab": {
     "base_uri": "https://localhost:8080/"
    },
    "id": "MfkeLYS1MbZn",
    "outputId": "e4f21854-0814-4e29-81ca-6bd308db0b2d"
   },
   "outputs": [
    {
     "name": "stdout",
     "output_type": "stream",
     "text": [
      "Collecting tensorflow_text\n",
      "  Downloading tensorflow_text-2.7.3-cp37-cp37m-manylinux2010_x86_64.whl (4.9 MB)\n",
      "\u001b[K     |████████████████████████████████| 4.9 MB 6.8 MB/s \n",
      "\u001b[?25hRequirement already satisfied: tensorflow-hub>=0.8.0 in /usr/local/lib/python3.7/dist-packages (from tensorflow_text) (0.12.0)\n",
      "Requirement already satisfied: tensorflow<2.8,>=2.7.0 in /usr/local/lib/python3.7/dist-packages (from tensorflow_text) (2.7.0)\n",
      "Requirement already satisfied: wheel<1.0,>=0.32.0 in /usr/local/lib/python3.7/dist-packages (from tensorflow<2.8,>=2.7.0->tensorflow_text) (0.37.1)\n",
      "Requirement already satisfied: absl-py>=0.4.0 in /usr/local/lib/python3.7/dist-packages (from tensorflow<2.8,>=2.7.0->tensorflow_text) (1.0.0)\n",
      "Requirement already satisfied: termcolor>=1.1.0 in /usr/local/lib/python3.7/dist-packages (from tensorflow<2.8,>=2.7.0->tensorflow_text) (1.1.0)\n",
      "Requirement already satisfied: wrapt>=1.11.0 in /usr/local/lib/python3.7/dist-packages (from tensorflow<2.8,>=2.7.0->tensorflow_text) (1.13.3)\n",
      "Requirement already satisfied: keras-preprocessing>=1.1.1 in /usr/local/lib/python3.7/dist-packages (from tensorflow<2.8,>=2.7.0->tensorflow_text) (1.1.2)\n",
      "Requirement already satisfied: libclang>=9.0.1 in /usr/local/lib/python3.7/dist-packages (from tensorflow<2.8,>=2.7.0->tensorflow_text) (13.0.0)\n",
      "Requirement already satisfied: keras<2.8,>=2.7.0rc0 in /usr/local/lib/python3.7/dist-packages (from tensorflow<2.8,>=2.7.0->tensorflow_text) (2.7.0)\n",
      "Requirement already satisfied: six>=1.12.0 in /usr/local/lib/python3.7/dist-packages (from tensorflow<2.8,>=2.7.0->tensorflow_text) (1.15.0)\n",
      "Requirement already satisfied: tensorflow-estimator<2.8,~=2.7.0rc0 in /usr/local/lib/python3.7/dist-packages (from tensorflow<2.8,>=2.7.0->tensorflow_text) (2.7.0)\n",
      "Requirement already satisfied: h5py>=2.9.0 in /usr/local/lib/python3.7/dist-packages (from tensorflow<2.8,>=2.7.0->tensorflow_text) (3.1.0)\n",
      "Requirement already satisfied: flatbuffers<3.0,>=1.12 in /usr/local/lib/python3.7/dist-packages (from tensorflow<2.8,>=2.7.0->tensorflow_text) (2.0)\n",
      "Requirement already satisfied: typing-extensions>=3.6.6 in /usr/local/lib/python3.7/dist-packages (from tensorflow<2.8,>=2.7.0->tensorflow_text) (3.10.0.2)\n",
      "Requirement already satisfied: opt-einsum>=2.3.2 in /usr/local/lib/python3.7/dist-packages (from tensorflow<2.8,>=2.7.0->tensorflow_text) (3.3.0)\n",
      "Requirement already satisfied: tensorboard~=2.6 in /usr/local/lib/python3.7/dist-packages (from tensorflow<2.8,>=2.7.0->tensorflow_text) (2.7.0)\n",
      "Requirement already satisfied: tensorflow-io-gcs-filesystem>=0.21.0 in /usr/local/lib/python3.7/dist-packages (from tensorflow<2.8,>=2.7.0->tensorflow_text) (0.23.1)\n",
      "Requirement already satisfied: protobuf>=3.9.2 in /usr/local/lib/python3.7/dist-packages (from tensorflow<2.8,>=2.7.0->tensorflow_text) (3.17.3)\n",
      "Requirement already satisfied: gast<0.5.0,>=0.2.1 in /usr/local/lib/python3.7/dist-packages (from tensorflow<2.8,>=2.7.0->tensorflow_text) (0.4.0)\n",
      "Requirement already satisfied: numpy>=1.14.5 in /usr/local/lib/python3.7/dist-packages (from tensorflow<2.8,>=2.7.0->tensorflow_text) (1.19.5)\n",
      "Requirement already satisfied: grpcio<2.0,>=1.24.3 in /usr/local/lib/python3.7/dist-packages (from tensorflow<2.8,>=2.7.0->tensorflow_text) (1.43.0)\n",
      "Requirement already satisfied: astunparse>=1.6.0 in /usr/local/lib/python3.7/dist-packages (from tensorflow<2.8,>=2.7.0->tensorflow_text) (1.6.3)\n",
      "Requirement already satisfied: google-pasta>=0.1.1 in /usr/local/lib/python3.7/dist-packages (from tensorflow<2.8,>=2.7.0->tensorflow_text) (0.2.0)\n",
      "Requirement already satisfied: cached-property in /usr/local/lib/python3.7/dist-packages (from h5py>=2.9.0->tensorflow<2.8,>=2.7.0->tensorflow_text) (1.5.2)\n",
      "Requirement already satisfied: requests<3,>=2.21.0 in /usr/local/lib/python3.7/dist-packages (from tensorboard~=2.6->tensorflow<2.8,>=2.7.0->tensorflow_text) (2.23.0)\n",
      "Requirement already satisfied: setuptools>=41.0.0 in /usr/local/lib/python3.7/dist-packages (from tensorboard~=2.6->tensorflow<2.8,>=2.7.0->tensorflow_text) (57.4.0)\n",
      "Requirement already satisfied: werkzeug>=0.11.15 in /usr/local/lib/python3.7/dist-packages (from tensorboard~=2.6->tensorflow<2.8,>=2.7.0->tensorflow_text) (1.0.1)\n",
      "Requirement already satisfied: tensorboard-data-server<0.7.0,>=0.6.0 in /usr/local/lib/python3.7/dist-packages (from tensorboard~=2.6->tensorflow<2.8,>=2.7.0->tensorflow_text) (0.6.1)\n",
      "Requirement already satisfied: tensorboard-plugin-wit>=1.6.0 in /usr/local/lib/python3.7/dist-packages (from tensorboard~=2.6->tensorflow<2.8,>=2.7.0->tensorflow_text) (1.8.1)\n",
      "Requirement already satisfied: google-auth<3,>=1.6.3 in /usr/local/lib/python3.7/dist-packages (from tensorboard~=2.6->tensorflow<2.8,>=2.7.0->tensorflow_text) (1.35.0)\n",
      "Requirement already satisfied: google-auth-oauthlib<0.5,>=0.4.1 in /usr/local/lib/python3.7/dist-packages (from tensorboard~=2.6->tensorflow<2.8,>=2.7.0->tensorflow_text) (0.4.6)\n",
      "Requirement already satisfied: markdown>=2.6.8 in /usr/local/lib/python3.7/dist-packages (from tensorboard~=2.6->tensorflow<2.8,>=2.7.0->tensorflow_text) (3.3.6)\n",
      "Requirement already satisfied: pyasn1-modules>=0.2.1 in /usr/local/lib/python3.7/dist-packages (from google-auth<3,>=1.6.3->tensorboard~=2.6->tensorflow<2.8,>=2.7.0->tensorflow_text) (0.2.8)\n",
      "Requirement already satisfied: rsa<5,>=3.1.4 in /usr/local/lib/python3.7/dist-packages (from google-auth<3,>=1.6.3->tensorboard~=2.6->tensorflow<2.8,>=2.7.0->tensorflow_text) (4.8)\n",
      "Requirement already satisfied: cachetools<5.0,>=2.0.0 in /usr/local/lib/python3.7/dist-packages (from google-auth<3,>=1.6.3->tensorboard~=2.6->tensorflow<2.8,>=2.7.0->tensorflow_text) (4.2.4)\n",
      "Requirement already satisfied: requests-oauthlib>=0.7.0 in /usr/local/lib/python3.7/dist-packages (from google-auth-oauthlib<0.5,>=0.4.1->tensorboard~=2.6->tensorflow<2.8,>=2.7.0->tensorflow_text) (1.3.0)\n",
      "Requirement already satisfied: importlib-metadata>=4.4 in /usr/local/lib/python3.7/dist-packages (from markdown>=2.6.8->tensorboard~=2.6->tensorflow<2.8,>=2.7.0->tensorflow_text) (4.10.1)\n",
      "Requirement already satisfied: zipp>=0.5 in /usr/local/lib/python3.7/dist-packages (from importlib-metadata>=4.4->markdown>=2.6.8->tensorboard~=2.6->tensorflow<2.8,>=2.7.0->tensorflow_text) (3.7.0)\n",
      "Requirement already satisfied: pyasn1<0.5.0,>=0.4.6 in /usr/local/lib/python3.7/dist-packages (from pyasn1-modules>=0.2.1->google-auth<3,>=1.6.3->tensorboard~=2.6->tensorflow<2.8,>=2.7.0->tensorflow_text) (0.4.8)\n",
      "Requirement already satisfied: urllib3!=1.25.0,!=1.25.1,<1.26,>=1.21.1 in /usr/local/lib/python3.7/dist-packages (from requests<3,>=2.21.0->tensorboard~=2.6->tensorflow<2.8,>=2.7.0->tensorflow_text) (1.24.3)\n",
      "Requirement already satisfied: certifi>=2017.4.17 in /usr/local/lib/python3.7/dist-packages (from requests<3,>=2.21.0->tensorboard~=2.6->tensorflow<2.8,>=2.7.0->tensorflow_text) (2021.10.8)\n",
      "Requirement already satisfied: chardet<4,>=3.0.2 in /usr/local/lib/python3.7/dist-packages (from requests<3,>=2.21.0->tensorboard~=2.6->tensorflow<2.8,>=2.7.0->tensorflow_text) (3.0.4)\n",
      "Requirement already satisfied: idna<3,>=2.5 in /usr/local/lib/python3.7/dist-packages (from requests<3,>=2.21.0->tensorboard~=2.6->tensorflow<2.8,>=2.7.0->tensorflow_text) (2.10)\n",
      "Requirement already satisfied: oauthlib>=3.0.0 in /usr/local/lib/python3.7/dist-packages (from requests-oauthlib>=0.7.0->google-auth-oauthlib<0.5,>=0.4.1->tensorboard~=2.6->tensorflow<2.8,>=2.7.0->tensorflow_text) (3.1.1)\n",
      "Installing collected packages: tensorflow-text\n",
      "Successfully installed tensorflow-text-2.7.3\n"
     ]
    }
   ],
   "source": [
    "!pip install tensorflow_text"
   ]
  },
  {
   "cell_type": "code",
   "execution_count": null,
   "metadata": {
    "id": "6159a76b"
   },
   "outputs": [],
   "source": [
    "import tensorflow_hub as hub\n",
    "import numpy as np\n",
    "import tensorflow_text\n",
    "import tensorflow as tf"
   ]
  },
  {
   "cell_type": "code",
   "execution_count": null,
   "metadata": {
    "id": "99d4c855"
   },
   "outputs": [],
   "source": [
    "# загружаем модель USE\n",
    "nlp = hub.load(\"https://tfhub.dev/google/universal-sentence-encoder-multilingual-large/3\")"
   ]
  },
  {
   "cell_type": "code",
   "execution_count": null,
   "metadata": {
    "id": "cb778563"
   },
   "outputs": [],
   "source": [
    "# определяем функцию, которая будет переводить набор текстов в набор векторов\n",
    "def vectorize_texts(texts):\n",
    "    vecs = nlp(texts)\n",
    "    return vecs"
   ]
  },
  {
   "cell_type": "code",
   "execution_count": null,
   "metadata": {
    "colab": {
     "base_uri": "https://localhost:8080/"
    },
    "id": "fae77a6c",
    "outputId": "95801396-41af-4245-ccf4-bd2fc25927cf"
   },
   "outputs": [
    {
     "data": {
      "text/plain": [
       "TensorShape([4, 512])"
      ]
     },
     "execution_count": 10,
     "metadata": {},
     "output_type": "execute_result"
    }
   ],
   "source": [
    "# (пример) из набора из 4 текстов получаем матрицу 4x512 (4 вектора размерности 512)\n",
    "vectors = vectorize_texts([\"Привет\", \"Здравствуй\", \"Добрый день!\", \"Кошка\"])\n",
    "vectors.shape"
   ]
  },
  {
   "cell_type": "markdown",
   "metadata": {
    "id": "3e4940fd"
   },
   "source": [
    "# Сравнение векторов\n",
    "\n",
    "Для того, чтобы найти схожесть между двумя текстовыми документами, достаточно найти близость их векторных представлений.\n",
    "\n",
    "Для этого используем [косинусное сходство](https://en.wikipedia.org/wiki/Cosine_similarity)"
   ]
  },
  {
   "cell_type": "code",
   "execution_count": null,
   "metadata": {
    "id": "5d94c338"
   },
   "outputs": [],
   "source": [
    "from sklearn.metrics.pairwise import cosine_similarity"
   ]
  },
  {
   "cell_type": "code",
   "execution_count": null,
   "metadata": {
    "colab": {
     "base_uri": "https://localhost:8080/"
    },
    "id": "74b37e07",
    "outputId": "33142fbc-fe28-45e4-d3be-9185015bb986"
   },
   "outputs": [
    {
     "data": {
      "text/plain": [
       "array([[1.0000001 , 0.9483943 , 0.8001865 , 0.29887924],\n",
       "       [0.9483943 , 1.        , 0.80816734, 0.26898402],\n",
       "       [0.8001865 , 0.80816734, 1.        , 0.14897767],\n",
       "       [0.29887924, 0.26898402, 0.14897767, 1.0000001 ]], dtype=float32)"
      ]
     },
     "execution_count": 12,
     "metadata": {},
     "output_type": "execute_result"
    }
   ],
   "source": [
    "# все тексты примерно похожи друг на друга, кроме \"Кошка\"\n",
    "cosine_similarity(vectors, vectors)"
   ]
  },
  {
   "cell_type": "markdown",
   "metadata": {
    "id": "c73865a9"
   },
   "source": [
    "# Предобработка текста\n",
    "\n",
    "В этом примере в качестве обоработки лишь удаляется пунктуация и нормализуются пробелы.\n",
    "\n",
    "Другие предобработки, которые можно попробовать:\n",
    "* Удаление часто встречающихся слов ИЛИ использование их как отдельные признаки (\"Наименование\", \"Оборудование\" ...)\n",
    "* Расшифровка аббревиатур\n",
    "* Выделение единиц меры в отдельный признак (млн руб., тонн, см, м, ...)\n"
   ]
  },
  {
   "cell_type": "code",
   "execution_count": null,
   "metadata": {
    "colab": {
     "base_uri": "https://localhost:8080/"
    },
    "id": "qPUOt_CHaz5G",
    "outputId": "bfc16582-2abe-4a89-bb92-65cc9c30eb9e"
   },
   "outputs": [
    {
     "name": "stdout",
     "output_type": "stream",
     "text": [
      "[nltk_data] Downloading package stopwords to /root/nltk_data...\n",
      "[nltk_data]   Unzipping corpora/stopwords.zip.\n"
     ]
    },
    {
     "data": {
      "text/plain": [
       "True"
      ]
     },
     "execution_count": 13,
     "metadata": {},
     "output_type": "execute_result"
    }
   ],
   "source": [
    "import nltk\n",
    "nltk.download('stopwords')"
   ]
  },
  {
   "cell_type": "code",
   "execution_count": null,
   "metadata": {
    "id": "57095228"
   },
   "outputs": [],
   "source": [
    "import re\n",
    "from nltk.stem.snowball import SnowballStemmer\n",
    "from nltk.corpus import stopwords\n",
    "\n",
    "stopwords = stopwords.words(\"russian\")\n",
    "stemmer = SnowballStemmer(\"russian\")\n",
    "\n",
    "def preprocess_text(text):\n",
    "    text = re.sub(r\"<.*?>\", \"\", text)\n",
    "    text = text.lower()\n",
    "\n",
    "    # пунктуация и пробелы\n",
    "    text = re.sub(r'[^\\w\\s]', ' ', text)\n",
    "    text = re.sub('[\\s]+', ' ', text)\n",
    "\n",
    "    tokens = text.split(\" \")\n",
    "\n",
    "    # стоп-слова и стемминг\n",
    "#     no_stop_lemm_tokens = [stemmer.stem(token) for token in tokens if token not in stopwords]\n",
    "\n",
    "    return \" \".join(tokens)"
   ]
  },
  {
   "cell_type": "markdown",
   "metadata": {
    "id": "c7711502"
   },
   "source": [
    "# Оценка схожести\n",
    "\n",
    "Имея возможность векторизовать текст и сравнить схожесть векторных представлений, мы можем оценить сходство любой пары текстовых документов."
   ]
  },
  {
   "cell_type": "code",
   "execution_count": null,
   "metadata": {
    "id": "ef8df15d"
   },
   "outputs": [],
   "source": [
    "# нахождение матрицы схожести между наборами векторов\n",
    "def sim(vecs1, vecs2):\n",
    "    return cosine_similarity(\n",
    "        np.array(list(vecs1)).squeeze(), \n",
    "        np.array(list(vecs2)).squeeze()\n",
    "    )"
   ]
  },
  {
   "cell_type": "code",
   "execution_count": null,
   "metadata": {
    "id": "a6fe409b"
   },
   "outputs": [],
   "source": [
    "# нахождение матрицы схожести между наборами текстов\n",
    "def batch(iterable, n=1):\n",
    "    l = len(iterable)\n",
    "    for ndx in range(0, l, n):\n",
    "        yield iterable[ndx:min(ndx + n, l)]\n",
    "\n",
    "def get_similarities(texts1, texts2, bs=32):\n",
    "    b_t1 = list(batch(texts1, bs))\n",
    "    b_t2 = list(batch(texts2, bs))\n",
    "    \n",
    "    vectors1 = []\n",
    "    for texts in tqdm(b_t1):\n",
    "        vectors1 += list(vectorize_texts(texts))\n",
    "\n",
    "    result = {'index': [], 'similarity': []}\n",
    "    for texts in tqdm(b_t2):\n",
    "      sims = sim(vectors1, vectorize_texts(texts))\n",
    "      result['index'] += list(np.argmax(sims, axis=0))\n",
    "      result['similarity'] += list(np.amax(sims, axis=0))\n",
    "\n",
    "\n",
    "    return result\n",
    "    "
   ]
  },
  {
   "cell_type": "code",
   "execution_count": null,
   "metadata": {
    "id": "alternative-overview"
   },
   "outputs": [],
   "source": [
    "df_esm_min = df_esm.sample(1000)\n",
    "df_ita_min = df_ita.sample(1000)"
   ]
  },
  {
   "cell_type": "code",
   "execution_count": null,
   "metadata": {
    "colab": {
     "background_save": true,
     "base_uri": "https://localhost:8080/",
     "height": 81,
     "referenced_widgets": [
      "7f8a7aef85394da39e3eac25574e6ec4",
      "aa9633f42cb14570b530d5e4bf5cdcfd"
     ]
    },
    "id": "3e158218",
    "outputId": "ca94cb1d-9aba-4494-fa78-b42c5e9871cd"
   },
   "outputs": [
    {
     "data": {
      "application/vnd.jupyter.widget-view+json": {
       "model_id": "7f8a7aef85394da39e3eac25574e6ec4",
       "version_major": 2,
       "version_minor": 0
      },
      "text/plain": [
       "  0%|          | 0/3889 [00:00<?, ?it/s]"
      ]
     },
     "metadata": {},
     "output_type": "display_data"
    },
    {
     "data": {
      "application/vnd.jupyter.widget-view+json": {
       "model_id": "aa9633f42cb14570b530d5e4bf5cdcfd",
       "version_major": 2,
       "version_minor": 0
      },
      "text/plain": [
       "  0%|          | 0/117 [00:00<?, ?it/s]"
      ]
     },
     "metadata": {},
     "output_type": "display_data"
    }
   ],
   "source": [
    "# получаем матрицу сходства наименований\n",
    "name_sims = get_similarities(\n",
    "        df_esm[\"Наименование ru\"].apply(preprocess_text), \n",
    "        df_ita[\"Наименование\"].apply(preprocess_text)\n",
    "    )"
   ]
  },
  {
   "cell_type": "code",
   "execution_count": null,
   "metadata": {
    "id": "7J-vjvHRfHZs"
   },
   "outputs": [],
   "source": [
    "name_sims = pd.DataFrame(name_sims)"
   ]
  },
  {
   "cell_type": "code",
   "execution_count": null,
   "metadata": {
    "colab": {
     "base_uri": "https://localhost:8080/"
    },
    "id": "8fd46c19",
    "outputId": "e09eb57b-6dbd-4d86-9894-f0a708c64066",
    "scrolled": true
   },
   "outputs": [
    {
     "name": "stderr",
     "output_type": "stream",
     "text": [
      "/usr/local/lib/python3.7/dist-packages/ipykernel_launcher.py:1: FutureWarning: In a future version of pandas all arguments of DataFrame.drop except for the argument 'labels' will be keyword-only\n",
      "  \"\"\"Entry point for launching an IPython kernel.\n"
     ]
    }
   ],
   "source": [
    "df_res = pd.concat([df_ita.reset_index(), df_esm.iloc[list(name_sims['index'])].reset_index(), name_sims.reset_index()], axis=1).drop(\"index\", 1)"
   ]
  },
  {
   "cell_type": "code",
   "execution_count": null,
   "metadata": {
    "id": "nonprofit-cleaning"
   },
   "outputs": [],
   "source": [
    "df_res2 = df_res[['Код', 'Наименование ru', 'Код номенклатуры', 'Наименование', 'similarity']]"
   ]
  },
  {
   "cell_type": "code",
   "execution_count": null,
   "metadata": {
    "colab": {
     "base_uri": "https://localhost:8080/"
    },
    "id": "ZJQ4GB8j-NUS",
    "outputId": "d7e289f3-4ce0-4cd9-b48a-dbfc4029a5f1"
   },
   "outputs": [
    {
     "name": "stdout",
     "output_type": "stream",
     "text": [
      "Collecting xlsxwriter\n",
      "  Downloading XlsxWriter-3.0.2-py3-none-any.whl (149 kB)\n",
      "\u001b[?25l\r",
      "\u001b[K     |██▏                             | 10 kB 31.8 MB/s eta 0:00:01\r",
      "\u001b[K     |████▍                           | 20 kB 19.9 MB/s eta 0:00:01\r",
      "\u001b[K     |██████▋                         | 30 kB 16.4 MB/s eta 0:00:01\r",
      "\u001b[K     |████████▊                       | 40 kB 14.9 MB/s eta 0:00:01\r",
      "\u001b[K     |███████████                     | 51 kB 6.9 MB/s eta 0:00:01\r",
      "\u001b[K     |█████████████▏                  | 61 kB 8.1 MB/s eta 0:00:01\r",
      "\u001b[K     |███████████████▎                | 71 kB 8.8 MB/s eta 0:00:01\r",
      "\u001b[K     |█████████████████▌              | 81 kB 9.0 MB/s eta 0:00:01\r",
      "\u001b[K     |███████████████████▊            | 92 kB 9.9 MB/s eta 0:00:01\r",
      "\u001b[K     |█████████████████████▉          | 102 kB 8.2 MB/s eta 0:00:01\r",
      "\u001b[K     |████████████████████████        | 112 kB 8.2 MB/s eta 0:00:01\r",
      "\u001b[K     |██████████████████████████▎     | 122 kB 8.2 MB/s eta 0:00:01\r",
      "\u001b[K     |████████████████████████████▍   | 133 kB 8.2 MB/s eta 0:00:01\r",
      "\u001b[K     |██████████████████████████████▋ | 143 kB 8.2 MB/s eta 0:00:01\r",
      "\u001b[K     |████████████████████████████████| 149 kB 8.2 MB/s \n",
      "\u001b[?25hInstalling collected packages: xlsxwriter\n",
      "Successfully installed xlsxwriter-3.0.2\n"
     ]
    }
   ],
   "source": [
    "!pip install xlsxwriter"
   ]
  },
  {
   "cell_type": "code",
   "execution_count": null,
   "metadata": {
    "id": "y6JxkOhO8aUd"
   },
   "outputs": [],
   "source": [
    "df_res2.to_excel('result.xlsx', engine='xlsxwriter')"
   ]
  },
  {
   "cell_type": "code",
   "execution_count": null,
   "metadata": {
    "id": "mcHtwlryX8Py"
   },
   "outputs": [],
   "source": [
    "!cp result.xlsx /content/drive/MyDrive"
   ]
  }
 ],
 "metadata": {
  "accelerator": "GPU",
  "colab": {
   "collapsed_sections": [
    "e8a6e90a",
    "3e7dea30",
    "e7608a80"
   ],
   "name": "ecm_matching.ipynb",
   "provenance": []
  },
  "kernelspec": {
   "display_name": "Python 3",
   "language": "python",
   "name": "python3"
  },
  "language_info": {
   "codemirror_mode": {
    "name": "ipython",
    "version": 3
   },
   "file_extension": ".py",
   "mimetype": "text/x-python",
   "name": "python",
   "nbconvert_exporter": "python",
   "pygments_lexer": "ipython3",
   "version": "3.7.6"
  }
 },
 "nbformat": 4,
 "nbformat_minor": 5
}
