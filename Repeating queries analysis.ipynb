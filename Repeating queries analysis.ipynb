{
  "cells": [
    {
      "cell_type": "markdown",
      "metadata": {
        "id": "view-in-github",
        "colab_type": "text"
      },
      "source": [
        "<a href=\"https://colab.research.google.com/github/tatianamgar/Work_GPN/blob/main/Repeating%20queries%20analysis.ipynb\" target=\"_parent\"><img src=\"https://colab.research.google.com/assets/colab-badge.svg\" alt=\"Open In Colab\"/></a>"
      ]
    },
    {
      "cell_type": "markdown",
      "source": [
        "# **Импорты**"
      ],
      "metadata": {
        "id": "jLaPddF8l672"
      }
    },
    {
      "cell_type": "code",
      "execution_count": null,
      "metadata": {
        "id": "plWWJM2rtbAy"
      },
      "outputs": [],
      "source": [
        "!pip install transformers\n"
      ]
    },
    {
      "cell_type": "code",
      "source": [
        "!pip install ruamel.yaml\n"
      ],
      "metadata": {
        "id": "TK8u4hXinUeK"
      },
      "execution_count": null,
      "outputs": []
    },
    {
      "cell_type": "code",
      "source": [
        "!pip install tensorflow_text"
      ],
      "metadata": {
        "id": "Y2CTdFlLnVBA"
      },
      "execution_count": null,
      "outputs": []
    },
    {
      "cell_type": "code",
      "execution_count": null,
      "metadata": {
        "id": "lDkrEaqyp1-G",
        "colab": {
          "base_uri": "https://localhost:8080/"
        },
        "outputId": "40899734-852b-44c2-bbe8-b8a377fa7cc4"
      },
      "outputs": [
        {
          "output_type": "stream",
          "name": "stdout",
          "text": [
            "Drive already mounted at /content/drive/; to attempt to forcibly remount, call drive.mount(\"/content/drive/\", force_remount=True).\n"
          ]
        },
        {
          "output_type": "stream",
          "name": "stderr",
          "text": [
            "[nltk_data] Downloading package stopwords to /root/nltk_data...\n",
            "[nltk_data]   Package stopwords is already up-to-date!\n"
          ]
        }
      ],
      "source": [
        "from google.colab import drive\n",
        "drive.mount('/content/drive/')\n",
        "\n",
        "import os\n",
        "import sys\n",
        "from pathlib import Path\n",
        "\n",
        "root_dir = os.path.abspath(os.getcwd())\n",
        "root_dir = str(Path(root_dir).parent)\n",
        "sys.path.append(root_dir)\n",
        "\n",
        "import pickle\n",
        "import numpy as np\n",
        "from sklearn.metrics.pairwise import cosine_similarity\n",
        "import pandas as pd\n",
        "from tqdm import tqdm\n",
        "import warnings\n",
        "warnings.filterwarnings('ignore')\n",
        "import torch\n",
        "from transformers import DistilBertForTokenClassification, DistilBertTokenizerFast\n",
        "import tensorflow_hub as hub\n",
        "import tensorflow_text\n",
        "import tensorflow as tf\n",
        "import re\n",
        "import nltk\n",
        "nltk.download('stopwords')\n",
        "from nltk.corpus import stopwords\n",
        "\n",
        "stopwords = stopwords.words(\"russian\")\n",
        "\n",
        "from src.utilits import read_config\n",
        "\n",
        "\n"
      ]
    },
    {
      "cell_type": "markdown",
      "source": [
        "# **Функции**"
      ],
      "metadata": {
        "id": "pKr_Qm7vnEFA"
      }
    },
    {
      "cell_type": "code",
      "execution_count": null,
      "metadata": {
        "id": "t24daB06p1-I"
      },
      "outputs": [],
      "source": [
        "config_path = \"params.yaml\"\n",
        "config = read_config.read(config_path)"
      ]
    },
    {
      "cell_type": "code",
      "execution_count": null,
      "metadata": {
        "id": "hWY6JdT6p1-K"
      },
      "outputs": [],
      "source": [
        "class Embed:\n",
        "    def __init__(self, config):\n",
        "        self.config = config\n",
        "        self.batch_size = config[\"train_parameters\"][\"bs\"]\n",
        "        self.device = \"cuda\" if torch.cuda.is_available() else \"cpu\"\n",
        "        self.labels = self.__load_tags(config[\"files\"][\"tag_file\"])\n",
        "        num_tags = len(self.labels)\n",
        "\n",
        "        self.model = DistilBertForTokenClassification.from_pretrained(\n",
        "            config[\"files\"][\"path_model_save\"],\n",
        "            num_labels=num_tags,\n",
        "            output_attentions=False,\n",
        "            output_hidden_states=False,\n",
        "        )\n",
        "        self.model = self.model.to(self.device)\n",
        "        self.model.eval()\n",
        "\n",
        "        self.tokenizer = DistilBertTokenizerFast.from_pretrained(\n",
        "            config[\"files\"][\"tokenizer_model\"], do_lower_case=False,\n",
        "        )\n",
        "\n",
        "    def get(self, data: list):\n",
        "        embeddings = []\n",
        "        for i in range(0, len(data), self.batch_size):\n",
        "            batch = data[i:i+self.batch_size]\n",
        "            encodings = self.tokenizer(\n",
        "                batch,\n",
        "                padding=True,\n",
        "                truncation=True,\n",
        "                return_tensors=\"pt\",\n",
        "                return_offsets_mapping=True,\n",
        "            )\n",
        "            input_id = encodings.input_ids.to(self.device)\n",
        "            attention_mask = encodings.attention_mask.to(self.device)\n",
        "            with torch.no_grad():\n",
        "                batch_embeddings = self.model.distilbert(input_id, attention_mask=attention_mask)[0].cpu().numpy()\n",
        "            embeddings.append(batch_embeddings.mean(axis=1))\n",
        "        return np.concatenate(embeddings, axis=0)\n",
        "\n",
        "\n",
        "    @staticmethod\n",
        "    def __load_tags(tags_path):\n",
        "        with open(tags_path, \"rb\") as f:\n",
        "            tags = pickle.load(f)\n",
        "        return [tag.replace(\"B-\", \"\").replace(\"I-\", \"\") for tag in tags]"
      ]
    },
    {
      "cell_type": "code",
      "source": [
        "embed = Embed(config)\n",
        "def vectorize_texts_bert(texts):\n",
        "    embeddings = embed.get(texts)\n",
        "\n",
        "\n",
        "    return embeddings"
      ],
      "metadata": {
        "id": "D-F9_UuoouUu"
      },
      "execution_count": null,
      "outputs": []
    },
    {
      "cell_type": "code",
      "source": [
        "# загружаем модель USE\n",
        "nlp = hub.load(\"https://tfhub.dev/google/universal-sentence-encoder-multilingual-large/3\")\n",
        "\n",
        "def vectorize_texts_use(texts):\n",
        "    vecs = nlp(texts)\n",
        "    return vecs"
      ],
      "metadata": {
        "id": "ljpoKekGIPtX"
      },
      "execution_count": null,
      "outputs": []
    },
    {
      "cell_type": "code",
      "execution_count": null,
      "metadata": {
        "id": "A-qsclFhB9zg"
      },
      "outputs": [],
      "source": [
        "def preprocess_text(text):\n",
        "    text = re.sub(r\"<.*?>\", \"\", text)\n",
        "    text = text.lower()\n",
        "\n",
        "    # пунктуация и пробелы\n",
        "    text = re.sub(r'[^\\w\\s]', ' ', text)\n",
        "    text = re.sub('[\\s]+', ' ', text)\n",
        "\n",
        "    tokens = text.split(\" \")\n",
        "\n",
        "\n",
        "    # стоп-слова и стемминг\n",
        "    # no_stop_lemm_tokens = [stemmer.stem(token) for token in tokens if token not in stopwords]\n",
        "\n",
        "    return \" \".join(tokens)"
      ]
    },
    {
      "cell_type": "code",
      "source": [
        "def repeated_queries_search(sessions, model = 'bert'):\n",
        "\n",
        "\n",
        "    sessions['sims_to_prev'] = '[]'\n",
        "\n",
        "    for ind in tqdm(sessions.index):\n",
        "        # preprocessing\n",
        "        pre_list = sessions['query'][ind]\n",
        "        iter_list = list(map(preprocess_text, pre_list))\n",
        "\n",
        "        # векторизация и сходство\n",
        "        if model == 'bert':\n",
        "            vectors = vectorize_texts_bert(iter_list)\n",
        "        elif model == 'use':\n",
        "            vectors = vectorize_texts_use(iter_list)\n",
        "\n",
        "        smlr = cosine_similarity(vectors, vectors)\n",
        "\n",
        "        # подготовка итогового листа для дф\n",
        "        indx_query = 0\n",
        "        smlr_lst = []\n",
        "        for ndx, lst in enumerate(smlr):\n",
        "            if ndx == 0:\n",
        "                smlr_lst.append(0)\n",
        "                continue\n",
        "\n",
        "            else:\n",
        "                smlr_lst.append(smlr[ndx][indx_query])\n",
        "                indx_query += 1\n",
        "\n",
        "        sessions['sims_to_prev'][ind] = list(smlr_lst)\n",
        "\n",
        "    return sessions\n",
        "\n",
        "\n"
      ],
      "metadata": {
        "id": "BF85WHbKqCsd"
      },
      "execution_count": null,
      "outputs": []
    },
    {
      "cell_type": "code",
      "source": [
        "def create_df_with_sim(sessions):\n",
        "\n",
        "    result = pd.DataFrame(columns=['similarity with previous query', 'index', 'query', 'session_id'])\n",
        "\n",
        "    for ind in sessions.index:\n",
        "        df = pd.DataFrame({'similarity with previous query': sessions['sims_to_prev'][ind], 'index' : sessions['level_0'][ind],\n",
        "                            'query': sessions['query'][ind], 'session_id': sessions['session_id'][ind]})\n",
        "        result = pd.concat([result, df])\n",
        "\n",
        "    result = result.reset_index()\n",
        "    return result\n",
        "\n"
      ],
      "metadata": {
        "id": "9STaXsXRtov-"
      },
      "execution_count": null,
      "outputs": []
    },
    {
      "cell_type": "markdown",
      "metadata": {
        "id": "7_fpL7pxB9zc"
      },
      "source": [
        "# **Обработка выгрузки**"
      ]
    },
    {
      "cell_type": "markdown",
      "metadata": {
        "id": "IDng3easB9zd"
      },
      "source": [
        "**Предобработка**\n",
        "убрать из выборки (здесь предобработки нет, т.к. я передаю уже обработанный датасет для работы в Колабе, в кспд соединю с другим скриптом обработки):\n",
        "- запросы без айди сессий и запросов\n",
        "- пустые запросы\n",
        "- поиск по ID\n",
        "- запросы, совершенные с помощью кнопки \"похожие материалы\" (в самом подборе уточняющих запросов будет учтено)\n",
        "\n",
        "Подбор утоняющих запросов:\n",
        "- сортировать запросы по времени в каждом айди сессии по возрастанию\n",
        "- цикл векторизации и кос сходства на лист запросов в каждой сессии"
      ]
    },
    {
      "cell_type": "code",
      "execution_count": null,
      "metadata": {
        "id": "T1n6wuAmB9zc"
      },
      "outputs": [],
      "source": [
        "# audit_search таблица\n",
        "search = pd.read_csv('/content/search_processed.csv', sep='$')\n",
        "search_sorted = search.sort_values(['session_id', 'date_time'],ascending=True).reset_index()\n",
        "sessions = search_sorted.groupby(\"session_id\").agg({\"query\": lambda x: list(x), 'level_0': lambda y: list(y)}).reset_index()\n",
        "sessions.head(3)"
      ]
    },
    {
      "cell_type": "markdown",
      "source": [
        "> # **USE**"
      ],
      "metadata": {
        "id": "NBQV6ymLIVQ7"
      }
    },
    {
      "cell_type": "code",
      "source": [
        "sessions_use = repeated_queries_search(sessions, model = 'use')\n",
        "result = create_df_with_sim(sessions_use)\n",
        "search_sims = pd.merge(search_sorted, result, left_on = ['level_0'], right_index=True)\n",
        "search_sims = search_sims[['date_time', 'page_number', 'query_x', 'username', 'total_results', 'activeLayer', 'session_id_x', 'similarity with previous query']]\n",
        "search_sims.head(3)"
      ],
      "metadata": {
        "id": "kZzItR-GxJsq",
        "colab": {
          "base_uri": "https://localhost:8080/",
          "height": 161
        },
        "outputId": "255bc55c-7b89-40ca-aa96-a6923e6db896"
      },
      "execution_count": null,
      "outputs": [
        {
          "output_type": "stream",
          "name": "stderr",
          "text": [
            "100%|██████████| 66/66 [00:07<00:00,  8.79it/s]\n"
          ]
        },
        {
          "output_type": "execute_result",
          "data": {
            "text/plain": [
              "                 date_time  page_number  \\\n",
              "0  2023-06-06 07:30:53.566            1   \n",
              "1  2023-06-06 03:30:29.004            1   \n",
              "2  2023-06-06 03:32:28.052            1   \n",
              "\n",
              "                                             query_x  \\\n",
              "0  Лента полиэтиленовая для изоляции нефтегазопро...   \n",
              "1                                        фара ручная   \n",
              "2                                        фара ручная   \n",
              "\n",
              "                        username  total_results activeLayer  \\\n",
              "0  Stepina.VV@GAZPROM-NEFT.LOCAL              6          AI   \n",
              "1  Rubtsov.II@GAZPROM-NEFT.LOCAL             24          AI   \n",
              "2  Rubtsov.II@GAZPROM-NEFT.LOCAL             24          AI   \n",
              "\n",
              "                           session_id_x similarity with previous query  \n",
              "0  03752a88-da02-4556-be69-4946bc503b43                              0  \n",
              "1  0a2c9488-e614-44f8-9307-4e06c26df669                            0.0  \n",
              "2  0a2c9488-e614-44f8-9307-4e06c26df669                            1.0  "
            ],
            "text/html": [
              "\n",
              "\n",
              "  <div id=\"df-893b7382-be8d-4177-8b27-84dd23efd3f8\">\n",
              "    <div class=\"colab-df-container\">\n",
              "      <div>\n",
              "<style scoped>\n",
              "    .dataframe tbody tr th:only-of-type {\n",
              "        vertical-align: middle;\n",
              "    }\n",
              "\n",
              "    .dataframe tbody tr th {\n",
              "        vertical-align: top;\n",
              "    }\n",
              "\n",
              "    .dataframe thead th {\n",
              "        text-align: right;\n",
              "    }\n",
              "</style>\n",
              "<table border=\"1\" class=\"dataframe\">\n",
              "  <thead>\n",
              "    <tr style=\"text-align: right;\">\n",
              "      <th></th>\n",
              "      <th>date_time</th>\n",
              "      <th>page_number</th>\n",
              "      <th>query_x</th>\n",
              "      <th>username</th>\n",
              "      <th>total_results</th>\n",
              "      <th>activeLayer</th>\n",
              "      <th>session_id_x</th>\n",
              "      <th>similarity with previous query</th>\n",
              "    </tr>\n",
              "  </thead>\n",
              "  <tbody>\n",
              "    <tr>\n",
              "      <th>0</th>\n",
              "      <td>2023-06-06 07:30:53.566</td>\n",
              "      <td>1</td>\n",
              "      <td>Лента полиэтиленовая для изоляции нефтегазопро...</td>\n",
              "      <td>Stepina.VV@GAZPROM-NEFT.LOCAL</td>\n",
              "      <td>6</td>\n",
              "      <td>AI</td>\n",
              "      <td>03752a88-da02-4556-be69-4946bc503b43</td>\n",
              "      <td>0</td>\n",
              "    </tr>\n",
              "    <tr>\n",
              "      <th>1</th>\n",
              "      <td>2023-06-06 03:30:29.004</td>\n",
              "      <td>1</td>\n",
              "      <td>фара ручная</td>\n",
              "      <td>Rubtsov.II@GAZPROM-NEFT.LOCAL</td>\n",
              "      <td>24</td>\n",
              "      <td>AI</td>\n",
              "      <td>0a2c9488-e614-44f8-9307-4e06c26df669</td>\n",
              "      <td>0.0</td>\n",
              "    </tr>\n",
              "    <tr>\n",
              "      <th>2</th>\n",
              "      <td>2023-06-06 03:32:28.052</td>\n",
              "      <td>1</td>\n",
              "      <td>фара ручная</td>\n",
              "      <td>Rubtsov.II@GAZPROM-NEFT.LOCAL</td>\n",
              "      <td>24</td>\n",
              "      <td>AI</td>\n",
              "      <td>0a2c9488-e614-44f8-9307-4e06c26df669</td>\n",
              "      <td>1.0</td>\n",
              "    </tr>\n",
              "  </tbody>\n",
              "</table>\n",
              "</div>\n",
              "      <button class=\"colab-df-convert\" onclick=\"convertToInteractive('df-893b7382-be8d-4177-8b27-84dd23efd3f8')\"\n",
              "              title=\"Convert this dataframe to an interactive table.\"\n",
              "              style=\"display:none;\">\n",
              "\n",
              "  <svg xmlns=\"http://www.w3.org/2000/svg\" height=\"24px\"viewBox=\"0 0 24 24\"\n",
              "       width=\"24px\">\n",
              "    <path d=\"M0 0h24v24H0V0z\" fill=\"none\"/>\n",
              "    <path d=\"M18.56 5.44l.94 2.06.94-2.06 2.06-.94-2.06-.94-.94-2.06-.94 2.06-2.06.94zm-11 1L8.5 8.5l.94-2.06 2.06-.94-2.06-.94L8.5 2.5l-.94 2.06-2.06.94zm10 10l.94 2.06.94-2.06 2.06-.94-2.06-.94-.94-2.06-.94 2.06-2.06.94z\"/><path d=\"M17.41 7.96l-1.37-1.37c-.4-.4-.92-.59-1.43-.59-.52 0-1.04.2-1.43.59L10.3 9.45l-7.72 7.72c-.78.78-.78 2.05 0 2.83L4 21.41c.39.39.9.59 1.41.59.51 0 1.02-.2 1.41-.59l7.78-7.78 2.81-2.81c.8-.78.8-2.07 0-2.86zM5.41 20L4 18.59l7.72-7.72 1.47 1.35L5.41 20z\"/>\n",
              "  </svg>\n",
              "      </button>\n",
              "\n",
              "\n",
              "\n",
              "    <div id=\"df-74fda0df-4520-4d43-8a53-cb26589d5ed3\">\n",
              "      <button class=\"colab-df-quickchart\" onclick=\"quickchart('df-74fda0df-4520-4d43-8a53-cb26589d5ed3')\"\n",
              "              title=\"Suggest charts.\"\n",
              "              style=\"display:none;\">\n",
              "\n",
              "<svg xmlns=\"http://www.w3.org/2000/svg\" height=\"24px\"viewBox=\"0 0 24 24\"\n",
              "     width=\"24px\">\n",
              "    <g>\n",
              "        <path d=\"M19 3H5c-1.1 0-2 .9-2 2v14c0 1.1.9 2 2 2h14c1.1 0 2-.9 2-2V5c0-1.1-.9-2-2-2zM9 17H7v-7h2v7zm4 0h-2V7h2v10zm4 0h-2v-4h2v4z\"/>\n",
              "    </g>\n",
              "</svg>\n",
              "      </button>\n",
              "    </div>\n",
              "\n",
              "<style>\n",
              "  .colab-df-quickchart {\n",
              "    background-color: #E8F0FE;\n",
              "    border: none;\n",
              "    border-radius: 50%;\n",
              "    cursor: pointer;\n",
              "    display: none;\n",
              "    fill: #1967D2;\n",
              "    height: 32px;\n",
              "    padding: 0 0 0 0;\n",
              "    width: 32px;\n",
              "  }\n",
              "\n",
              "  .colab-df-quickchart:hover {\n",
              "    background-color: #E2EBFA;\n",
              "    box-shadow: 0px 1px 2px rgba(60, 64, 67, 0.3), 0px 1px 3px 1px rgba(60, 64, 67, 0.15);\n",
              "    fill: #174EA6;\n",
              "  }\n",
              "\n",
              "  [theme=dark] .colab-df-quickchart {\n",
              "    background-color: #3B4455;\n",
              "    fill: #D2E3FC;\n",
              "  }\n",
              "\n",
              "  [theme=dark] .colab-df-quickchart:hover {\n",
              "    background-color: #434B5C;\n",
              "    box-shadow: 0px 1px 3px 1px rgba(0, 0, 0, 0.15);\n",
              "    filter: drop-shadow(0px 1px 2px rgba(0, 0, 0, 0.3));\n",
              "    fill: #FFFFFF;\n",
              "  }\n",
              "</style>\n",
              "\n",
              "    <script>\n",
              "      async function quickchart(key) {\n",
              "        const containerElement = document.querySelector('#' + key);\n",
              "        const charts = await google.colab.kernel.invokeFunction(\n",
              "            'suggestCharts', [key], {});\n",
              "      }\n",
              "    </script>\n",
              "\n",
              "      <script>\n",
              "\n",
              "function displayQuickchartButton(domScope) {\n",
              "  let quickchartButtonEl =\n",
              "    domScope.querySelector('#df-74fda0df-4520-4d43-8a53-cb26589d5ed3 button.colab-df-quickchart');\n",
              "  quickchartButtonEl.style.display =\n",
              "    google.colab.kernel.accessAllowed ? 'block' : 'none';\n",
              "}\n",
              "\n",
              "        displayQuickchartButton(document);\n",
              "      </script>\n",
              "      <style>\n",
              "    .colab-df-container {\n",
              "      display:flex;\n",
              "      flex-wrap:wrap;\n",
              "      gap: 12px;\n",
              "    }\n",
              "\n",
              "    .colab-df-convert {\n",
              "      background-color: #E8F0FE;\n",
              "      border: none;\n",
              "      border-radius: 50%;\n",
              "      cursor: pointer;\n",
              "      display: none;\n",
              "      fill: #1967D2;\n",
              "      height: 32px;\n",
              "      padding: 0 0 0 0;\n",
              "      width: 32px;\n",
              "    }\n",
              "\n",
              "    .colab-df-convert:hover {\n",
              "      background-color: #E2EBFA;\n",
              "      box-shadow: 0px 1px 2px rgba(60, 64, 67, 0.3), 0px 1px 3px 1px rgba(60, 64, 67, 0.15);\n",
              "      fill: #174EA6;\n",
              "    }\n",
              "\n",
              "    [theme=dark] .colab-df-convert {\n",
              "      background-color: #3B4455;\n",
              "      fill: #D2E3FC;\n",
              "    }\n",
              "\n",
              "    [theme=dark] .colab-df-convert:hover {\n",
              "      background-color: #434B5C;\n",
              "      box-shadow: 0px 1px 3px 1px rgba(0, 0, 0, 0.15);\n",
              "      filter: drop-shadow(0px 1px 2px rgba(0, 0, 0, 0.3));\n",
              "      fill: #FFFFFF;\n",
              "    }\n",
              "  </style>\n",
              "\n",
              "      <script>\n",
              "        const buttonEl =\n",
              "          document.querySelector('#df-893b7382-be8d-4177-8b27-84dd23efd3f8 button.colab-df-convert');\n",
              "        buttonEl.style.display =\n",
              "          google.colab.kernel.accessAllowed ? 'block' : 'none';\n",
              "\n",
              "        async function convertToInteractive(key) {\n",
              "          const element = document.querySelector('#df-893b7382-be8d-4177-8b27-84dd23efd3f8');\n",
              "          const dataTable =\n",
              "            await google.colab.kernel.invokeFunction('convertToInteractive',\n",
              "                                                     [key], {});\n",
              "          if (!dataTable) return;\n",
              "\n",
              "          const docLinkHtml = 'Like what you see? Visit the ' +\n",
              "            '<a target=\"_blank\" href=https://colab.research.google.com/notebooks/data_table.ipynb>data table notebook</a>'\n",
              "            + ' to learn more about interactive tables.';\n",
              "          element.innerHTML = '';\n",
              "          dataTable['output_type'] = 'display_data';\n",
              "          await google.colab.output.renderOutput(dataTable, element);\n",
              "          const docLink = document.createElement('div');\n",
              "          docLink.innerHTML = docLinkHtml;\n",
              "          element.appendChild(docLink);\n",
              "        }\n",
              "      </script>\n",
              "    </div>\n",
              "  </div>\n"
            ]
          },
          "metadata": {},
          "execution_count": 80
        }
      ]
    },
    {
      "cell_type": "code",
      "source": [
        "search_sims.to_excel('sim_by_use.xlsx')"
      ],
      "metadata": {
        "id": "BRCyFgew2SLj"
      },
      "execution_count": null,
      "outputs": []
    },
    {
      "cell_type": "markdown",
      "source": [
        "> # **BERT**"
      ],
      "metadata": {
        "id": "S_hcgtZa1UGi"
      }
    },
    {
      "cell_type": "code",
      "source": [
        "sessions_bert = repeated_queries_search(sessions)\n",
        "result = create_df_with_sim(sessions_bert)\n",
        "search_sims = pd.merge(search_sorted, result, left_on = ['level_0'], right_index=True)\n",
        "search_sims = search_sims[['date_time', 'page_number', 'query_x', 'username', 'total_results', 'activeLayer', 'session_id_x', 'similarity with previous query']]\n",
        "search_sims.head(3)"
      ],
      "metadata": {
        "colab": {
          "base_uri": "https://localhost:8080/",
          "height": 161
        },
        "id": "Z81gnMTs1Xku",
        "outputId": "a9412ba6-e2e4-4b3a-bb81-a6b69b22aea7"
      },
      "execution_count": null,
      "outputs": [
        {
          "output_type": "stream",
          "name": "stderr",
          "text": [
            "100%|██████████| 66/66 [00:11<00:00,  5.76it/s]\n"
          ]
        },
        {
          "output_type": "execute_result",
          "data": {
            "text/plain": [
              "                 date_time  page_number  \\\n",
              "0  2023-06-06 07:30:53.566            1   \n",
              "1  2023-06-06 03:30:29.004            1   \n",
              "2  2023-06-06 03:32:28.052            1   \n",
              "\n",
              "                                             query_x  \\\n",
              "0  Лента полиэтиленовая для изоляции нефтегазопро...   \n",
              "1                                        фара ручная   \n",
              "2                                        фара ручная   \n",
              "\n",
              "                        username  total_results activeLayer  \\\n",
              "0  Stepina.VV@GAZPROM-NEFT.LOCAL              6          AI   \n",
              "1  Rubtsov.II@GAZPROM-NEFT.LOCAL             24          AI   \n",
              "2  Rubtsov.II@GAZPROM-NEFT.LOCAL             24          AI   \n",
              "\n",
              "                           session_id_x similarity with previous query  \n",
              "0  03752a88-da02-4556-be69-4946bc503b43                              0  \n",
              "1  0a2c9488-e614-44f8-9307-4e06c26df669                            0.0  \n",
              "2  0a2c9488-e614-44f8-9307-4e06c26df669                            1.0  "
            ],
            "text/html": [
              "\n",
              "\n",
              "  <div id=\"df-e69fe282-21fc-464e-9f61-e81251c9d385\">\n",
              "    <div class=\"colab-df-container\">\n",
              "      <div>\n",
              "<style scoped>\n",
              "    .dataframe tbody tr th:only-of-type {\n",
              "        vertical-align: middle;\n",
              "    }\n",
              "\n",
              "    .dataframe tbody tr th {\n",
              "        vertical-align: top;\n",
              "    }\n",
              "\n",
              "    .dataframe thead th {\n",
              "        text-align: right;\n",
              "    }\n",
              "</style>\n",
              "<table border=\"1\" class=\"dataframe\">\n",
              "  <thead>\n",
              "    <tr style=\"text-align: right;\">\n",
              "      <th></th>\n",
              "      <th>date_time</th>\n",
              "      <th>page_number</th>\n",
              "      <th>query_x</th>\n",
              "      <th>username</th>\n",
              "      <th>total_results</th>\n",
              "      <th>activeLayer</th>\n",
              "      <th>session_id_x</th>\n",
              "      <th>similarity with previous query</th>\n",
              "    </tr>\n",
              "  </thead>\n",
              "  <tbody>\n",
              "    <tr>\n",
              "      <th>0</th>\n",
              "      <td>2023-06-06 07:30:53.566</td>\n",
              "      <td>1</td>\n",
              "      <td>Лента полиэтиленовая для изоляции нефтегазопро...</td>\n",
              "      <td>Stepina.VV@GAZPROM-NEFT.LOCAL</td>\n",
              "      <td>6</td>\n",
              "      <td>AI</td>\n",
              "      <td>03752a88-da02-4556-be69-4946bc503b43</td>\n",
              "      <td>0</td>\n",
              "    </tr>\n",
              "    <tr>\n",
              "      <th>1</th>\n",
              "      <td>2023-06-06 03:30:29.004</td>\n",
              "      <td>1</td>\n",
              "      <td>фара ручная</td>\n",
              "      <td>Rubtsov.II@GAZPROM-NEFT.LOCAL</td>\n",
              "      <td>24</td>\n",
              "      <td>AI</td>\n",
              "      <td>0a2c9488-e614-44f8-9307-4e06c26df669</td>\n",
              "      <td>0.0</td>\n",
              "    </tr>\n",
              "    <tr>\n",
              "      <th>2</th>\n",
              "      <td>2023-06-06 03:32:28.052</td>\n",
              "      <td>1</td>\n",
              "      <td>фара ручная</td>\n",
              "      <td>Rubtsov.II@GAZPROM-NEFT.LOCAL</td>\n",
              "      <td>24</td>\n",
              "      <td>AI</td>\n",
              "      <td>0a2c9488-e614-44f8-9307-4e06c26df669</td>\n",
              "      <td>1.0</td>\n",
              "    </tr>\n",
              "  </tbody>\n",
              "</table>\n",
              "</div>\n",
              "      <button class=\"colab-df-convert\" onclick=\"convertToInteractive('df-e69fe282-21fc-464e-9f61-e81251c9d385')\"\n",
              "              title=\"Convert this dataframe to an interactive table.\"\n",
              "              style=\"display:none;\">\n",
              "\n",
              "  <svg xmlns=\"http://www.w3.org/2000/svg\" height=\"24px\"viewBox=\"0 0 24 24\"\n",
              "       width=\"24px\">\n",
              "    <path d=\"M0 0h24v24H0V0z\" fill=\"none\"/>\n",
              "    <path d=\"M18.56 5.44l.94 2.06.94-2.06 2.06-.94-2.06-.94-.94-2.06-.94 2.06-2.06.94zm-11 1L8.5 8.5l.94-2.06 2.06-.94-2.06-.94L8.5 2.5l-.94 2.06-2.06.94zm10 10l.94 2.06.94-2.06 2.06-.94-2.06-.94-.94-2.06-.94 2.06-2.06.94z\"/><path d=\"M17.41 7.96l-1.37-1.37c-.4-.4-.92-.59-1.43-.59-.52 0-1.04.2-1.43.59L10.3 9.45l-7.72 7.72c-.78.78-.78 2.05 0 2.83L4 21.41c.39.39.9.59 1.41.59.51 0 1.02-.2 1.41-.59l7.78-7.78 2.81-2.81c.8-.78.8-2.07 0-2.86zM5.41 20L4 18.59l7.72-7.72 1.47 1.35L5.41 20z\"/>\n",
              "  </svg>\n",
              "      </button>\n",
              "\n",
              "\n",
              "\n",
              "    <div id=\"df-4876dc20-c190-472e-85bb-075fc9990fa9\">\n",
              "      <button class=\"colab-df-quickchart\" onclick=\"quickchart('df-4876dc20-c190-472e-85bb-075fc9990fa9')\"\n",
              "              title=\"Suggest charts.\"\n",
              "              style=\"display:none;\">\n",
              "\n",
              "<svg xmlns=\"http://www.w3.org/2000/svg\" height=\"24px\"viewBox=\"0 0 24 24\"\n",
              "     width=\"24px\">\n",
              "    <g>\n",
              "        <path d=\"M19 3H5c-1.1 0-2 .9-2 2v14c0 1.1.9 2 2 2h14c1.1 0 2-.9 2-2V5c0-1.1-.9-2-2-2zM9 17H7v-7h2v7zm4 0h-2V7h2v10zm4 0h-2v-4h2v4z\"/>\n",
              "    </g>\n",
              "</svg>\n",
              "      </button>\n",
              "    </div>\n",
              "\n",
              "<style>\n",
              "  .colab-df-quickchart {\n",
              "    background-color: #E8F0FE;\n",
              "    border: none;\n",
              "    border-radius: 50%;\n",
              "    cursor: pointer;\n",
              "    display: none;\n",
              "    fill: #1967D2;\n",
              "    height: 32px;\n",
              "    padding: 0 0 0 0;\n",
              "    width: 32px;\n",
              "  }\n",
              "\n",
              "  .colab-df-quickchart:hover {\n",
              "    background-color: #E2EBFA;\n",
              "    box-shadow: 0px 1px 2px rgba(60, 64, 67, 0.3), 0px 1px 3px 1px rgba(60, 64, 67, 0.15);\n",
              "    fill: #174EA6;\n",
              "  }\n",
              "\n",
              "  [theme=dark] .colab-df-quickchart {\n",
              "    background-color: #3B4455;\n",
              "    fill: #D2E3FC;\n",
              "  }\n",
              "\n",
              "  [theme=dark] .colab-df-quickchart:hover {\n",
              "    background-color: #434B5C;\n",
              "    box-shadow: 0px 1px 3px 1px rgba(0, 0, 0, 0.15);\n",
              "    filter: drop-shadow(0px 1px 2px rgba(0, 0, 0, 0.3));\n",
              "    fill: #FFFFFF;\n",
              "  }\n",
              "</style>\n",
              "\n",
              "    <script>\n",
              "      async function quickchart(key) {\n",
              "        const containerElement = document.querySelector('#' + key);\n",
              "        const charts = await google.colab.kernel.invokeFunction(\n",
              "            'suggestCharts', [key], {});\n",
              "      }\n",
              "    </script>\n",
              "\n",
              "      <script>\n",
              "\n",
              "function displayQuickchartButton(domScope) {\n",
              "  let quickchartButtonEl =\n",
              "    domScope.querySelector('#df-4876dc20-c190-472e-85bb-075fc9990fa9 button.colab-df-quickchart');\n",
              "  quickchartButtonEl.style.display =\n",
              "    google.colab.kernel.accessAllowed ? 'block' : 'none';\n",
              "}\n",
              "\n",
              "        displayQuickchartButton(document);\n",
              "      </script>\n",
              "      <style>\n",
              "    .colab-df-container {\n",
              "      display:flex;\n",
              "      flex-wrap:wrap;\n",
              "      gap: 12px;\n",
              "    }\n",
              "\n",
              "    .colab-df-convert {\n",
              "      background-color: #E8F0FE;\n",
              "      border: none;\n",
              "      border-radius: 50%;\n",
              "      cursor: pointer;\n",
              "      display: none;\n",
              "      fill: #1967D2;\n",
              "      height: 32px;\n",
              "      padding: 0 0 0 0;\n",
              "      width: 32px;\n",
              "    }\n",
              "\n",
              "    .colab-df-convert:hover {\n",
              "      background-color: #E2EBFA;\n",
              "      box-shadow: 0px 1px 2px rgba(60, 64, 67, 0.3), 0px 1px 3px 1px rgba(60, 64, 67, 0.15);\n",
              "      fill: #174EA6;\n",
              "    }\n",
              "\n",
              "    [theme=dark] .colab-df-convert {\n",
              "      background-color: #3B4455;\n",
              "      fill: #D2E3FC;\n",
              "    }\n",
              "\n",
              "    [theme=dark] .colab-df-convert:hover {\n",
              "      background-color: #434B5C;\n",
              "      box-shadow: 0px 1px 3px 1px rgba(0, 0, 0, 0.15);\n",
              "      filter: drop-shadow(0px 1px 2px rgba(0, 0, 0, 0.3));\n",
              "      fill: #FFFFFF;\n",
              "    }\n",
              "  </style>\n",
              "\n",
              "      <script>\n",
              "        const buttonEl =\n",
              "          document.querySelector('#df-e69fe282-21fc-464e-9f61-e81251c9d385 button.colab-df-convert');\n",
              "        buttonEl.style.display =\n",
              "          google.colab.kernel.accessAllowed ? 'block' : 'none';\n",
              "\n",
              "        async function convertToInteractive(key) {\n",
              "          const element = document.querySelector('#df-e69fe282-21fc-464e-9f61-e81251c9d385');\n",
              "          const dataTable =\n",
              "            await google.colab.kernel.invokeFunction('convertToInteractive',\n",
              "                                                     [key], {});\n",
              "          if (!dataTable) return;\n",
              "\n",
              "          const docLinkHtml = 'Like what you see? Visit the ' +\n",
              "            '<a target=\"_blank\" href=https://colab.research.google.com/notebooks/data_table.ipynb>data table notebook</a>'\n",
              "            + ' to learn more about interactive tables.';\n",
              "          element.innerHTML = '';\n",
              "          dataTable['output_type'] = 'display_data';\n",
              "          await google.colab.output.renderOutput(dataTable, element);\n",
              "          const docLink = document.createElement('div');\n",
              "          docLink.innerHTML = docLinkHtml;\n",
              "          element.appendChild(docLink);\n",
              "        }\n",
              "      </script>\n",
              "    </div>\n",
              "  </div>\n"
            ]
          },
          "metadata": {},
          "execution_count": 78
        }
      ]
    },
    {
      "cell_type": "markdown",
      "source": [
        "! первый запрос в сессии проставляется сходством 0"
      ],
      "metadata": {
        "id": "X1_Pw41iNQp4"
      }
    },
    {
      "cell_type": "code",
      "source": [
        "search_sims.to_excel('sim_by_bert.xlsx')"
      ],
      "metadata": {
        "id": "c51X_tTw4gxU"
      },
      "execution_count": null,
      "outputs": []
    },
    {
      "cell_type": "code",
      "source": [],
      "metadata": {
        "id": "P7iQwzDc7WbX"
      },
      "execution_count": null,
      "outputs": []
    }
  ],
  "metadata": {
    "colab": {
      "provenance": [],
      "collapsed_sections": [
        "jLaPddF8l672",
        "pKr_Qm7vnEFA",
        "7_fpL7pxB9zc",
        "NBQV6ymLIVQ7"
      ],
      "include_colab_link": true
    },
    "kernelspec": {
      "display_name": "nsi",
      "language": "python",
      "name": "python3"
    },
    "language_info": {
      "codemirror_mode": {
        "name": "ipython",
        "version": 3
      },
      "file_extension": ".py",
      "mimetype": "text/x-python",
      "name": "python",
      "nbconvert_exporter": "python",
      "pygments_lexer": "ipython3",
      "version": "3.8.16"
    }
  },
  "nbformat": 4,
  "nbformat_minor": 0
}