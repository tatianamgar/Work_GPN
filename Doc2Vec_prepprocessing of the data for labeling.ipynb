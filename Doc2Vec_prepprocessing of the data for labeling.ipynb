{
  "cells": [
    {
      "cell_type": "markdown",
      "metadata": {
        "id": "view-in-github",
        "colab_type": "text"
      },
      "source": [
        "<a href=\"https://colab.research.google.com/github/tatianamgar/Work_GPN/blob/main/Prepprocessing%20of%20the%20data%20for%20labeling.ipynb\" target=\"_parent\"><img src=\"https://colab.research.google.com/assets/colab-badge.svg\" alt=\"Open In Colab\"/></a>"
      ]
    },
    {
      "cell_type": "code",
      "execution_count": null,
      "metadata": {
        "id": "4KQJ0uZMQb-P"
      },
      "outputs": [],
      "source": [
        "import pandas as pd"
      ]
    },
    {
      "cell_type": "code",
      "source": [
        "from google.colab import drive\n",
        "drive.mount('/content/drive')"
      ],
      "metadata": {
        "colab": {
          "base_uri": "https://localhost:8080/"
        },
        "id": "8gueAn2NQrb-",
        "outputId": "db26a80a-1ac1-4c0e-859e-d181fc03c476"
      },
      "execution_count": null,
      "outputs": [
        {
          "output_type": "stream",
          "name": "stdout",
          "text": [
            "Mounted at /content/drive\n"
          ]
        }
      ]
    },
    {
      "cell_type": "code",
      "source": [
        "!pip install openpyxl==3.0.0"
      ],
      "metadata": {
        "id": "p9VkuHAmQvVD"
      },
      "execution_count": null,
      "outputs": []
    },
    {
      "cell_type": "code",
      "execution_count": null,
      "metadata": {
        "scrolled": true,
        "colab": {
          "base_uri": "https://localhost:8080/",
          "height": 423
        },
        "id": "Zb-FeLbZQb-W",
        "outputId": "fcf1cafd-7123-4c4a-bf6f-85c05fd25b38"
      },
      "outputs": [
        {
          "output_type": "execute_result",
          "data": {
            "text/plain": [
              "               Код                             Полное наименование ru  \\\n",
              "0          1073744  Вагон-платформа 4-х осная универсальная модели...   \n",
              "1          1083210  Блок водораспределительный напорный БВРН-02-20...   \n",
              "2          1083211  Блок водораспределительный напорный БВРН-02-20...   \n",
              "3          1083968  БЛОК ДОЗИРОВАНИЯ РЕАГЕНТОВ БДР-ОЗНА-ДОЗАТОР-1-...   \n",
              "4          1085047               БЛОК ДОЗИРОВАНИЯ РЕАГЕНТОВ БДР-2/1/2   \n",
              "...            ...                                                ...   \n",
              "8238  980008173899                                   ГИДРОПРИВОД ГП-1   \n",
              "8239  980008173906                     ПРУЖИНА ОСНОВНАЯ МПК 10В-75-39   \n",
              "8240  980008173991                          Регулятор расхода МПК-10В   \n",
              "8241  980008705268                              Мембрана 3145.000.222   \n",
              "8242  983005130211                УСТАНОВКА ДОЗИРУЮЩАЯ РЕАГЕНТ УДР-01   \n",
              "\n",
              "     Нормативный документ  \n",
              "0     ТУ 24.05.001.132-01  \n",
              "1           ОПРОСНЫЙ ЛИСТ  \n",
              "2           ОПРОСНЫЙ ЛИСТ  \n",
              "3           ОПРОСНЫЙ ЛИСТ  \n",
              "4           ОПРОСНЫЙ ЛИСТ  \n",
              "...                   ...  \n",
              "8238                    -  \n",
              "8239     ТУ ПРОИЗВОДИТЕЛЯ  \n",
              "8240     ТУ ПРОИЗВОДИТЕЛЯ  \n",
              "8241  ЧЕРТЕЖ 3145.000.222  \n",
              "8242     ТУ ПРОИЗВОДИТЕЛЯ  \n",
              "\n",
              "[8243 rows x 3 columns]"
            ],
            "text/html": [
              "\n",
              "  <div id=\"df-22f11fde-023d-47e5-a1cc-e4d71e13d7f2\">\n",
              "    <div class=\"colab-df-container\">\n",
              "      <div>\n",
              "<style scoped>\n",
              "    .dataframe tbody tr th:only-of-type {\n",
              "        vertical-align: middle;\n",
              "    }\n",
              "\n",
              "    .dataframe tbody tr th {\n",
              "        vertical-align: top;\n",
              "    }\n",
              "\n",
              "    .dataframe thead th {\n",
              "        text-align: right;\n",
              "    }\n",
              "</style>\n",
              "<table border=\"1\" class=\"dataframe\">\n",
              "  <thead>\n",
              "    <tr style=\"text-align: right;\">\n",
              "      <th></th>\n",
              "      <th>Код</th>\n",
              "      <th>Полное наименование ru</th>\n",
              "      <th>Нормативный документ</th>\n",
              "    </tr>\n",
              "  </thead>\n",
              "  <tbody>\n",
              "    <tr>\n",
              "      <th>0</th>\n",
              "      <td>1073744</td>\n",
              "      <td>Вагон-платформа 4-х осная универсальная модели...</td>\n",
              "      <td>ТУ 24.05.001.132-01</td>\n",
              "    </tr>\n",
              "    <tr>\n",
              "      <th>1</th>\n",
              "      <td>1083210</td>\n",
              "      <td>Блок водораспределительный напорный БВРН-02-20...</td>\n",
              "      <td>ОПРОСНЫЙ ЛИСТ</td>\n",
              "    </tr>\n",
              "    <tr>\n",
              "      <th>2</th>\n",
              "      <td>1083211</td>\n",
              "      <td>Блок водораспределительный напорный БВРН-02-20...</td>\n",
              "      <td>ОПРОСНЫЙ ЛИСТ</td>\n",
              "    </tr>\n",
              "    <tr>\n",
              "      <th>3</th>\n",
              "      <td>1083968</td>\n",
              "      <td>БЛОК ДОЗИРОВАНИЯ РЕАГЕНТОВ БДР-ОЗНА-ДОЗАТОР-1-...</td>\n",
              "      <td>ОПРОСНЫЙ ЛИСТ</td>\n",
              "    </tr>\n",
              "    <tr>\n",
              "      <th>4</th>\n",
              "      <td>1085047</td>\n",
              "      <td>БЛОК ДОЗИРОВАНИЯ РЕАГЕНТОВ БДР-2/1/2</td>\n",
              "      <td>ОПРОСНЫЙ ЛИСТ</td>\n",
              "    </tr>\n",
              "    <tr>\n",
              "      <th>...</th>\n",
              "      <td>...</td>\n",
              "      <td>...</td>\n",
              "      <td>...</td>\n",
              "    </tr>\n",
              "    <tr>\n",
              "      <th>8238</th>\n",
              "      <td>980008173899</td>\n",
              "      <td>ГИДРОПРИВОД ГП-1</td>\n",
              "      <td>-</td>\n",
              "    </tr>\n",
              "    <tr>\n",
              "      <th>8239</th>\n",
              "      <td>980008173906</td>\n",
              "      <td>ПРУЖИНА ОСНОВНАЯ МПК 10В-75-39</td>\n",
              "      <td>ТУ ПРОИЗВОДИТЕЛЯ</td>\n",
              "    </tr>\n",
              "    <tr>\n",
              "      <th>8240</th>\n",
              "      <td>980008173991</td>\n",
              "      <td>Регулятор расхода МПК-10В</td>\n",
              "      <td>ТУ ПРОИЗВОДИТЕЛЯ</td>\n",
              "    </tr>\n",
              "    <tr>\n",
              "      <th>8241</th>\n",
              "      <td>980008705268</td>\n",
              "      <td>Мембрана 3145.000.222</td>\n",
              "      <td>ЧЕРТЕЖ 3145.000.222</td>\n",
              "    </tr>\n",
              "    <tr>\n",
              "      <th>8242</th>\n",
              "      <td>983005130211</td>\n",
              "      <td>УСТАНОВКА ДОЗИРУЮЩАЯ РЕАГЕНТ УДР-01</td>\n",
              "      <td>ТУ ПРОИЗВОДИТЕЛЯ</td>\n",
              "    </tr>\n",
              "  </tbody>\n",
              "</table>\n",
              "<p>8243 rows × 3 columns</p>\n",
              "</div>\n",
              "      <button class=\"colab-df-convert\" onclick=\"convertToInteractive('df-22f11fde-023d-47e5-a1cc-e4d71e13d7f2')\"\n",
              "              title=\"Convert this dataframe to an interactive table.\"\n",
              "              style=\"display:none;\">\n",
              "        \n",
              "  <svg xmlns=\"http://www.w3.org/2000/svg\" height=\"24px\"viewBox=\"0 0 24 24\"\n",
              "       width=\"24px\">\n",
              "    <path d=\"M0 0h24v24H0V0z\" fill=\"none\"/>\n",
              "    <path d=\"M18.56 5.44l.94 2.06.94-2.06 2.06-.94-2.06-.94-.94-2.06-.94 2.06-2.06.94zm-11 1L8.5 8.5l.94-2.06 2.06-.94-2.06-.94L8.5 2.5l-.94 2.06-2.06.94zm10 10l.94 2.06.94-2.06 2.06-.94-2.06-.94-.94-2.06-.94 2.06-2.06.94z\"/><path d=\"M17.41 7.96l-1.37-1.37c-.4-.4-.92-.59-1.43-.59-.52 0-1.04.2-1.43.59L10.3 9.45l-7.72 7.72c-.78.78-.78 2.05 0 2.83L4 21.41c.39.39.9.59 1.41.59.51 0 1.02-.2 1.41-.59l7.78-7.78 2.81-2.81c.8-.78.8-2.07 0-2.86zM5.41 20L4 18.59l7.72-7.72 1.47 1.35L5.41 20z\"/>\n",
              "  </svg>\n",
              "      </button>\n",
              "      \n",
              "  <style>\n",
              "    .colab-df-container {\n",
              "      display:flex;\n",
              "      flex-wrap:wrap;\n",
              "      gap: 12px;\n",
              "    }\n",
              "\n",
              "    .colab-df-convert {\n",
              "      background-color: #E8F0FE;\n",
              "      border: none;\n",
              "      border-radius: 50%;\n",
              "      cursor: pointer;\n",
              "      display: none;\n",
              "      fill: #1967D2;\n",
              "      height: 32px;\n",
              "      padding: 0 0 0 0;\n",
              "      width: 32px;\n",
              "    }\n",
              "\n",
              "    .colab-df-convert:hover {\n",
              "      background-color: #E2EBFA;\n",
              "      box-shadow: 0px 1px 2px rgba(60, 64, 67, 0.3), 0px 1px 3px 1px rgba(60, 64, 67, 0.15);\n",
              "      fill: #174EA6;\n",
              "    }\n",
              "\n",
              "    [theme=dark] .colab-df-convert {\n",
              "      background-color: #3B4455;\n",
              "      fill: #D2E3FC;\n",
              "    }\n",
              "\n",
              "    [theme=dark] .colab-df-convert:hover {\n",
              "      background-color: #434B5C;\n",
              "      box-shadow: 0px 1px 3px 1px rgba(0, 0, 0, 0.15);\n",
              "      filter: drop-shadow(0px 1px 2px rgba(0, 0, 0, 0.3));\n",
              "      fill: #FFFFFF;\n",
              "    }\n",
              "  </style>\n",
              "\n",
              "      <script>\n",
              "        const buttonEl =\n",
              "          document.querySelector('#df-22f11fde-023d-47e5-a1cc-e4d71e13d7f2 button.colab-df-convert');\n",
              "        buttonEl.style.display =\n",
              "          google.colab.kernel.accessAllowed ? 'block' : 'none';\n",
              "\n",
              "        async function convertToInteractive(key) {\n",
              "          const element = document.querySelector('#df-22f11fde-023d-47e5-a1cc-e4d71e13d7f2');\n",
              "          const dataTable =\n",
              "            await google.colab.kernel.invokeFunction('convertToInteractive',\n",
              "                                                     [key], {});\n",
              "          if (!dataTable) return;\n",
              "\n",
              "          const docLinkHtml = 'Like what you see? Visit the ' +\n",
              "            '<a target=\"_blank\" href=https://colab.research.google.com/notebooks/data_table.ipynb>data table notebook</a>'\n",
              "            + ' to learn more about interactive tables.';\n",
              "          element.innerHTML = '';\n",
              "          dataTable['output_type'] = 'display_data';\n",
              "          await google.colab.output.renderOutput(dataTable, element);\n",
              "          const docLink = document.createElement('div');\n",
              "          docLink.innerHTML = docLinkHtml;\n",
              "          element.appendChild(docLink);\n",
              "        }\n",
              "      </script>\n",
              "    </div>\n",
              "  </div>\n",
              "  "
            ]
          },
          "metadata": {},
          "execution_count": 4
        }
      ],
      "source": [
        "df = pd.read_excel(\"/content/g09.xlsx\")\n",
        "df"
      ]
    },
    {
      "cell_type": "code",
      "source": [
        "ntd = df['Нормативный документ'] .value_counts()"
      ],
      "metadata": {
        "id": "3Lp3pi3qa-S1"
      },
      "execution_count": null,
      "outputs": []
    },
    {
      "cell_type": "code",
      "source": [
        "ntd.to_excel(\"ntd.xlsx\")"
      ],
      "metadata": {
        "id": "tPZdFGnCbc-o"
      },
      "execution_count": null,
      "outputs": []
    },
    {
      "cell_type": "code",
      "execution_count": null,
      "metadata": {
        "id": "SURNI0QMQb-c"
      },
      "outputs": [],
      "source": [
        "data = df[[\"Полное наименование ru\"]]\n",
        "data = data.rename(columns={'Полное наименование ru':\"text\"})\n",
        "data = data.dropna(subset=['text'])"
      ]
    },
    {
      "cell_type": "code",
      "execution_count": null,
      "metadata": {
        "id": "0uqXHS29Qb-i"
      },
      "outputs": [],
      "source": [
        "import gensim\n",
        "import gensim.downloader as api"
      ]
    },
    {
      "cell_type": "code",
      "execution_count": null,
      "metadata": {
        "id": "3TLz-7FMQb-j",
        "outputId": "86cba7cb-f41c-41cb-a060-7f286a301db3",
        "colab": {
          "base_uri": "https://localhost:8080/"
        }
      },
      "outputs": [
        {
          "output_type": "stream",
          "name": "stdout",
          "text": [
            "[TaggedDocument(words='text', tags=[0])]\n"
          ]
        }
      ],
      "source": [
        "# Create the tagged document needed for Doc2Vec\n",
        "def create_tagged_document(list_of_list_of_words):\n",
        "    for i, list_of_words in enumerate(list_of_list_of_words):\n",
        "        yield gensim.models.doc2vec.TaggedDocument(list_of_words, [i])\n",
        "train_data = list(create_tagged_document(data))\n",
        "print(train_data[:1])"
      ]
    },
    {
      "cell_type": "code",
      "execution_count": null,
      "metadata": {
        "id": "UR_hfJN4Qb-l"
      },
      "outputs": [],
      "source": [
        "# Init the Doc2Vec model\n",
        "model = gensim.models.doc2vec.Doc2Vec(vector_size=50, min_count=2, epochs=40)\n",
        "# Build the Volabulary\n",
        "model.build_vocab(train_data)\n",
        "# Train the Doc2Vec model\n",
        "model.train(train_data, total_examples=model.corpus_count, epochs=model.epochs)"
      ]
    },
    {
      "cell_type": "code",
      "execution_count": null,
      "metadata": {
        "id": "S9a0GzQ4Qb-o",
        "outputId": "3f3ab6dd-ebc0-4cb2-9f66-06e4b5dee0b7",
        "colab": {
          "base_uri": "https://localhost:8080/"
        }
      },
      "outputs": [
        {
          "output_type": "stream",
          "name": "stdout",
          "text": [
            "[-9.0705594e-03  6.4599188e-03  9.3177417e-03  3.8285102e-03\n",
            " -5.4775150e-03  6.4540775e-03  8.5979719e-03  5.7223947e-03\n",
            "  9.7521059e-03 -5.8826036e-03 -5.6333467e-03  3.0546129e-04\n",
            " -8.1269592e-03  7.0354925e-03  4.7868686e-03 -1.0465818e-03\n",
            " -1.1005597e-03  2.4339340e-03  8.5132131e-03 -8.9769941e-03\n",
            " -6.4721461e-03  4.4712499e-03 -9.4511252e-06  6.1965408e-03\n",
            "  6.1334665e-03 -1.4356803e-03  5.3297998e-03 -8.2028359e-03\n",
            "  6.2181321e-03 -7.8128250e-03  3.7188784e-03  4.6065841e-03\n",
            "  7.6870932e-03  2.6736439e-03  2.2319097e-03  4.1340990e-03\n",
            "  5.3271314e-04 -6.4658346e-03  8.8039003e-03  2.9810872e-03\n",
            " -4.2359098e-03 -8.3244760e-03 -5.0227698e-03 -8.5605532e-03\n",
            " -1.1408483e-03 -8.7543288e-03 -2.6847403e-03  4.2281612e-05\n",
            "  2.9002348e-04  7.8156432e-03]\n"
          ]
        }
      ],
      "source": [
        "print(model.infer_vector(['БобышкаБП', '1', ' М', '20Х1,5(17ГС)']))"
      ]
    },
    {
      "cell_type": "code",
      "execution_count": null,
      "metadata": {
        "id": "D1LhtkjTQb-u"
      },
      "outputs": [],
      "source": [
        "data['vector'] = data['text'].apply(lambda x: model.infer_vector(x.split(' ')))"
      ]
    },
    {
      "cell_type": "code",
      "execution_count": null,
      "metadata": {
        "id": "UH853ovoQb-w",
        "outputId": "cd6a1fae-3553-4d8e-b92e-2622e1896a06",
        "colab": {
          "base_uri": "https://localhost:8080/",
          "height": 423
        }
      },
      "outputs": [
        {
          "output_type": "execute_result",
          "data": {
            "text/plain": [
              "                                                   text  \\\n",
              "0     Вагон-платформа 4-х осная универсальная модели...   \n",
              "1     Блок водораспределительный напорный БВРН-02-20...   \n",
              "2     Блок водораспределительный напорный БВРН-02-20...   \n",
              "3     БЛОК ДОЗИРОВАНИЯ РЕАГЕНТОВ БДР-ОЗНА-ДОЗАТОР-1-...   \n",
              "4                  БЛОК ДОЗИРОВАНИЯ РЕАГЕНТОВ БДР-2/1/2   \n",
              "...                                                 ...   \n",
              "8238                                   ГИДРОПРИВОД ГП-1   \n",
              "8239                     ПРУЖИНА ОСНОВНАЯ МПК 10В-75-39   \n",
              "8240                          Регулятор расхода МПК-10В   \n",
              "8241                              Мембрана 3145.000.222   \n",
              "8242                УСТАНОВКА ДОЗИРУЮЩАЯ РЕАГЕНТ УДР-01   \n",
              "\n",
              "                                                 vector  \n",
              "0     [-0.0038907116, -0.008592305, -0.0008693999, -...  \n",
              "1     [0.004745201, -0.0012303871, -0.0069597797, 0....  \n",
              "2     [0.005166156, 0.0033368443, -0.0059685176, -0....  \n",
              "3     [-0.008337457, 0.008845418, 0.006042708, -0.00...  \n",
              "4     [0.009648183, 0.009783902, -0.00012783495, -0....  \n",
              "...                                                 ...  \n",
              "8238  [-0.0066952626, -0.0050855097, -0.0046117837, ...  \n",
              "8239  [0.0037205748, 0.008921426, -0.0036352302, 0.0...  \n",
              "8240  [-0.0065668374, -0.00023193726, 0.009310104, -...  \n",
              "8241  [-0.00034676542, -0.001739458, 0.0036624784, 0...  \n",
              "8242  [-0.009143685, 0.0015314184, -0.002110828, 0.0...  \n",
              "\n",
              "[8243 rows x 2 columns]"
            ],
            "text/html": [
              "\n",
              "  <div id=\"df-d360d3ab-5110-4f12-b14f-aa460f3d550e\">\n",
              "    <div class=\"colab-df-container\">\n",
              "      <div>\n",
              "<style scoped>\n",
              "    .dataframe tbody tr th:only-of-type {\n",
              "        vertical-align: middle;\n",
              "    }\n",
              "\n",
              "    .dataframe tbody tr th {\n",
              "        vertical-align: top;\n",
              "    }\n",
              "\n",
              "    .dataframe thead th {\n",
              "        text-align: right;\n",
              "    }\n",
              "</style>\n",
              "<table border=\"1\" class=\"dataframe\">\n",
              "  <thead>\n",
              "    <tr style=\"text-align: right;\">\n",
              "      <th></th>\n",
              "      <th>text</th>\n",
              "      <th>vector</th>\n",
              "    </tr>\n",
              "  </thead>\n",
              "  <tbody>\n",
              "    <tr>\n",
              "      <th>0</th>\n",
              "      <td>Вагон-платформа 4-х осная универсальная модели...</td>\n",
              "      <td>[-0.0038907116, -0.008592305, -0.0008693999, -...</td>\n",
              "    </tr>\n",
              "    <tr>\n",
              "      <th>1</th>\n",
              "      <td>Блок водораспределительный напорный БВРН-02-20...</td>\n",
              "      <td>[0.004745201, -0.0012303871, -0.0069597797, 0....</td>\n",
              "    </tr>\n",
              "    <tr>\n",
              "      <th>2</th>\n",
              "      <td>Блок водораспределительный напорный БВРН-02-20...</td>\n",
              "      <td>[0.005166156, 0.0033368443, -0.0059685176, -0....</td>\n",
              "    </tr>\n",
              "    <tr>\n",
              "      <th>3</th>\n",
              "      <td>БЛОК ДОЗИРОВАНИЯ РЕАГЕНТОВ БДР-ОЗНА-ДОЗАТОР-1-...</td>\n",
              "      <td>[-0.008337457, 0.008845418, 0.006042708, -0.00...</td>\n",
              "    </tr>\n",
              "    <tr>\n",
              "      <th>4</th>\n",
              "      <td>БЛОК ДОЗИРОВАНИЯ РЕАГЕНТОВ БДР-2/1/2</td>\n",
              "      <td>[0.009648183, 0.009783902, -0.00012783495, -0....</td>\n",
              "    </tr>\n",
              "    <tr>\n",
              "      <th>...</th>\n",
              "      <td>...</td>\n",
              "      <td>...</td>\n",
              "    </tr>\n",
              "    <tr>\n",
              "      <th>8238</th>\n",
              "      <td>ГИДРОПРИВОД ГП-1</td>\n",
              "      <td>[-0.0066952626, -0.0050855097, -0.0046117837, ...</td>\n",
              "    </tr>\n",
              "    <tr>\n",
              "      <th>8239</th>\n",
              "      <td>ПРУЖИНА ОСНОВНАЯ МПК 10В-75-39</td>\n",
              "      <td>[0.0037205748, 0.008921426, -0.0036352302, 0.0...</td>\n",
              "    </tr>\n",
              "    <tr>\n",
              "      <th>8240</th>\n",
              "      <td>Регулятор расхода МПК-10В</td>\n",
              "      <td>[-0.0065668374, -0.00023193726, 0.009310104, -...</td>\n",
              "    </tr>\n",
              "    <tr>\n",
              "      <th>8241</th>\n",
              "      <td>Мембрана 3145.000.222</td>\n",
              "      <td>[-0.00034676542, -0.001739458, 0.0036624784, 0...</td>\n",
              "    </tr>\n",
              "    <tr>\n",
              "      <th>8242</th>\n",
              "      <td>УСТАНОВКА ДОЗИРУЮЩАЯ РЕАГЕНТ УДР-01</td>\n",
              "      <td>[-0.009143685, 0.0015314184, -0.002110828, 0.0...</td>\n",
              "    </tr>\n",
              "  </tbody>\n",
              "</table>\n",
              "<p>8243 rows × 2 columns</p>\n",
              "</div>\n",
              "      <button class=\"colab-df-convert\" onclick=\"convertToInteractive('df-d360d3ab-5110-4f12-b14f-aa460f3d550e')\"\n",
              "              title=\"Convert this dataframe to an interactive table.\"\n",
              "              style=\"display:none;\">\n",
              "        \n",
              "  <svg xmlns=\"http://www.w3.org/2000/svg\" height=\"24px\"viewBox=\"0 0 24 24\"\n",
              "       width=\"24px\">\n",
              "    <path d=\"M0 0h24v24H0V0z\" fill=\"none\"/>\n",
              "    <path d=\"M18.56 5.44l.94 2.06.94-2.06 2.06-.94-2.06-.94-.94-2.06-.94 2.06-2.06.94zm-11 1L8.5 8.5l.94-2.06 2.06-.94-2.06-.94L8.5 2.5l-.94 2.06-2.06.94zm10 10l.94 2.06.94-2.06 2.06-.94-2.06-.94-.94-2.06-.94 2.06-2.06.94z\"/><path d=\"M17.41 7.96l-1.37-1.37c-.4-.4-.92-.59-1.43-.59-.52 0-1.04.2-1.43.59L10.3 9.45l-7.72 7.72c-.78.78-.78 2.05 0 2.83L4 21.41c.39.39.9.59 1.41.59.51 0 1.02-.2 1.41-.59l7.78-7.78 2.81-2.81c.8-.78.8-2.07 0-2.86zM5.41 20L4 18.59l7.72-7.72 1.47 1.35L5.41 20z\"/>\n",
              "  </svg>\n",
              "      </button>\n",
              "      \n",
              "  <style>\n",
              "    .colab-df-container {\n",
              "      display:flex;\n",
              "      flex-wrap:wrap;\n",
              "      gap: 12px;\n",
              "    }\n",
              "\n",
              "    .colab-df-convert {\n",
              "      background-color: #E8F0FE;\n",
              "      border: none;\n",
              "      border-radius: 50%;\n",
              "      cursor: pointer;\n",
              "      display: none;\n",
              "      fill: #1967D2;\n",
              "      height: 32px;\n",
              "      padding: 0 0 0 0;\n",
              "      width: 32px;\n",
              "    }\n",
              "\n",
              "    .colab-df-convert:hover {\n",
              "      background-color: #E2EBFA;\n",
              "      box-shadow: 0px 1px 2px rgba(60, 64, 67, 0.3), 0px 1px 3px 1px rgba(60, 64, 67, 0.15);\n",
              "      fill: #174EA6;\n",
              "    }\n",
              "\n",
              "    [theme=dark] .colab-df-convert {\n",
              "      background-color: #3B4455;\n",
              "      fill: #D2E3FC;\n",
              "    }\n",
              "\n",
              "    [theme=dark] .colab-df-convert:hover {\n",
              "      background-color: #434B5C;\n",
              "      box-shadow: 0px 1px 3px 1px rgba(0, 0, 0, 0.15);\n",
              "      filter: drop-shadow(0px 1px 2px rgba(0, 0, 0, 0.3));\n",
              "      fill: #FFFFFF;\n",
              "    }\n",
              "  </style>\n",
              "\n",
              "      <script>\n",
              "        const buttonEl =\n",
              "          document.querySelector('#df-d360d3ab-5110-4f12-b14f-aa460f3d550e button.colab-df-convert');\n",
              "        buttonEl.style.display =\n",
              "          google.colab.kernel.accessAllowed ? 'block' : 'none';\n",
              "\n",
              "        async function convertToInteractive(key) {\n",
              "          const element = document.querySelector('#df-d360d3ab-5110-4f12-b14f-aa460f3d550e');\n",
              "          const dataTable =\n",
              "            await google.colab.kernel.invokeFunction('convertToInteractive',\n",
              "                                                     [key], {});\n",
              "          if (!dataTable) return;\n",
              "\n",
              "          const docLinkHtml = 'Like what you see? Visit the ' +\n",
              "            '<a target=\"_blank\" href=https://colab.research.google.com/notebooks/data_table.ipynb>data table notebook</a>'\n",
              "            + ' to learn more about interactive tables.';\n",
              "          element.innerHTML = '';\n",
              "          dataTable['output_type'] = 'display_data';\n",
              "          await google.colab.output.renderOutput(dataTable, element);\n",
              "          const docLink = document.createElement('div');\n",
              "          docLink.innerHTML = docLinkHtml;\n",
              "          element.appendChild(docLink);\n",
              "        }\n",
              "      </script>\n",
              "    </div>\n",
              "  </div>\n",
              "  "
            ]
          },
          "metadata": {},
          "execution_count": 18
        }
      ],
      "source": [
        "data[['text', 'vector']]"
      ]
    },
    {
      "cell_type": "markdown",
      "metadata": {
        "id": "M6WwSUxOQb-x"
      },
      "source": [
        "ОТБОР ПРИМЕРОВ ДЛЯ РАЗМЕТКИ"
      ]
    },
    {
      "cell_type": "code",
      "execution_count": null,
      "metadata": {
        "id": "FVaezFx4Qb-0"
      },
      "outputs": [],
      "source": [
        "from scipy.spatial import distance"
      ]
    },
    {
      "cell_type": "code",
      "execution_count": null,
      "metadata": {
        "id": "6CwC_LipQb-5"
      },
      "outputs": [],
      "source": [
        "# чтобы посчитать время поиска одной строки\n",
        "import time\n",
        "\n",
        "\n",
        "uniq_vecs = [\n",
        "    {\n",
        "    'index': data.index[0],\n",
        "    'vector': data['vector'].tolist()[0],\n",
        "    'text': data['text'].tolist()[0]\n",
        "    } #создаем хранилище для отобранных примеров\n",
        "] \n",
        "vec_distances = {} #записываем, чтобы запомнить расстояние между векторами\n",
        "\n",
        "print(data['text'].tolist()[0])\n",
        "for i in range(0, 150): #запускаем цикл на 150 примеров\n",
        "    tic = time.perf_counter() #запускаем таймер\n",
        "    \n",
        "    max_dist = 0 #сюда записываем максимальную дистанцию между векторами\n",
        "    candidate = {\n",
        "        'index': data.index[0],\n",
        "        'vector': data['vector'].tolist()[0],\n",
        "        'text': data['text'].tolist()[0]\n",
        "    }\n",
        "    for ind, item in data.iterrows():\n",
        "        vec = {\n",
        "            'index': ind,\n",
        "            'vector': item['vector'],\n",
        "            'text': item['text']\n",
        "        }\n",
        "        if ind in vec_distances:\n",
        "            vec_distances[ind] += distance.cosine(vec['vector'], uniq_vecs[-1]['vector'])\n",
        "        else:\n",
        "            vec_distances[ind] = distance.cosine(vec['vector'], uniq_vecs[0]['vector'])\n",
        "        \n",
        "        if vec_distances[ind] > max_dist:\n",
        "            max_dist = vec_distances[ind]\n",
        "            candidate = vec\n",
        "    uniq_vecs.append(candidate)\n",
        "    toc = time.perf_counter() #выключаем таймер\n",
        "    print(candidate['text'], f\"Вычисление заняло {toc - tic:0.2f} секунд\")\n"
      ]
    },
    {
      "cell_type": "code",
      "execution_count": null,
      "metadata": {
        "id": "kfgc7_J6Qb-9"
      },
      "outputs": [],
      "source": [
        "uniq_df = pd.DataFrame(uniq_vecs)\n",
        "ready_data = uniq_df['text']"
      ]
    },
    {
      "cell_type": "code",
      "execution_count": null,
      "metadata": {
        "id": "EBlrByzlQb_A"
      },
      "outputs": [],
      "source": [
        "ready_data.to_csv(path_or_buf=\"ready_g09.csv\",sep=\",\", encoding = \"utf-8\")"
      ]
    },
    {
      "cell_type": "code",
      "execution_count": null,
      "metadata": {
        "id": "U-Y5ZEcCQb_B"
      },
      "outputs": [],
      "source": []
    }
  ],
  "metadata": {
    "kernelspec": {
      "display_name": "Python 3",
      "language": "python",
      "name": "python3"
    },
    "language_info": {
      "codemirror_mode": {
        "name": "ipython",
        "version": 3
      },
      "file_extension": ".py",
      "mimetype": "text/x-python",
      "name": "python",
      "nbconvert_exporter": "python",
      "pygments_lexer": "ipython3",
      "version": "3.7.6"
    },
    "colab": {
      "provenance": [],
      "include_colab_link": true
    },
    "accelerator": "GPU"
  },
  "nbformat": 4,
  "nbformat_minor": 0
}
